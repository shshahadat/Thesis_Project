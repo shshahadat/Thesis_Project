{
  "nbformat": 4,
  "nbformat_minor": 0,
  "metadata": {
    "colab": {
      "provenance": [],
      "gpuType": "T4"
    },
    "kernelspec": {
      "name": "python3",
      "display_name": "Python 3"
    },
    "language_info": {
      "name": "python"
    },
    "accelerator": "GPU"
  },
  "cells": [
    {
      "cell_type": "code",
      "source": [
        "import os\n",
        "import cv2\n",
        "import numpy as np\n",
        "from sklearn.model_selection import train_test_split\n",
        "from tensorflow.keras.preprocessing.image import ImageDataGenerator\n",
        "from tensorflow.keras.models import Sequential\n",
        "from tensorflow.keras.layers import Flatten, Dense\n",
        "from tensorflow.keras.applications import VGG19\n",
        "from tensorflow.keras.optimizers import Adam\n",
        "from sklearn.preprocessing import LabelEncoder"
      ],
      "metadata": {
        "id": "ty2_3Nt1AIS1"
      },
      "execution_count": 3,
      "outputs": []
    },
    {
      "cell_type": "code",
      "source": [
        "# Set the path to your dataset folder in Google Drive\n",
        "dataset_path = \"/content/drive/MyDrive/Training-20240125T151729Z-001/Training\""
      ],
      "metadata": {
        "id": "dqoO7jJ_AKMc"
      },
      "execution_count": 4,
      "outputs": []
    },
    {
      "cell_type": "code",
      "source": [
        "\n",
        "# Set the target size for image resizing\n",
        "target_size = (224, 224)\n",
        "\n",
        "# Initialize empty lists to store images and labels\n",
        "images = []\n",
        "labels = []\n",
        "\n",
        "# Loop through each tumor type folder\n",
        "for tumor_type in os.listdir(dataset_path):\n",
        "    tumor_type_path = os.path.join(dataset_path, tumor_type)\n",
        "\n",
        "    # Loop through each image in the tumor type folder\n",
        "    for image_file in os.listdir(tumor_type_path):\n",
        "        image_path = os.path.join(tumor_type_path, image_file)\n",
        "\n",
        "        # Read the image using OpenCV\n",
        "        img = cv2.imread(image_path)\n",
        "\n",
        "        # Apply unsharp mask filter\n",
        "        blurred = cv2.GaussianBlur(img, (0, 0), 3)\n",
        "        img = cv2.addWeighted(img, 1.5, blurred, -0.5, 0)\n",
        "\n",
        "        # Resize the image to the target size\n",
        "        img = cv2.resize(img, target_size)\n",
        "\n",
        "        # Append the original image and label to the lists\n",
        "        images.append(img)\n",
        "        labels.append(tumor_type)\n",
        "\n",
        "        # Data Augmentation\n",
        "        datagen = ImageDataGenerator(\n",
        "            horizontal_flip=True,\n",
        "            rotation_range=20,\n",
        "            zoom_range=0.2,\n",
        "            height_shift_range=0.2,\n",
        "            width_shift_range=0.2,\n",
        "            shear_range=0.2,\n",
        "            fill_mode='nearest'\n",
        "        )\n",
        "\n",
        "        # Generate augmented images and append them to the lists\n",
        "        augmented_images = [datagen.random_transform(img) for _ in range(1)]  # Generate 2 augmented images per original\n",
        "        images.extend(augmented_images)\n",
        "        labels.extend([tumor_type] * len(augmented_images))"
      ],
      "metadata": {
        "id": "QX75dlVIAKWQ"
      },
      "execution_count": 5,
      "outputs": []
    },
    {
      "cell_type": "code",
      "source": [],
      "metadata": {
        "id": "79rGFaYxAKdZ"
      },
      "execution_count": 5,
      "outputs": []
    },
    {
      "cell_type": "code",
      "source": [
        "\n",
        "\n",
        "# Convert lists to NumPy arrays for model training\n",
        "X = np.array(images)\n",
        "y = np.array(labels)\n",
        "\n"
      ],
      "metadata": {
        "id": "RdyCHRF_AKgx"
      },
      "execution_count": 6,
      "outputs": []
    },
    {
      "cell_type": "code",
      "source": [
        "# Print the shape of X and y to check\n",
        "print(\"Shape of X:\", X.shape)\n",
        "print(\"Shape of y:\", y.shape)"
      ],
      "metadata": {
        "colab": {
          "base_uri": "https://localhost:8080/"
        },
        "id": "Ij-vmSXGBLYP",
        "outputId": "3354e2c5-c0e4-413d-d233-69f4bbd92aec"
      },
      "execution_count": 7,
      "outputs": [
        {
          "output_type": "stream",
          "name": "stdout",
          "text": [
            "Shape of X: (9358, 224, 224, 3)\n",
            "Shape of y: (9358,)\n"
          ]
        }
      ]
    },
    {
      "cell_type": "code",
      "source": [
        "from tensorflow.keras.models import Sequential\n",
        "from tensorflow.keras.layers import Conv2D, MaxPooling2D, Flatten, Dense\n",
        "from sklearn.model_selection import train_test_split"
      ],
      "metadata": {
        "id": "TvLM7JTyBLbI"
      },
      "execution_count": 8,
      "outputs": []
    },
    {
      "cell_type": "code",
      "source": [
        "# Split the data into training and validation sets\n",
        "X_train, X_val, y_train, y_val = train_test_split(X, y, test_size=0.2, random_state=42)"
      ],
      "metadata": {
        "id": "WWh639D3BLdc"
      },
      "execution_count": 9,
      "outputs": []
    },
    {
      "cell_type": "code",
      "source": [
        "from tensorflow.keras.models import Sequential\n",
        "from tensorflow.keras.layers import Conv2D, MaxPooling2D, Flatten, Dense\n",
        "from sklearn.model_selection import train_test_split\n",
        "from sklearn.preprocessing import LabelEncoder\n",
        "\n",
        "# Convert labels to integers\n",
        "label_encoder = LabelEncoder()\n",
        "y_train_encoded = label_encoder.fit_transform(y_train)\n",
        "y_val_encoded = label_encoder.transform(y_val)"
      ],
      "metadata": {
        "id": "2b6jS3SiBLfy"
      },
      "execution_count": 10,
      "outputs": []
    },
    {
      "cell_type": "code",
      "source": [
        "base_model = VGG19(weights='imagenet', include_top=False, input_shape=(224, 224, 3))\n",
        "\n",
        "for layer in base_model.layers:\n",
        "    layer.trainable = False\n",
        "\n",
        "model = Sequential()\n",
        "model.add(base_model)\n",
        "model.add(Flatten())\n",
        "model.add(Dense(128, activation='relu'))\n",
        "model.add(Dense(4, activation='softmax'))  # Assuming there are 6 classes\n"
      ],
      "metadata": {
        "id": "MKwsmmJRBLiT",
        "colab": {
          "base_uri": "https://localhost:8080/"
        },
        "outputId": "69df823f-c40f-47e4-f289-0b2f23f2cf89"
      },
      "execution_count": 11,
      "outputs": [
        {
          "output_type": "stream",
          "name": "stdout",
          "text": [
            "Downloading data from https://storage.googleapis.com/tensorflow/keras-applications/vgg19/vgg19_weights_tf_dim_ordering_tf_kernels_notop.h5\n",
            "80134624/80134624 [==============================] - 3s 0us/step\n"
          ]
        }
      ]
    },
    {
      "cell_type": "code",
      "source": [
        "model.compile(optimizer=Adam(), loss='sparse_categorical_crossentropy', metrics=['accuracy'])"
      ],
      "metadata": {
        "id": "CDUeH7QtBLls"
      },
      "execution_count": 12,
      "outputs": []
    },
    {
      "cell_type": "code",
      "source": [
        "history = model.fit(X_train, y_train_encoded, epochs=32, batch_size=16, validation_data=(X_val, y_val_encoded))\n"
      ],
      "metadata": {
        "colab": {
          "base_uri": "https://localhost:8080/"
        },
        "id": "y_LvrAVDBc7X",
        "outputId": "c93e73d2-b905-4655-a1a7-8b521d4c5629"
      },
      "execution_count": 13,
      "outputs": [
        {
          "output_type": "stream",
          "name": "stdout",
          "text": [
            "Epoch 1/32\n",
            "468/468 [==============================] - 54s 101ms/step - loss: 1.7485 - accuracy: 0.7700 - val_loss: 0.4487 - val_accuracy: 0.8467\n",
            "Epoch 2/32\n",
            "468/468 [==============================] - 45s 97ms/step - loss: 0.2815 - accuracy: 0.9060 - val_loss: 0.3587 - val_accuracy: 0.8894\n",
            "Epoch 3/32\n",
            "468/468 [==============================] - 45s 96ms/step - loss: 0.1785 - accuracy: 0.9373 - val_loss: 0.3978 - val_accuracy: 0.8755\n",
            "Epoch 4/32\n",
            "468/468 [==============================] - 46s 98ms/step - loss: 0.1214 - accuracy: 0.9585 - val_loss: 0.3868 - val_accuracy: 0.8958\n",
            "Epoch 5/32\n",
            "468/468 [==============================] - 48s 102ms/step - loss: 0.0840 - accuracy: 0.9714 - val_loss: 0.3910 - val_accuracy: 0.9054\n",
            "Epoch 6/32\n",
            "468/468 [==============================] - 47s 101ms/step - loss: 0.0601 - accuracy: 0.9786 - val_loss: 0.4381 - val_accuracy: 0.8969\n",
            "Epoch 7/32\n",
            "468/468 [==============================] - 48s 103ms/step - loss: 0.0750 - accuracy: 0.9752 - val_loss: 0.4590 - val_accuracy: 0.8873\n",
            "Epoch 8/32\n",
            "468/468 [==============================] - 47s 101ms/step - loss: 0.0785 - accuracy: 0.9741 - val_loss: 0.4448 - val_accuracy: 0.8868\n",
            "Epoch 9/32\n",
            "468/468 [==============================] - 48s 103ms/step - loss: 0.0624 - accuracy: 0.9802 - val_loss: 0.5834 - val_accuracy: 0.8910\n",
            "Epoch 10/32\n",
            "468/468 [==============================] - 48s 103ms/step - loss: 0.0431 - accuracy: 0.9858 - val_loss: 0.5050 - val_accuracy: 0.9129\n",
            "Epoch 11/32\n",
            "468/468 [==============================] - 48s 103ms/step - loss: 0.0321 - accuracy: 0.9908 - val_loss: 0.4238 - val_accuracy: 0.9071\n",
            "Epoch 12/32\n",
            "468/468 [==============================] - 47s 101ms/step - loss: 0.0420 - accuracy: 0.9868 - val_loss: 0.6374 - val_accuracy: 0.8942\n",
            "Epoch 13/32\n",
            "468/468 [==============================] - 47s 101ms/step - loss: 0.0605 - accuracy: 0.9826 - val_loss: 0.5887 - val_accuracy: 0.9038\n",
            "Epoch 14/32\n",
            "468/468 [==============================] - 47s 101ms/step - loss: 0.0355 - accuracy: 0.9885 - val_loss: 0.5610 - val_accuracy: 0.9060\n",
            "Epoch 15/32\n",
            "468/468 [==============================] - 48s 103ms/step - loss: 0.0409 - accuracy: 0.9892 - val_loss: 0.5464 - val_accuracy: 0.9081\n",
            "Epoch 16/32\n",
            "468/468 [==============================] - 47s 101ms/step - loss: 0.0184 - accuracy: 0.9943 - val_loss: 0.6486 - val_accuracy: 0.9038\n",
            "Epoch 17/32\n",
            "468/468 [==============================] - 48s 103ms/step - loss: 0.0334 - accuracy: 0.9905 - val_loss: 0.4990 - val_accuracy: 0.9135\n",
            "Epoch 18/32\n",
            "468/468 [==============================] - 48s 103ms/step - loss: 0.0328 - accuracy: 0.9904 - val_loss: 0.5286 - val_accuracy: 0.9129\n",
            "Epoch 19/32\n",
            "468/468 [==============================] - 48s 102ms/step - loss: 0.0255 - accuracy: 0.9940 - val_loss: 0.6515 - val_accuracy: 0.9033\n",
            "Epoch 20/32\n",
            "468/468 [==============================] - 48s 103ms/step - loss: 0.0125 - accuracy: 0.9955 - val_loss: 0.7689 - val_accuracy: 0.8910\n",
            "Epoch 21/32\n",
            "468/468 [==============================] - 47s 101ms/step - loss: 0.0290 - accuracy: 0.9905 - val_loss: 0.6298 - val_accuracy: 0.9108\n",
            "Epoch 22/32\n",
            "468/468 [==============================] - 47s 101ms/step - loss: 0.0218 - accuracy: 0.9939 - val_loss: 0.7179 - val_accuracy: 0.9065\n",
            "Epoch 23/32\n",
            "468/468 [==============================] - 47s 101ms/step - loss: 0.0389 - accuracy: 0.9889 - val_loss: 0.6945 - val_accuracy: 0.9145\n",
            "Epoch 24/32\n",
            "468/468 [==============================] - 47s 101ms/step - loss: 0.0209 - accuracy: 0.9939 - val_loss: 0.7097 - val_accuracy: 0.9028\n",
            "Epoch 25/32\n",
            "468/468 [==============================] - 47s 101ms/step - loss: 0.0146 - accuracy: 0.9948 - val_loss: 0.8346 - val_accuracy: 0.9076\n",
            "Epoch 26/32\n",
            "468/468 [==============================] - 47s 101ms/step - loss: 0.0238 - accuracy: 0.9932 - val_loss: 0.7648 - val_accuracy: 0.8980\n",
            "Epoch 27/32\n",
            "468/468 [==============================] - 47s 101ms/step - loss: 0.0414 - accuracy: 0.9906 - val_loss: 0.7551 - val_accuracy: 0.9060\n",
            "Epoch 28/32\n",
            "468/468 [==============================] - 47s 101ms/step - loss: 0.0302 - accuracy: 0.9919 - val_loss: 0.6629 - val_accuracy: 0.9049\n",
            "Epoch 29/32\n",
            "468/468 [==============================] - 48s 103ms/step - loss: 0.0181 - accuracy: 0.9941 - val_loss: 0.7648 - val_accuracy: 0.9028\n",
            "Epoch 30/32\n",
            "468/468 [==============================] - 48s 103ms/step - loss: 0.0168 - accuracy: 0.9956 - val_loss: 0.7304 - val_accuracy: 0.9119\n",
            "Epoch 31/32\n",
            "468/468 [==============================] - 47s 101ms/step - loss: 0.0121 - accuracy: 0.9964 - val_loss: 0.8059 - val_accuracy: 0.9156\n",
            "Epoch 32/32\n",
            "468/468 [==============================] - 48s 103ms/step - loss: 0.0049 - accuracy: 0.9984 - val_loss: 0.8677 - val_accuracy: 0.9113\n"
          ]
        }
      ]
    },
    {
      "cell_type": "code",
      "source": [
        "from google.colab import drive\n",
        "drive.mount('/content/drive')"
      ],
      "metadata": {
        "colab": {
          "base_uri": "https://localhost:8080/"
        },
        "id": "lOKBgMR8MDIn",
        "outputId": "a8bdef6a-ee17-413b-e4ef-215f5bf747cb"
      },
      "execution_count": 14,
      "outputs": [
        {
          "output_type": "stream",
          "name": "stdout",
          "text": [
            "Drive already mounted at /content/drive; to attempt to forcibly remount, call drive.mount(\"/content/drive\", force_remount=True).\n"
          ]
        }
      ]
    },
    {
      "cell_type": "code",
      "source": [
        "import matplotlib.pyplot as plt"
      ],
      "metadata": {
        "id": "kQrsjLGqL6NW"
      },
      "execution_count": 15,
      "outputs": []
    },
    {
      "cell_type": "code",
      "source": [
        "# Plotting accuracy\n",
        "plt.figure(figsize=(12, 6))\n",
        "plt.subplot(1, 2, 1)\n",
        "epochs = range(1, len(history.history['accuracy']) + 1)\n",
        "plt.plot(epochs, history.history['accuracy'], label='Training Accuracy')\n",
        "plt.plot(epochs, history.history['val_accuracy'], label='Validation Accuracy')\n",
        "plt.title('Training and Validation Accuracy')\n",
        "plt.xlabel('Epoch')\n",
        "plt.ylabel('Accuracy')\n",
        "plt.legend()\n",
        "\n",
        "# Plotting loss\n",
        "plt.subplot(1, 2, 2)\n",
        "plt.plot(epochs, history.history['loss'], label='Training Loss')\n",
        "plt.plot(epochs, history.history['val_loss'], label='Validation Loss')\n",
        "plt.title('Training and Validation Loss')\n",
        "plt.xlabel('Epoch')\n",
        "plt.ylabel('Loss')\n",
        "plt.legend()\n",
        "\n",
        "# Show the plots\n",
        "plt.tight_layout()\n",
        "plt.show()\n"
      ],
      "metadata": {
        "colab": {
          "base_uri": "https://localhost:8080/",
          "height": 607
        },
        "id": "OFrro7fDL9tu",
        "outputId": "abd27455-6356-430c-9fd1-b11ccb0595f9"
      },
      "execution_count": 16,
      "outputs": [
        {
          "output_type": "display_data",
          "data": {
            "text/plain": [
              "<Figure size 1200x600 with 2 Axes>"
            ],
            "image/png": "[encoded data removed]"
          },
          "metadata": {}
        }
      ]
    },
    {
      "cell_type": "code",
      "source": [
        "from sklearn.ensemble import RandomForestClassifier\n",
        "from sklearn import metrics"
      ],
      "metadata": {
        "id": "E3PmVhhVBc-E"
      },
      "execution_count": 17,
      "outputs": []
    },
    {
      "cell_type": "code",
      "source": [
        "# Extract features using the CNN model\n",
        "X_train_features = model.predict(X_train)\n",
        "X_val_features = model.predict(X_val)"
      ],
      "metadata": {
        "colab": {
          "base_uri": "https://localhost:8080/"
        },
        "id": "B_TV7mnPBdAt",
        "outputId": "34de4888-3e36-43aa-8ea7-329b6d49c975"
      },
      "execution_count": 18,
      "outputs": [
        {
          "output_type": "stream",
          "name": "stdout",
          "text": [
            "234/234 [==============================] - 47s 175ms/step\n",
            "59/59 [==============================] - 9s 151ms/step\n"
          ]
        }
      ]
    },
    {
      "cell_type": "code",
      "source": [
        "# Reshape data for Random Forest\n",
        "X_train_flatten = X_train_features.reshape(X_train_features.shape[0], -1)\n",
        "X_val_flatten = X_val_features.reshape(X_val_features.shape[0], -1)"
      ],
      "metadata": {
        "id": "186IhYsOBdDY"
      },
      "execution_count": 19,
      "outputs": []
    },
    {
      "cell_type": "code",
      "source": [
        "# Initialize Random Forest classifier\n",
        "random_forest_classifier = RandomForestClassifier(n_estimators=50, random_state=42)\n",
        "\n",
        "# Train Random Forest classifier\n",
        "random_forest_classifier.fit(X_train_flatten, y_train_encoded)\n",
        "\n",
        "# Make predictions on validation set\n",
        "random_forest_predictions = random_forest_classifier.predict(X_val_flatten)\n",
        "\n",
        "# Evaluate performance\n",
        "random_forest_accuracy = metrics.accuracy_score(y_val_encoded, random_forest_predictions)\n",
        "random_forest_precision = metrics.precision_score(y_val_encoded, random_forest_predictions, average='weighted')\n",
        "random_forest_recall = metrics.recall_score(y_val_encoded, random_forest_predictions, average='weighted')\n",
        "random_forest_f1 = metrics.f1_score(y_val_encoded, random_forest_predictions, average='weighted')\n",
        "\n",
        "# Print results\n",
        "print(\"Random Forest (on CNN features): Accuracy = {:.4f}, Precision = {:.4f}, Recall = {:.4f}, F1 Score = {:.4f}\".format(random_forest_accuracy, random_forest_precision, random_forest_recall, random_forest_f1))"
      ],
      "metadata": {
        "colab": {
          "base_uri": "https://localhost:8080/"
        },
        "id": "dzTblNOSBmT6",
        "outputId": "160bfa26-3e0a-4c73-9407-359202cf370e"
      },
      "execution_count": 20,
      "outputs": [
        {
          "output_type": "stream",
          "name": "stdout",
          "text": [
            "Random Forest (on CNN features): Accuracy = 0.9076, Precision = 0.9078, Recall = 0.9076, F1 Score = 0.9076\n"
          ]
        }
      ]
    },
    {
      "cell_type": "code",
      "source": [
        "from sklearn.neighbors import KNeighborsClassifier\n",
        "# Initialize k-NN classifier\n",
        "knn_classifier = KNeighborsClassifier(n_neighbors=5)  # You can adjust the number of neighbors as needed\n",
        "\n",
        "# Train k-NN classifier\n",
        "knn_classifier.fit(X_train_flatten, y_train_encoded)\n",
        "\n",
        "# Make predictions on the validation set\n",
        "knn_predictions = knn_classifier.predict(X_val_flatten)\n",
        "\n",
        "# Evaluate performance\n",
        "knn_accuracy = metrics.accuracy_score(y_val_encoded, knn_predictions)\n",
        "knn_precision = metrics.precision_score(y_val_encoded, knn_predictions, average='weighted')\n",
        "knn_recall = metrics.recall_score(y_val_encoded, knn_predictions, average='weighted')\n",
        "knn_f1 = metrics.f1_score(y_val_encoded, knn_predictions, average='weighted')\n",
        "\n",
        "# Print results for k-NN\n",
        "print(\"k-Nearest Neighbors (on CNN features): Accuracy = {:.4f}, Precision = {:.4f}, Recall = {:.4f}, F1 Score = {:.4f}\".format(knn_accuracy, knn_precision, knn_recall, knn_f1))\n"
      ],
      "metadata": {
        "colab": {
          "base_uri": "https://localhost:8080/"
        },
        "id": "gNJsFr9TBmWU",
        "outputId": "0d149fd7-0988-4b36-de19-18cfe27c41a5"
      },
      "execution_count": 21,
      "outputs": [
        {
          "output_type": "stream",
          "name": "stdout",
          "text": [
            "k-Nearest Neighbors (on CNN features): Accuracy = 0.9103, Precision = 0.9105, Recall = 0.9103, F1 Score = 0.9102\n"
          ]
        }
      ]
    },
    {
      "cell_type": "code",
      "source": [
        "from sklearn.ensemble import AdaBoostClassifier\n",
        "# Initialize AdaBoost classifier with a decision tree base estimator\n",
        "adaboost_classifier = AdaBoostClassifier(n_estimators=50, random_state=42)\n",
        "\n",
        "# Train AdaBoost classifier\n",
        "adaboost_classifier.fit(X_train_flatten, y_train_encoded)\n",
        "\n",
        "# Make predictions on the validation set\n",
        "adaboost_predictions = adaboost_classifier.predict(X_val_flatten)\n",
        "\n",
        "# Evaluate performance\n",
        "adaboost_accuracy = metrics.accuracy_score(y_val_encoded, adaboost_predictions)\n",
        "adaboost_precision = metrics.precision_score(y_val_encoded, adaboost_predictions, average='weighted')\n",
        "adaboost_recall = metrics.recall_score(y_val_encoded, adaboost_predictions, average='weighted')\n",
        "adaboost_f1 = metrics.f1_score(y_val_encoded, adaboost_predictions, average='weighted')\n",
        "\n",
        "# Print results for AdaBoost\n",
        "print(\"AdaBoost (on CNN features): Accuracy = {:.4f}, Precision = {:.4f}, Recall = {:.4f}, F1 Score = {:.4f}\".format(adaboost_accuracy, adaboost_precision, adaboost_recall, adaboost_f1))\n"
      ],
      "metadata": {
        "colab": {
          "base_uri": "https://localhost:8080/"
        },
        "id": "gYx1L3mEBmY5",
        "outputId": "5df09690-2e64-43f7-811b-20d12c1702c6"
      },
      "execution_count": 22,
      "outputs": [
        {
          "output_type": "stream",
          "name": "stdout",
          "text": [
            "AdaBoost (on CNN features): Accuracy = 0.9087, Precision = 0.9086, Recall = 0.9087, F1 Score = 0.9085\n"
          ]
        }
      ]
    },
    {
      "cell_type": "code",
      "source": [],
      "metadata": {
        "id": "hJyNhytYBmb8"
      },
      "execution_count": 22,
      "outputs": []
    },
    {
      "cell_type": "code",
      "source": [],
      "metadata": {
        "id": "QY9lKAJzBmfW"
      },
      "execution_count": 22,
      "outputs": []
    },
    {
      "cell_type": "code",
      "source": [],
      "metadata": {
        "id": "FB73wtEmBdGz"
      },
      "execution_count": 22,
      "outputs": []
    }
  ]
}