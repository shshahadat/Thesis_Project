{
  "nbformat": 4,
  "nbformat_minor": 0,
  "metadata": {
    "colab": {
      "provenance": [],
      "gpuType": "T4"
    },
    "kernelspec": {
      "name": "python3",
      "display_name": "Python 3"
    },
    "language_info": {
      "name": "python"
    },
    "accelerator": "GPU"
  },
  "cells": [
    {
      "cell_type": "code",
      "source": [
        "import os\n",
        "import cv2\n",
        "import numpy as np\n",
        "from sklearn.model_selection import train_test_split\n",
        "from tensorflow.keras.preprocessing.image import ImageDataGenerator"
      ],
      "metadata": {
        "id": "ty2_3Nt1AIS1"
      },
      "execution_count": 1,
      "outputs": []
    },
    {
      "cell_type": "code",
      "source": [
        "# Set the path to your dataset folder in Google Drive\n",
        "dataset_path = \"/content/drive/MyDrive/Training\""
      ],
      "metadata": {
        "id": "dqoO7jJ_AKMc"
      },
      "execution_count": 2,
      "outputs": []
    },
    {
      "cell_type": "code",
      "source": [
        "\n",
        "# Set the target size for image resizing\n",
        "target_size = (224, 224)\n",
        "\n",
        "# Initialize empty lists to store images and labels\n",
        "images = []\n",
        "labels = []\n",
        "\n",
        "# Loop through each tumor type folder\n",
        "for tumor_type in os.listdir(dataset_path):\n",
        "    tumor_type_path = os.path.join(dataset_path, tumor_type)\n",
        "\n",
        "    # Loop through each image in the tumor type folder\n",
        "    for image_file in os.listdir(tumor_type_path):\n",
        "        image_path = os.path.join(tumor_type_path, image_file)\n",
        "\n",
        "        # Read the image using OpenCV\n",
        "        img = cv2.imread(image_path)\n",
        "\n",
        "        # Apply unsharp mask filter\n",
        "        blurred = cv2.GaussianBlur(img, (0, 0), 3)\n",
        "        img = cv2.addWeighted(img, 1.5, blurred, -0.5, 0)\n",
        "\n",
        "        # Resize the image to the target size\n",
        "        img = cv2.resize(img, target_size)\n",
        "\n",
        "        # Append the original image and label to the lists\n",
        "        images.append(img)\n",
        "        labels.append(tumor_type)\n",
        "\n",
        "        # Data Augmentation\n",
        "        datagen = ImageDataGenerator(\n",
        "            horizontal_flip=True,\n",
        "            rotation_range=20,\n",
        "            zoom_range=0.2,\n",
        "            height_shift_range=0.2,\n",
        "            width_shift_range=0.2,\n",
        "            shear_range=0.2,\n",
        "            fill_mode='nearest'\n",
        "        )\n",
        "\n",
        "        # Generate augmented images and append them to the lists\n",
        "        augmented_images = [datagen.random_transform(img) for _ in range(1)]  # Generate 2 augmented images per original\n",
        "        images.extend(augmented_images)\n",
        "        labels.extend([tumor_type] * len(augmented_images))"
      ],
      "metadata": {
        "id": "QX75dlVIAKWQ"
      },
      "execution_count": 3,
      "outputs": []
    },
    {
      "cell_type": "code",
      "source": [
        "from google.colab import drive\n",
        "drive.mount('/content/drive')"
      ],
      "metadata": {
        "colab": {
          "base_uri": "https://localhost:8080/"
        },
        "id": "F4y-DtAaEg47",
        "outputId": "6947b7ec-8b3c-447c-dd72-6dd60f71ce03"
      },
      "execution_count": 4,
      "outputs": [
        {
          "output_type": "stream",
          "name": "stdout",
          "text": [
            "Drive already mounted at /content/drive; to attempt to forcibly remount, call drive.mount(\"/content/drive\", force_remount=True).\n"
          ]
        }
      ]
    },
    {
      "cell_type": "code",
      "source": [],
      "metadata": {
        "id": "79rGFaYxAKdZ"
      },
      "execution_count": 4,
      "outputs": []
    },
    {
      "cell_type": "code",
      "source": [
        "\n",
        "\n",
        "# Convert lists to NumPy arrays for model training\n",
        "X = np.array(images)\n",
        "y = np.array(labels)\n",
        "\n"
      ],
      "metadata": {
        "id": "RdyCHRF_AKgx"
      },
      "execution_count": 5,
      "outputs": []
    },
    {
      "cell_type": "code",
      "source": [
        "# Print the shape of X and y to check\n",
        "print(\"Shape of X:\", X.shape)\n",
        "print(\"Shape of y:\", y.shape)"
      ],
      "metadata": {
        "colab": {
          "base_uri": "https://localhost:8080/"
        },
        "id": "Ij-vmSXGBLYP",
        "outputId": "df7d2d44-8bbd-412b-fae4-eb8e5d6df8a5"
      },
      "execution_count": 6,
      "outputs": [
        {
          "output_type": "stream",
          "name": "stdout",
          "text": [
            "Shape of X: (9344, 224, 224, 3)\n",
            "Shape of y: (9344,)\n"
          ]
        }
      ]
    },
    {
      "cell_type": "code",
      "source": [
        "from tensorflow.keras.models import Sequential\n",
        "from tensorflow.keras.layers import Conv2D, MaxPooling2D, Flatten, Dense\n",
        "from sklearn.model_selection import train_test_split"
      ],
      "metadata": {
        "id": "TvLM7JTyBLbI"
      },
      "execution_count": 7,
      "outputs": []
    },
    {
      "cell_type": "code",
      "source": [
        "# Split the data into training and validation sets\n",
        "X_train, X_val, y_train, y_val = train_test_split(X, y, test_size=0.2, random_state=42)"
      ],
      "metadata": {
        "id": "WWh639D3BLdc"
      },
      "execution_count": 8,
      "outputs": []
    },
    {
      "cell_type": "code",
      "source": [
        "from tensorflow.keras.models import Sequential\n",
        "from tensorflow.keras.layers import Conv2D, MaxPooling2D, Flatten, Dense\n",
        "from sklearn.model_selection import train_test_split\n",
        "from sklearn.preprocessing import LabelEncoder\n",
        "\n",
        "# Convert labels to integers\n",
        "label_encoder = LabelEncoder()\n",
        "y_train_encoded = label_encoder.fit_transform(y_train)\n",
        "y_val_encoded = label_encoder.transform(y_val)"
      ],
      "metadata": {
        "id": "2b6jS3SiBLfy"
      },
      "execution_count": 9,
      "outputs": []
    },
    {
      "cell_type": "code",
      "source": [
        "# Define a simple CNN model for feature extraction\n",
        "model = Sequential()\n",
        "model.add(Conv2D(32, (3, 3), activation='relu', input_shape=(224, 224, 3)))\n",
        "model.add(MaxPooling2D((2, 2)))\n",
        "model.add(Conv2D(64, (3, 3), activation='relu'))\n",
        "model.add(MaxPooling2D((2, 2)))\n",
        "model.add(Conv2D(128, (3, 3), activation='relu'))\n",
        "model.add(MaxPooling2D((2, 2)))\n",
        "model.add(Flatten())"
      ],
      "metadata": {
        "id": "MKwsmmJRBLiT"
      },
      "execution_count": 10,
      "outputs": []
    },
    {
      "cell_type": "code",
      "source": [
        "# Add Dense layers for classification (adjust the number of units based on your classes)\n",
        "model.add(Dense(128, activation='relu'))\n",
        "model.add(Dense(4, activation='softmax'))  # Assuming there are 6 classes\n",
        "\n",
        "# Compile the model\n",
        "model.compile(optimizer='adam', loss='sparse_categorical_crossentropy', metrics=['accuracy'])"
      ],
      "metadata": {
        "id": "CDUeH7QtBLls"
      },
      "execution_count": 11,
      "outputs": []
    },
    {
      "cell_type": "code",
      "source": [
        "# Train the model with validation data\n",
        "history = model.fit(X_train, y_train_encoded, epochs=32, batch_size=16, validation_data=(X_val, y_val_encoded))"
      ],
      "metadata": {
        "colab": {
          "base_uri": "https://localhost:8080/"
        },
        "id": "y_LvrAVDBc7X",
        "outputId": "34dfcd22-8e15-4bb8-e8ae-588a3d0ecdaa"
      },
      "execution_count": 12,
      "outputs": [
        {
          "output_type": "stream",
          "name": "stdout",
          "text": [
            "Epoch 1/32\n",
            "468/468 [==============================] - 17s 29ms/step - loss: 5.2408 - accuracy: 0.5968 - val_loss: 0.8103 - val_accuracy: 0.6758\n",
            "Epoch 2/32\n",
            "468/468 [==============================] - 12s 26ms/step - loss: 0.6471 - accuracy: 0.7477 - val_loss: 0.7366 - val_accuracy: 0.7132\n",
            "Epoch 3/32\n",
            "468/468 [==============================] - 12s 26ms/step - loss: 0.4527 - accuracy: 0.8227 - val_loss: 0.8008 - val_accuracy: 0.7063\n",
            "Epoch 4/32\n",
            "468/468 [==============================] - 12s 26ms/step - loss: 0.2652 - accuracy: 0.9046 - val_loss: 0.9964 - val_accuracy: 0.7389\n",
            "Epoch 5/32\n",
            "468/468 [==============================] - 12s 26ms/step - loss: 0.1967 - accuracy: 0.9350 - val_loss: 1.0721 - val_accuracy: 0.7362\n",
            "Epoch 6/32\n",
            "468/468 [==============================] - 13s 27ms/step - loss: 0.1333 - accuracy: 0.9557 - val_loss: 1.2370 - val_accuracy: 0.7186\n",
            "Epoch 7/32\n",
            "468/468 [==============================] - 13s 27ms/step - loss: 0.0982 - accuracy: 0.9680 - val_loss: 1.1987 - val_accuracy: 0.7325\n",
            "Epoch 8/32\n",
            "468/468 [==============================] - 12s 26ms/step - loss: 0.0910 - accuracy: 0.9740 - val_loss: 1.4881 - val_accuracy: 0.6977\n",
            "Epoch 9/32\n",
            "468/468 [==============================] - 12s 26ms/step - loss: 0.0760 - accuracy: 0.9778 - val_loss: 1.7588 - val_accuracy: 0.7271\n",
            "Epoch 10/32\n",
            "468/468 [==============================] - 12s 26ms/step - loss: 0.1091 - accuracy: 0.9698 - val_loss: 1.5341 - val_accuracy: 0.7325\n",
            "Epoch 11/32\n",
            "468/468 [==============================] - 12s 26ms/step - loss: 0.0601 - accuracy: 0.9831 - val_loss: 1.5144 - val_accuracy: 0.7389\n",
            "Epoch 12/32\n",
            "468/468 [==============================] - 12s 26ms/step - loss: 0.0499 - accuracy: 0.9854 - val_loss: 2.2150 - val_accuracy: 0.7159\n",
            "Epoch 13/32\n",
            "468/468 [==============================] - 12s 26ms/step - loss: 0.1232 - accuracy: 0.9654 - val_loss: 1.7477 - val_accuracy: 0.7218\n",
            "Epoch 14/32\n",
            "468/468 [==============================] - 12s 26ms/step - loss: 0.0337 - accuracy: 0.9889 - val_loss: 1.9377 - val_accuracy: 0.7202\n",
            "Epoch 15/32\n",
            "468/468 [==============================] - 12s 26ms/step - loss: 0.0396 - accuracy: 0.9900 - val_loss: 1.8873 - val_accuracy: 0.7352\n",
            "Epoch 16/32\n",
            "468/468 [==============================] - 12s 27ms/step - loss: 0.0574 - accuracy: 0.9853 - val_loss: 1.8287 - val_accuracy: 0.7245\n",
            "Epoch 17/32\n",
            "468/468 [==============================] - 12s 27ms/step - loss: 0.0900 - accuracy: 0.9785 - val_loss: 1.8744 - val_accuracy: 0.7405\n",
            "Epoch 18/32\n",
            "468/468 [==============================] - 12s 25ms/step - loss: 0.0736 - accuracy: 0.9805 - val_loss: 2.1552 - val_accuracy: 0.7202\n",
            "Epoch 19/32\n",
            "468/468 [==============================] - 12s 26ms/step - loss: 0.0807 - accuracy: 0.9811 - val_loss: 1.7784 - val_accuracy: 0.7293\n",
            "Epoch 20/32\n",
            "468/468 [==============================] - 12s 27ms/step - loss: 0.0152 - accuracy: 0.9956 - val_loss: 2.3050 - val_accuracy: 0.7357\n",
            "Epoch 21/32\n",
            "468/468 [==============================] - 12s 27ms/step - loss: 0.0048 - accuracy: 0.9989 - val_loss: 2.2154 - val_accuracy: 0.7480\n",
            "Epoch 22/32\n",
            "468/468 [==============================] - 12s 25ms/step - loss: 0.0017 - accuracy: 0.9995 - val_loss: 2.2987 - val_accuracy: 0.7480\n",
            "Epoch 23/32\n",
            "468/468 [==============================] - 12s 27ms/step - loss: 8.7037e-05 - accuracy: 1.0000 - val_loss: 2.3652 - val_accuracy: 0.7480\n",
            "Epoch 24/32\n",
            "468/468 [==============================] - 12s 27ms/step - loss: 4.7201e-05 - accuracy: 1.0000 - val_loss: 2.4238 - val_accuracy: 0.7480\n",
            "Epoch 25/32\n",
            "468/468 [==============================] - 12s 26ms/step - loss: 2.9494e-05 - accuracy: 1.0000 - val_loss: 2.5875 - val_accuracy: 0.7410\n",
            "Epoch 26/32\n",
            "468/468 [==============================] - 12s 26ms/step - loss: 1.5215e-05 - accuracy: 1.0000 - val_loss: 2.6743 - val_accuracy: 0.7405\n",
            "Epoch 27/32\n",
            "468/468 [==============================] - 12s 26ms/step - loss: 8.8374e-06 - accuracy: 1.0000 - val_loss: 2.7733 - val_accuracy: 0.7405\n",
            "Epoch 28/32\n",
            "468/468 [==============================] - 12s 27ms/step - loss: 5.9008e-06 - accuracy: 1.0000 - val_loss: 2.8240 - val_accuracy: 0.7410\n",
            "Epoch 29/32\n",
            "468/468 [==============================] - 12s 27ms/step - loss: 4.1965e-06 - accuracy: 1.0000 - val_loss: 2.8758 - val_accuracy: 0.7400\n",
            "Epoch 30/32\n",
            "468/468 [==============================] - 12s 26ms/step - loss: 3.1653e-06 - accuracy: 1.0000 - val_loss: 2.9507 - val_accuracy: 0.7389\n",
            "Epoch 31/32\n",
            "468/468 [==============================] - 12s 26ms/step - loss: 2.4412e-06 - accuracy: 1.0000 - val_loss: 2.9989 - val_accuracy: 0.7378\n",
            "Epoch 32/32\n",
            "468/468 [==============================] - 12s 25ms/step - loss: 1.8084e-06 - accuracy: 1.0000 - val_loss: 3.0253 - val_accuracy: 0.7373\n"
          ]
        }
      ]
    },
    {
      "cell_type": "code",
      "source": [
        "import matplotlib.pyplot as plt"
      ],
      "metadata": {
        "id": "b4qHHeXAELm9"
      },
      "execution_count": 13,
      "outputs": []
    },
    {
      "cell_type": "code",
      "source": [
        "# Plotting accuracy\n",
        "plt.figure(figsize=(12, 6))\n",
        "plt.subplot(1, 2, 1)\n",
        "epochs = range(1, len(history.history['accuracy']) + 1)\n",
        "plt.plot(epochs, history.history['accuracy'], label='Training Accuracy')\n",
        "plt.plot(epochs, history.history['val_accuracy'], label='Validation Accuracy')\n",
        "plt.title('Training and Validation Accuracy')\n",
        "plt.xlabel('Epoch')\n",
        "plt.ylabel('Accuracy')\n",
        "plt.legend()\n",
        "\n",
        "# Plotting loss\n",
        "plt.subplot(1, 2, 2)\n",
        "plt.plot(epochs, history.history['loss'], label='Training Loss')\n",
        "plt.plot(epochs, history.history['val_loss'], label='Validation Loss')\n",
        "plt.title('Training and Validation Loss')\n",
        "plt.xlabel('Epoch')\n",
        "plt.ylabel('Loss')\n",
        "plt.legend()\n",
        "\n",
        "# Show the plots\n",
        "plt.tight_layout()\n",
        "plt.show()\n"
      ],
      "metadata": {
        "colab": {
          "base_uri": "https://localhost:8080/",
          "height": 607
        },
        "id": "L_XLZ_JqELqa",
        "outputId": "cc229628-c2c5-46ef-c902-94d3209cb410"
      },
      "execution_count": 14,
      "outputs": [
        {
          "output_type": "display_data",
          "data": {
            "text/plain": [
              "<Figure size 1200x600 with 2 Axes>"
            ],
            "image/png": "[encoded data removed]"
          },
          "metadata": {}
        }
      ]
    },
    {
      "cell_type": "code",
      "source": [
        "from sklearn.ensemble import RandomForestClassifier\n",
        "from sklearn import metrics"
      ],
      "metadata": {
        "id": "E3PmVhhVBc-E"
      },
      "execution_count": 15,
      "outputs": []
    },
    {
      "cell_type": "code",
      "source": [
        "# Extract features using the CNN model\n",
        "X_train_features = model.predict(X_train)\n",
        "X_val_features = model.predict(X_val)"
      ],
      "metadata": {
        "colab": {
          "base_uri": "https://localhost:8080/"
        },
        "id": "B_TV7mnPBdAt",
        "outputId": "8a301370-8a15-4828-eb3a-8785007cf8fc"
      },
      "execution_count": 16,
      "outputs": [
        {
          "output_type": "stream",
          "name": "stdout",
          "text": [
            "234/234 [==============================] - 4s 12ms/step\n",
            "59/59 [==============================] - 1s 11ms/step\n"
          ]
        }
      ]
    },
    {
      "cell_type": "code",
      "source": [
        "# Reshape data for Random Forest\n",
        "X_train_flatten = X_train_features.reshape(X_train_features.shape[0], -1)\n",
        "X_val_flatten = X_val_features.reshape(X_val_features.shape[0], -1)"
      ],
      "metadata": {
        "id": "186IhYsOBdDY"
      },
      "execution_count": 17,
      "outputs": []
    },
    {
      "cell_type": "code",
      "source": [
        "# Initialize Random Forest classifier\n",
        "random_forest_classifier = RandomForestClassifier(n_estimators=50, random_state=42)\n",
        "\n",
        "# Train Random Forest classifier\n",
        "random_forest_classifier.fit(X_train_flatten, y_train_encoded)\n",
        "\n",
        "# Make predictions on validation set\n",
        "random_forest_predictions = random_forest_classifier.predict(X_val_flatten)\n",
        "\n",
        "# Evaluate performance\n",
        "random_forest_accuracy = metrics.accuracy_score(y_val_encoded, random_forest_predictions)\n",
        "random_forest_precision = metrics.precision_score(y_val_encoded, random_forest_predictions, average='weighted')\n",
        "random_forest_recall = metrics.recall_score(y_val_encoded, random_forest_predictions, average='weighted')\n",
        "random_forest_f1 = metrics.f1_score(y_val_encoded, random_forest_predictions, average='weighted')\n",
        "\n",
        "# Print results\n",
        "print(\"Random Forest (on CNN features): Accuracy = {:.4f}, Precision = {:.4f}, Recall = {:.4f}, F1 Score = {:.4f}\".format(random_forest_accuracy, random_forest_precision, random_forest_recall, random_forest_f1))"
      ],
      "metadata": {
        "colab": {
          "base_uri": "https://localhost:8080/"
        },
        "id": "dzTblNOSBmT6",
        "outputId": "0686a409-b67e-4458-ee96-9d19567e9e06"
      },
      "execution_count": 18,
      "outputs": [
        {
          "output_type": "stream",
          "name": "stdout",
          "text": [
            "Random Forest (on CNN features): Accuracy = 0.7368, Precision = 0.7395, Recall = 0.7368, F1 Score = 0.7378\n"
          ]
        }
      ]
    },
    {
      "cell_type": "code",
      "source": [
        "from sklearn.neighbors import KNeighborsClassifier\n",
        "# Initialize k-NN classifier\n",
        "knn_classifier = KNeighborsClassifier(n_neighbors=5)  # You can adjust the number of neighbors as needed\n",
        "\n",
        "# Train k-NN classifier\n",
        "knn_classifier.fit(X_train_flatten, y_train_encoded)\n",
        "\n",
        "# Make predictions on the validation set\n",
        "knn_predictions = knn_classifier.predict(X_val_flatten)\n",
        "\n",
        "# Evaluate performance\n",
        "knn_accuracy = metrics.accuracy_score(y_val_encoded, knn_predictions)\n",
        "knn_precision = metrics.precision_score(y_val_encoded, knn_predictions, average='weighted')\n",
        "knn_recall = metrics.recall_score(y_val_encoded, knn_predictions, average='weighted')\n",
        "knn_f1 = metrics.f1_score(y_val_encoded, knn_predictions, average='weighted')\n",
        "\n",
        "# Print results for k-NN\n",
        "print(\"k-Nearest Neighbors (on CNN features): Accuracy = {:.4f}, Precision = {:.4f}, Recall = {:.4f}, F1 Score = {:.4f}\".format(knn_accuracy, knn_precision, knn_recall, knn_f1))\n"
      ],
      "metadata": {
        "colab": {
          "base_uri": "https://localhost:8080/"
        },
        "id": "gNJsFr9TBmWU",
        "outputId": "9cf32cdf-ba69-46c6-b747-4b256ab3863c"
      },
      "execution_count": 19,
      "outputs": [
        {
          "output_type": "stream",
          "name": "stdout",
          "text": [
            "k-Nearest Neighbors (on CNN features): Accuracy = 0.7373, Precision = 0.7403, Recall = 0.7373, F1 Score = 0.7384\n"
          ]
        }
      ]
    },
    {
      "cell_type": "code",
      "source": [
        "from sklearn.ensemble import AdaBoostClassifier\n",
        "# Initialize AdaBoost classifier with a decision tree base estimator\n",
        "adaboost_classifier = AdaBoostClassifier(n_estimators=50, random_state=42)\n",
        "\n",
        "# Train AdaBoost classifier\n",
        "adaboost_classifier.fit(X_train_flatten, y_train_encoded)\n",
        "\n",
        "# Make predictions on the validation set\n",
        "adaboost_predictions = adaboost_classifier.predict(X_val_flatten)\n",
        "\n",
        "# Evaluate performance\n",
        "adaboost_accuracy = metrics.accuracy_score(y_val_encoded, adaboost_predictions)\n",
        "adaboost_precision = metrics.precision_score(y_val_encoded, adaboost_predictions, average='weighted')\n",
        "adaboost_recall = metrics.recall_score(y_val_encoded, adaboost_predictions, average='weighted')\n",
        "adaboost_f1 = metrics.f1_score(y_val_encoded, adaboost_predictions, average='weighted')\n",
        "\n",
        "# Print results for AdaBoost\n",
        "print(\"AdaBoost (on CNN features): Accuracy = {:.4f}, Precision = {:.4f}, Recall = {:.4f}, F1 Score = {:.4f}\".format(adaboost_accuracy, adaboost_precision, adaboost_recall, adaboost_f1))\n"
      ],
      "metadata": {
        "colab": {
          "base_uri": "https://localhost:8080/"
        },
        "id": "gYx1L3mEBmY5",
        "outputId": "7574fcdc-f078-4147-b60e-cca0d2587db6"
      },
      "execution_count": 20,
      "outputs": [
        {
          "output_type": "stream",
          "name": "stdout",
          "text": [
            "AdaBoost (on CNN features): Accuracy = 0.7368, Precision = 0.7395, Recall = 0.7368, F1 Score = 0.7378\n"
          ]
        }
      ]
    },
    {
      "cell_type": "code",
      "source": [],
      "metadata": {
        "id": "hJyNhytYBmb8"
      },
      "execution_count": 20,
      "outputs": []
    },
    {
      "cell_type": "code",
      "source": [],
      "metadata": {
        "id": "QY9lKAJzBmfW"
      },
      "execution_count": 20,
      "outputs": []
    },
    {
      "cell_type": "code",
      "source": [],
      "metadata": {
        "id": "FB73wtEmBdGz"
      },
      "execution_count": 20,
      "outputs": []
    }
  ]
}