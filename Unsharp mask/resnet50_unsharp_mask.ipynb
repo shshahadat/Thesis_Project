{
  "nbformat": 4,
  "nbformat_minor": 0,
  "metadata": {
    "colab": {
      "provenance": [],
      "gpuType": "T4"
    },
    "kernelspec": {
      "name": "python3",
      "display_name": "Python 3"
    },
    "language_info": {
      "name": "python"
    },
    "accelerator": "GPU"
  },
  "cells": [
    {
      "cell_type": "code",
      "source": [
        "import os\n",
        "import cv2\n",
        "import numpy as np\n",
        "from sklearn.model_selection import train_test_split\n",
        "from tensorflow.keras.preprocessing.image import ImageDataGenerator\n",
        "from tensorflow.keras.models import Sequential\n",
        "from tensorflow.keras.layers import Flatten, Dense\n",
        "from tensorflow.keras.applications import VGG19\n",
        "from tensorflow.keras.optimizers import Adam\n",
        "from sklearn.preprocessing import LabelEncoder"
      ],
      "metadata": {
        "id": "ty2_3Nt1AIS1"
      },
      "execution_count": 7,
      "outputs": []
    },
    {
      "cell_type": "code",
      "source": [
        "# Set the path to your dataset folder in Google Drive\n",
        "dataset_path = \"/content/drive/MyDrive/Training-20240125T151729Z-001/Training\""
      ],
      "metadata": {
        "id": "dqoO7jJ_AKMc"
      },
      "execution_count": 8,
      "outputs": []
    },
    {
      "cell_type": "code",
      "source": [
        "\n",
        "# Set the target size for image resizing\n",
        "target_size = (224, 224)\n",
        "\n",
        "# Initialize empty lists to store images and labels\n",
        "images = []\n",
        "labels = []\n",
        "\n",
        "# Loop through each tumor type folder\n",
        "for tumor_type in os.listdir(dataset_path):\n",
        "    tumor_type_path = os.path.join(dataset_path, tumor_type)\n",
        "\n",
        "    # Loop through each image in the tumor type folder\n",
        "    for image_file in os.listdir(tumor_type_path):\n",
        "        image_path = os.path.join(tumor_type_path, image_file)\n",
        "\n",
        "        # Read the image using OpenCV\n",
        "        img = cv2.imread(image_path)\n",
        "\n",
        "        # Apply unsharp mask filter\n",
        "        blurred = cv2.GaussianBlur(img, (0, 0), 3)\n",
        "        img = cv2.addWeighted(img, 1.5, blurred, -0.5, 0)\n",
        "\n",
        "        # Resize the image to the target size\n",
        "        img = cv2.resize(img, target_size)\n",
        "\n",
        "        # Append the original image and label to the lists\n",
        "        images.append(img)\n",
        "        labels.append(tumor_type)\n",
        "\n",
        "        # Data Augmentation\n",
        "        datagen = ImageDataGenerator(\n",
        "            horizontal_flip=True,\n",
        "            rotation_range=20,\n",
        "            zoom_range=0.2,\n",
        "            height_shift_range=0.2,\n",
        "            width_shift_range=0.2,\n",
        "            shear_range=0.2,\n",
        "            fill_mode='nearest'\n",
        "        )\n",
        "\n",
        "        # Generate augmented images and append them to the lists\n",
        "        augmented_images = [datagen.random_transform(img) for _ in range(1)]  # Generate 2 augmented images per original\n",
        "        images.extend(augmented_images)\n",
        "        labels.extend([tumor_type] * len(augmented_images))"
      ],
      "metadata": {
        "id": "QX75dlVIAKWQ"
      },
      "execution_count": 9,
      "outputs": []
    },
    {
      "cell_type": "code",
      "source": [
        "from google.colab import drive\n",
        "drive.mount('/content/drive')"
      ],
      "metadata": {
        "colab": {
          "base_uri": "https://localhost:8080/"
        },
        "id": "vOkvkAkWU_Ff",
        "outputId": "2d376573-444e-4728-cded-4e6c23c973bf"
      },
      "execution_count": 10,
      "outputs": [
        {
          "output_type": "stream",
          "name": "stdout",
          "text": [
            "Drive already mounted at /content/drive; to attempt to forcibly remount, call drive.mount(\"/content/drive\", force_remount=True).\n"
          ]
        }
      ]
    },
    {
      "cell_type": "code",
      "source": [],
      "metadata": {
        "id": "79rGFaYxAKdZ"
      },
      "execution_count": 10,
      "outputs": []
    },
    {
      "cell_type": "code",
      "source": [
        "\n",
        "\n",
        "# Convert lists to NumPy arrays for model training\n",
        "X = np.array(images)\n",
        "y = np.array(labels)\n",
        "\n"
      ],
      "metadata": {
        "id": "RdyCHRF_AKgx"
      },
      "execution_count": 11,
      "outputs": []
    },
    {
      "cell_type": "code",
      "source": [
        "# Print the shape of X and y to check\n",
        "print(\"Shape of X:\", X.shape)\n",
        "print(\"Shape of y:\", y.shape)"
      ],
      "metadata": {
        "colab": {
          "base_uri": "https://localhost:8080/"
        },
        "id": "Ij-vmSXGBLYP",
        "outputId": "4105072b-9469-43b8-e7a4-1bc8602ddd01"
      },
      "execution_count": 12,
      "outputs": [
        {
          "output_type": "stream",
          "name": "stdout",
          "text": [
            "Shape of X: (9358, 224, 224, 3)\n",
            "Shape of y: (9358,)\n"
          ]
        }
      ]
    },
    {
      "cell_type": "code",
      "source": [
        "from tensorflow.keras.models import Sequential\n",
        "from tensorflow.keras.layers import Conv2D, MaxPooling2D, Flatten, Dense\n",
        "from sklearn.model_selection import train_test_split"
      ],
      "metadata": {
        "id": "TvLM7JTyBLbI"
      },
      "execution_count": 13,
      "outputs": []
    },
    {
      "cell_type": "code",
      "source": [
        "# Split the data into training and validation sets\n",
        "X_train, X_val, y_train, y_val = train_test_split(X, y, test_size=0.2, random_state=42)"
      ],
      "metadata": {
        "id": "WWh639D3BLdc"
      },
      "execution_count": 14,
      "outputs": []
    },
    {
      "cell_type": "code",
      "source": [
        "from tensorflow.keras.models import Sequential\n",
        "from tensorflow.keras.layers import Conv2D, MaxPooling2D, Flatten, Dense\n",
        "from sklearn.model_selection import train_test_split\n",
        "from sklearn.preprocessing import LabelEncoder\n",
        "\n",
        "# Convert labels to integers\n",
        "label_encoder = LabelEncoder()\n",
        "y_train_encoded = label_encoder.fit_transform(y_train)\n",
        "y_val_encoded = label_encoder.transform(y_val)"
      ],
      "metadata": {
        "id": "2b6jS3SiBLfy"
      },
      "execution_count": 15,
      "outputs": []
    },
    {
      "cell_type": "code",
      "source": [
        "from tensorflow.keras.applications import ResNet50\n",
        "from tensorflow.keras.models import Sequential\n",
        "from tensorflow.keras.layers import Dense, GlobalAveragePooling2D\n",
        "\n",
        "# Load the pre-trained ResNet50 model (including the top layers for classification)\n",
        "base_model = ResNet50(weights='imagenet', include_top=False, input_shape=(224, 224, 3))\n",
        "\n",
        "# Freeze the layers of the pre-trained model\n",
        "for layer in base_model.layers:\n",
        "    layer.trainable = False\n",
        "\n",
        "# Create a new model using the ResNet50 base and adding your custom top layers for classification\n",
        "model = Sequential()\n",
        "model.add(base_model)\n",
        "model.add(GlobalAveragePooling2D())\n",
        "model.add(Dense(128, activation='relu'))\n",
        "model.add(Dense(4, activation='softmax'))  # Assuming there are 6 classes\n",
        "\n"
      ],
      "metadata": {
        "colab": {
          "base_uri": "https://localhost:8080/"
        },
        "id": "MKwsmmJRBLiT",
        "outputId": "62c6aee7-2410-429b-a1b4-05efe53221b0"
      },
      "execution_count": 16,
      "outputs": [
        {
          "output_type": "stream",
          "name": "stdout",
          "text": [
            "Downloading data from https://storage.googleapis.com/tensorflow/keras-applications/resnet/resnet50_weights_tf_dim_ordering_tf_kernels_notop.h5\n",
            "94765736/94765736 [==============================] - 5s 0us/step\n"
          ]
        }
      ]
    },
    {
      "cell_type": "code",
      "source": [
        "# Compile the model\n",
        "model.compile(optimizer='adam', loss='sparse_categorical_crossentropy', metrics=['accuracy'])\n",
        "\n",
        "# Print model summary\n",
        "model.summary()\n",
        "\n"
      ],
      "metadata": {
        "colab": {
          "base_uri": "https://localhost:8080/"
        },
        "id": "CDUeH7QtBLls",
        "outputId": "b2f824fe-fd9f-425f-a2cb-9ffe85825dac"
      },
      "execution_count": 17,
      "outputs": [
        {
          "output_type": "stream",
          "name": "stdout",
          "text": [
            "Model: \"sequential\"\n",
            "_________________________________________________________________\n",
            " Layer (type)                Output Shape              Param #   \n",
            "=================================================================\n",
            " resnet50 (Functional)       (None, 7, 7, 2048)        23587712  \n",
            "                                                                 \n",
            " global_average_pooling2d (  (None, 2048)              0         \n",
            " GlobalAveragePooling2D)                                         \n",
            "                                                                 \n",
            " dense (Dense)               (None, 128)               262272    \n",
            "                                                                 \n",
            " dense_1 (Dense)             (None, 4)                 516       \n",
            "                                                                 \n",
            "=================================================================\n",
            "Total params: 23850500 (90.98 MB)\n",
            "Trainable params: 262788 (1.00 MB)\n",
            "Non-trainable params: 23587712 (89.98 MB)\n",
            "_________________________________________________________________\n"
          ]
        }
      ]
    },
    {
      "cell_type": "code",
      "source": [
        "# Train the model with validation data\n",
        "history = model.fit(X_train, y_train_encoded, epochs=32, batch_size=16, validation_data=(X_val, y_val_encoded))"
      ],
      "metadata": {
        "colab": {
          "base_uri": "https://localhost:8080/"
        },
        "id": "y_LvrAVDBc7X",
        "outputId": "0cefd86f-2395-4f46-a977-05275a91b1e2"
      },
      "execution_count": 18,
      "outputs": [
        {
          "output_type": "stream",
          "name": "stdout",
          "text": [
            "Epoch 1/32\n",
            "468/468 [==============================] - 39s 67ms/step - loss: 0.3909 - accuracy: 0.8555 - val_loss: 0.2441 - val_accuracy: 0.9199\n",
            "Epoch 2/32\n",
            "468/468 [==============================] - 29s 62ms/step - loss: 0.2077 - accuracy: 0.9239 - val_loss: 0.2134 - val_accuracy: 0.9220\n",
            "Epoch 3/32\n",
            "468/468 [==============================] - 34s 73ms/step - loss: 0.1619 - accuracy: 0.9408 - val_loss: 0.2078 - val_accuracy: 0.9252\n",
            "Epoch 4/32\n",
            "468/468 [==============================] - 30s 64ms/step - loss: 0.1267 - accuracy: 0.9520 - val_loss: 0.1931 - val_accuracy: 0.9300\n",
            "Epoch 5/32\n",
            "468/468 [==============================] - 30s 63ms/step - loss: 0.1069 - accuracy: 0.9602 - val_loss: 0.1979 - val_accuracy: 0.9241\n",
            "Epoch 6/32\n",
            "468/468 [==============================] - 34s 73ms/step - loss: 0.0904 - accuracy: 0.9647 - val_loss: 0.1554 - val_accuracy: 0.9493\n",
            "Epoch 7/32\n",
            "468/468 [==============================] - 30s 64ms/step - loss: 0.0639 - accuracy: 0.9789 - val_loss: 0.1558 - val_accuracy: 0.9493\n",
            "Epoch 8/32\n",
            "468/468 [==============================] - 30s 64ms/step - loss: 0.0618 - accuracy: 0.9762 - val_loss: 0.2126 - val_accuracy: 0.9364\n",
            "Epoch 9/32\n",
            "468/468 [==============================] - 30s 64ms/step - loss: 0.0613 - accuracy: 0.9777 - val_loss: 0.1975 - val_accuracy: 0.9428\n",
            "Epoch 10/32\n",
            "468/468 [==============================] - 30s 65ms/step - loss: 0.0426 - accuracy: 0.9850 - val_loss: 0.1364 - val_accuracy: 0.9567\n",
            "Epoch 11/32\n",
            "468/468 [==============================] - 35s 74ms/step - loss: 0.0328 - accuracy: 0.9878 - val_loss: 0.1447 - val_accuracy: 0.9573\n",
            "Epoch 12/32\n",
            "468/468 [==============================] - 30s 64ms/step - loss: 0.0395 - accuracy: 0.9853 - val_loss: 0.1741 - val_accuracy: 0.9423\n",
            "Epoch 13/32\n",
            "468/468 [==============================] - 30s 63ms/step - loss: 0.0421 - accuracy: 0.9865 - val_loss: 0.2014 - val_accuracy: 0.9375\n",
            "Epoch 14/32\n",
            "468/468 [==============================] - 34s 73ms/step - loss: 0.0316 - accuracy: 0.9890 - val_loss: 0.1820 - val_accuracy: 0.9535\n",
            "Epoch 15/32\n",
            "468/468 [==============================] - 34s 74ms/step - loss: 0.0137 - accuracy: 0.9951 - val_loss: 0.1519 - val_accuracy: 0.9573\n",
            "Epoch 16/32\n",
            "468/468 [==============================] - 30s 64ms/step - loss: 0.0426 - accuracy: 0.9857 - val_loss: 0.1535 - val_accuracy: 0.9519\n",
            "Epoch 17/32\n",
            "468/468 [==============================] - 30s 64ms/step - loss: 0.0275 - accuracy: 0.9915 - val_loss: 0.1909 - val_accuracy: 0.9557\n",
            "Epoch 18/32\n",
            "468/468 [==============================] - 35s 74ms/step - loss: 0.0106 - accuracy: 0.9965 - val_loss: 0.1878 - val_accuracy: 0.9551\n",
            "Epoch 19/32\n",
            "468/468 [==============================] - 30s 65ms/step - loss: 0.0019 - accuracy: 0.9999 - val_loss: 0.1550 - val_accuracy: 0.9599\n",
            "Epoch 20/32\n",
            "468/468 [==============================] - 30s 64ms/step - loss: 0.0012 - accuracy: 1.0000 - val_loss: 0.1600 - val_accuracy: 0.9567\n",
            "Epoch 21/32\n",
            "468/468 [==============================] - 30s 64ms/step - loss: 0.0128 - accuracy: 0.9965 - val_loss: 0.2244 - val_accuracy: 0.9386\n",
            "Epoch 22/32\n",
            "468/468 [==============================] - 30s 64ms/step - loss: 0.0581 - accuracy: 0.9798 - val_loss: 0.4457 - val_accuracy: 0.9028\n",
            "Epoch 23/32\n",
            "468/468 [==============================] - 35s 74ms/step - loss: 0.0194 - accuracy: 0.9936 - val_loss: 0.2103 - val_accuracy: 0.9434\n",
            "Epoch 24/32\n",
            "468/468 [==============================] - 35s 74ms/step - loss: 0.0279 - accuracy: 0.9901 - val_loss: 0.2908 - val_accuracy: 0.9396\n",
            "Epoch 25/32\n",
            "468/468 [==============================] - 35s 74ms/step - loss: 0.0135 - accuracy: 0.9960 - val_loss: 0.2616 - val_accuracy: 0.9428\n",
            "Epoch 26/32\n",
            "468/468 [==============================] - 30s 64ms/step - loss: 0.0028 - accuracy: 0.9999 - val_loss: 0.1793 - val_accuracy: 0.9594\n",
            "Epoch 27/32\n",
            "468/468 [==============================] - 35s 74ms/step - loss: 9.5964e-04 - accuracy: 1.0000 - val_loss: 0.1708 - val_accuracy: 0.9615\n",
            "Epoch 28/32\n",
            "468/468 [==============================] - 29s 63ms/step - loss: 4.3877e-04 - accuracy: 1.0000 - val_loss: 0.1734 - val_accuracy: 0.9610\n",
            "Epoch 29/32\n",
            "468/468 [==============================] - 34s 74ms/step - loss: 3.3380e-04 - accuracy: 1.0000 - val_loss: 0.1756 - val_accuracy: 0.9621\n",
            "Epoch 30/32\n",
            "468/468 [==============================] - 30s 63ms/step - loss: 2.7738e-04 - accuracy: 1.0000 - val_loss: 0.1755 - val_accuracy: 0.9621\n",
            "Epoch 31/32\n",
            "468/468 [==============================] - 34s 74ms/step - loss: 2.4038e-04 - accuracy: 1.0000 - val_loss: 0.1768 - val_accuracy: 0.9615\n",
            "Epoch 32/32\n",
            "468/468 [==============================] - 34s 73ms/step - loss: 2.0886e-04 - accuracy: 1.0000 - val_loss: 0.1830 - val_accuracy: 0.9605\n"
          ]
        }
      ]
    },
    {
      "cell_type": "code",
      "source": [
        "import matplotlib.pyplot as plt"
      ],
      "metadata": {
        "id": "O9lYYEbsUS2M"
      },
      "execution_count": 19,
      "outputs": []
    },
    {
      "cell_type": "code",
      "source": [
        "# Plotting accuracy\n",
        "plt.figure(figsize=(12, 6))\n",
        "plt.subplot(1, 2, 1)\n",
        "epochs = range(1, len(history.history['accuracy']) + 1)\n",
        "plt.plot(epochs, history.history['accuracy'], label='Training Accuracy')\n",
        "plt.plot(epochs, history.history['val_accuracy'], label='Validation Accuracy')\n",
        "plt.title('Training and Validation Accuracy')\n",
        "plt.xlabel('Epoch')\n",
        "plt.ylabel('Accuracy')\n",
        "plt.legend()\n",
        "\n",
        "# Plotting loss\n",
        "plt.subplot(1, 2, 2)\n",
        "plt.plot(epochs, history.history['loss'], label='Training Loss')\n",
        "plt.plot(epochs, history.history['val_loss'], label='Validation Loss')\n",
        "plt.title('Training and Validation Loss')\n",
        "plt.xlabel('Epoch')\n",
        "plt.ylabel('Loss')\n",
        "plt.legend()\n",
        "\n",
        "# Show the plots\n",
        "plt.tight_layout()\n",
        "plt.show()\n"
      ],
      "metadata": {
        "colab": {
          "base_uri": "https://localhost:8080/",
          "height": 607
        },
        "id": "SrkrSlgVUTCi",
        "outputId": "227c13c3-f8cf-4dae-974b-ba9a52e5b704"
      },
      "execution_count": 20,
      "outputs": [
        {
          "output_type": "display_data",
          "data": {
            "text/plain": [
              "<Figure size 1200x600 with 2 Axes>"
            ],
            "image/png": "[encoded data removed]"
          },
          "metadata": {}
        }
      ]
    },
    {
      "cell_type": "code",
      "source": [
        "from sklearn.ensemble import RandomForestClassifier\n",
        "from sklearn import metrics"
      ],
      "metadata": {
        "id": "E3PmVhhVBc-E"
      },
      "execution_count": 21,
      "outputs": []
    },
    {
      "cell_type": "code",
      "source": [
        "# Extract features using the CNN model\n",
        "X_train_features = model.predict(X_train)\n",
        "X_val_features = model.predict(X_val)"
      ],
      "metadata": {
        "colab": {
          "base_uri": "https://localhost:8080/"
        },
        "id": "B_TV7mnPBdAt",
        "outputId": "386e6b04-571f-46b7-fa9d-7af8df8f03f2"
      },
      "execution_count": 22,
      "outputs": [
        {
          "output_type": "stream",
          "name": "stdout",
          "text": [
            "234/234 [==============================] - 26s 98ms/step\n",
            "59/59 [==============================] - 5s 91ms/step\n"
          ]
        }
      ]
    },
    {
      "cell_type": "code",
      "source": [
        "# Reshape data for Random Forest\n",
        "X_train_flatten = X_train_features.reshape(X_train_features.shape[0], -1)\n",
        "X_val_flatten = X_val_features.reshape(X_val_features.shape[0], -1)"
      ],
      "metadata": {
        "id": "186IhYsOBdDY"
      },
      "execution_count": 23,
      "outputs": []
    },
    {
      "cell_type": "code",
      "source": [
        "# Initialize Random Forest classifier\n",
        "random_forest_classifier = RandomForestClassifier(n_estimators=50, random_state=42)\n",
        "\n",
        "# Train Random Forest classifier\n",
        "random_forest_classifier.fit(X_train_flatten, y_train_encoded)\n",
        "\n",
        "# Make predictions on validation set\n",
        "random_forest_predictions = random_forest_classifier.predict(X_val_flatten)\n",
        "\n",
        "# Evaluate performance\n",
        "random_forest_accuracy = metrics.accuracy_score(y_val_encoded, random_forest_predictions)\n",
        "random_forest_precision = metrics.precision_score(y_val_encoded, random_forest_predictions, average='weighted')\n",
        "random_forest_recall = metrics.recall_score(y_val_encoded, random_forest_predictions, average='weighted')\n",
        "random_forest_f1 = metrics.f1_score(y_val_encoded, random_forest_predictions, average='weighted')\n",
        "\n",
        "# Print results\n",
        "print(\"Random Forest (on CNN features): Accuracy = {:.4f}, Precision = {:.4f}, Recall = {:.4f}, F1 Score = {:.4f}\".format(random_forest_accuracy, random_forest_precision, random_forest_recall, random_forest_f1))"
      ],
      "metadata": {
        "colab": {
          "base_uri": "https://localhost:8080/"
        },
        "id": "dzTblNOSBmT6",
        "outputId": "509afee7-4538-430e-ae17-9d60c1254dcb"
      },
      "execution_count": 24,
      "outputs": [
        {
          "output_type": "stream",
          "name": "stdout",
          "text": [
            "Random Forest (on CNN features): Accuracy = 0.9605, Precision = 0.9605, Recall = 0.9605, F1 Score = 0.9604\n"
          ]
        }
      ]
    },
    {
      "cell_type": "code",
      "source": [
        "from sklearn.neighbors import KNeighborsClassifier\n",
        "# Initialize k-NN classifier\n",
        "knn_classifier = KNeighborsClassifier(n_neighbors=5)  # You can adjust the number of neighbors as needed\n",
        "\n",
        "# Train k-NN classifier\n",
        "knn_classifier.fit(X_train_flatten, y_train_encoded)\n",
        "\n",
        "# Make predictions on the validation set\n",
        "knn_predictions = knn_classifier.predict(X_val_flatten)\n",
        "\n",
        "# Evaluate performance\n",
        "knn_accuracy = metrics.accuracy_score(y_val_encoded, knn_predictions)\n",
        "knn_precision = metrics.precision_score(y_val_encoded, knn_predictions, average='weighted')\n",
        "knn_recall = metrics.recall_score(y_val_encoded, knn_predictions, average='weighted')\n",
        "knn_f1 = metrics.f1_score(y_val_encoded, knn_predictions, average='weighted')\n",
        "\n",
        "# Print results for k-NN\n",
        "print(\"k-Nearest Neighbors (on CNN features): Accuracy = {:.4f}, Precision = {:.4f}, Recall = {:.4f}, F1 Score = {:.4f}\".format(knn_accuracy, knn_precision, knn_recall, knn_f1))\n"
      ],
      "metadata": {
        "colab": {
          "base_uri": "https://localhost:8080/"
        },
        "id": "gNJsFr9TBmWU",
        "outputId": "df1a2d3a-1e1b-46d5-a252-2e3e7deda088"
      },
      "execution_count": 25,
      "outputs": [
        {
          "output_type": "stream",
          "name": "stdout",
          "text": [
            "k-Nearest Neighbors (on CNN features): Accuracy = 0.9605, Precision = 0.9605, Recall = 0.9605, F1 Score = 0.9604\n"
          ]
        }
      ]
    },
    {
      "cell_type": "code",
      "source": [
        "from sklearn.ensemble import AdaBoostClassifier\n",
        "# Initialize AdaBoost classifier with a decision tree base estimator\n",
        "adaboost_classifier = AdaBoostClassifier(n_estimators=50, random_state=42)\n",
        "\n",
        "# Train AdaBoost classifier\n",
        "adaboost_classifier.fit(X_train_flatten, y_train_encoded)\n",
        "\n",
        "# Make predictions on the validation set\n",
        "adaboost_predictions = adaboost_classifier.predict(X_val_flatten)\n",
        "\n",
        "# Evaluate performance\n",
        "adaboost_accuracy = metrics.accuracy_score(y_val_encoded, adaboost_predictions)\n",
        "adaboost_precision = metrics.precision_score(y_val_encoded, adaboost_predictions, average='weighted')\n",
        "adaboost_recall = metrics.recall_score(y_val_encoded, adaboost_predictions, average='weighted')\n",
        "adaboost_f1 = metrics.f1_score(y_val_encoded, adaboost_predictions, average='weighted')\n",
        "\n",
        "# Print results for AdaBoost\n",
        "print(\"AdaBoost (on CNN features): Accuracy = {:.4f}, Precision = {:.4f}, Recall = {:.4f}, F1 Score = {:.4f}\".format(adaboost_accuracy, adaboost_precision, adaboost_recall, adaboost_f1))\n"
      ],
      "metadata": {
        "colab": {
          "base_uri": "https://localhost:8080/"
        },
        "id": "gYx1L3mEBmY5",
        "outputId": "2436abd3-6128-4e17-e0d5-e9c364c1ec20"
      },
      "execution_count": 26,
      "outputs": [
        {
          "output_type": "stream",
          "name": "stdout",
          "text": [
            "AdaBoost (on CNN features): Accuracy = 0.9599, Precision = 0.9599, Recall = 0.9599, F1 Score = 0.9599\n"
          ]
        }
      ]
    },
    {
      "cell_type": "code",
      "source": [],
      "metadata": {
        "id": "hJyNhytYBmb8"
      },
      "execution_count": 26,
      "outputs": []
    },
    {
      "cell_type": "code",
      "source": [],
      "metadata": {
        "id": "QY9lKAJzBmfW"
      },
      "execution_count": 26,
      "outputs": []
    },
    {
      "cell_type": "code",
      "source": [],
      "metadata": {
        "id": "FB73wtEmBdGz"
      },
      "execution_count": 26,
      "outputs": []
    }
  ]
}