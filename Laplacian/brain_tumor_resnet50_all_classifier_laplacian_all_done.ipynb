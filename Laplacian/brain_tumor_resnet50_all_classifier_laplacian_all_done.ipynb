{
  "cells": [
    {
      "cell_type": "code",
      "execution_count": 25,
      "metadata": {
        "id": "4AyeoeFwqZ7y"
      },
      "outputs": [],
      "source": [
        "from scipy.ndimage import laplace"
      ]
    },
    {
      "cell_type": "code",
      "execution_count": 26,
      "metadata": {
        "colab": {
          "base_uri": "https://localhost:8080/"
        },
        "id": "PZTydwowqhEM",
        "outputId": "2d1ecb53-e66d-42e0-ad3c-cc3c7642100d"
      },
      "outputs": [
        {
          "output_type": "stream",
          "name": "stdout",
          "text": [
            "Drive already mounted at /content/drive; to attempt to forcibly remount, call drive.mount(\"/content/drive\", force_remount=True).\n"
          ]
        }
      ],
      "source": [
        "from google.colab import drive\n",
        "drive.mount('/content/drive')"
      ]
    },
    {
      "cell_type": "code",
      "execution_count": 27,
      "metadata": {
        "id": "pXQEV8marMHz"
      },
      "outputs": [],
      "source": [
        "import os\n",
        "import cv2\n",
        "import numpy as np\n",
        "from sklearn.model_selection import train_test_split\n",
        "from tensorflow.keras.preprocessing.image import ImageDataGenerator\n",
        "from tensorflow.keras.models import Sequential\n",
        "from tensorflow.keras.layers import Flatten, Dense\n",
        "from tensorflow.keras.applications import VGG19\n",
        "from tensorflow.keras.optimizers import Adam\n",
        "from sklearn.preprocessing import LabelEncoder"
      ]
    },
    {
      "cell_type": "code",
      "execution_count": 28,
      "metadata": {
        "id": "07vj51UmrMXF"
      },
      "outputs": [],
      "source": [
        "# Set the path to your dataset folder in Google Drive\n",
        "dataset_path = \"/content/drive/MyDrive/Training\""
      ]
    },
    {
      "cell_type": "code",
      "execution_count": 29,
      "metadata": {
        "id": "4nAKIV5Wm38A"
      },
      "outputs": [],
      "source": [
        "\n",
        "from skimage import exposure\n",
        "from scipy.ndimage import gaussian_filter\n",
        "from keras.preprocessing.image import ImageDataGenerator"
      ]
    },
    {
      "cell_type": "code",
      "execution_count": 30,
      "metadata": {
        "id": "__bGc21ym3-f"
      },
      "outputs": [],
      "source": [
        "# Set the target size for image resizing\n",
        "target_size = (224, 224)\n",
        "\n",
        "# Batch size for processing images\n",
        "batch_size = 32\n",
        "\n",
        "# Initialize empty lists to store images and labels\n",
        "images = []\n",
        "labels = []"
      ]
    },
    {
      "cell_type": "code",
      "execution_count": 31,
      "metadata": {
        "id": "aTZEyU8wm4BX"
      },
      "outputs": [],
      "source": [
        "# Loop through each tumor type folder\n",
        "for tumor_type in os.listdir(dataset_path):\n",
        "    tumor_type_path = os.path.join(dataset_path, tumor_type)\n",
        "\n",
        "    # Loop through each image in the tumor type folder\n",
        "    for image_file in os.listdir(tumor_type_path):\n",
        "        image_path = os.path.join(tumor_type_path, image_file)\n",
        "\n",
        "        # Read the image using OpenCV and resize it to the target size\n",
        "        img = cv2.imread(image_path)\n",
        "        img = cv2.resize(img, target_size)\n",
        "\n",
        "        # Apply the Laplacian filter\n",
        "        img = exposure.rescale_intensity(img, in_range='image', out_range='dtype')\n",
        "        img = laplace(img)\n",
        "\n",
        "        # Append the original image and label to the lists\n",
        "        images.append(img)\n",
        "        labels.append(tumor_type)\n",
        "\n",
        "        # Check if the batch size is reached, then apply data augmentation\n",
        "        if len(images) % batch_size == 0:\n",
        "            # Data Augmentation\n",
        "            datagen = ImageDataGenerator(\n",
        "                horizontal_flip=True,\n",
        "                rotation_range=20,\n",
        "                zoom_range=0.2,\n",
        "                height_shift_range=0.2,\n",
        "                width_shift_range=0.2,\n",
        "                shear_range=0.2,\n",
        "                fill_mode='nearest'\n",
        "            )\n",
        "\n",
        "            # Generate augmented images and append them to the lists\n",
        "            augmented_images = [datagen.random_transform(img) for _ in range(2)]  # Generate 1 augmented image per original\n",
        "            images.extend(augmented_images)\n",
        "            labels.extend([tumor_type] * len(augmented_images))"
      ]
    },
    {
      "cell_type": "code",
      "execution_count": 32,
      "metadata": {
        "colab": {
          "base_uri": "https://localhost:8080/"
        },
        "id": "IzTsHgcZm4Dz",
        "outputId": "c14f0543-62b5-4575-b2d5-56571dbf11de"
      },
      "outputs": [
        {
          "output_type": "stream",
          "name": "stdout",
          "text": [
            "Shape of X: (4982, 224, 224, 3)\n",
            "Shape of y: (4982,)\n"
          ]
        }
      ],
      "source": [
        "# Convert lists to NumPy arrays for model training\n",
        "X = np.array(images)\n",
        "y = np.array(labels)\n",
        "\n",
        "# Print the shape of X and y to check\n",
        "print(\"Shape of X:\", X.shape)\n",
        "print(\"Shape of y:\", y.shape)"
      ]
    },
    {
      "cell_type": "code",
      "execution_count": 33,
      "metadata": {
        "id": "u4hUIL5VrMhF"
      },
      "outputs": [],
      "source": [
        "from tensorflow.keras.models import Sequential\n",
        "from tensorflow.keras.layers import Conv2D, MaxPooling2D, Flatten, Dense\n",
        "from sklearn.model_selection import train_test_split"
      ]
    },
    {
      "cell_type": "code",
      "execution_count": 34,
      "metadata": {
        "id": "P4gcF0n-rMj0"
      },
      "outputs": [],
      "source": [
        "# Split the data into training and validation sets\n",
        "X_train, X_val, y_train, y_val = train_test_split(X, y, test_size=0.2, random_state=42)"
      ]
    },
    {
      "cell_type": "code",
      "execution_count": 35,
      "metadata": {
        "id": "hI_EduKHv6Ny"
      },
      "outputs": [],
      "source": [
        "from tensorflow.keras.models import Sequential\n",
        "from tensorflow.keras.layers import Conv2D, MaxPooling2D, Flatten, Dense\n",
        "from sklearn.model_selection import train_test_split\n",
        "from sklearn.preprocessing import LabelEncoder\n",
        "\n",
        "# Convert labels to integers\n",
        "label_encoder = LabelEncoder()\n",
        "y_train_encoded = label_encoder.fit_transform(y_train)\n",
        "y_val_encoded = label_encoder.transform(y_val)"
      ]
    },
    {
      "cell_type": "code",
      "execution_count": 36,
      "metadata": {
        "id": "GfIZGJtorMmH"
      },
      "outputs": [],
      "source": [
        "from tensorflow.keras.applications import ResNet50\n",
        "from tensorflow.keras.models import Sequential\n",
        "from tensorflow.keras.layers import Dense, GlobalAveragePooling2D\n",
        "\n",
        "# Load the pre-trained ResNet50 model (including the top layers for classification)\n",
        "base_model = ResNet50(weights='imagenet', include_top=False, input_shape=(224, 224, 3))\n",
        "\n",
        "# Freeze the layers of the pre-trained model\n",
        "for layer in base_model.layers:\n",
        "    layer.trainable = False\n",
        "\n",
        "# Create a new model using the ResNet50 base and adding your custom top layers for classification\n",
        "model = Sequential()\n",
        "model.add(base_model)\n",
        "model.add(GlobalAveragePooling2D())\n",
        "model.add(Dense(128, activation='relu'))\n",
        "model.add(Dense(4, activation='softmax'))  # Assuming there are 6 classes\n",
        "\n"
      ]
    },
    {
      "cell_type": "code",
      "execution_count": 37,
      "metadata": {
        "colab": {
          "base_uri": "https://localhost:8080/"
        },
        "id": "iRGVTPZkrMoj",
        "outputId": "740135e7-0f1b-4bdb-8907-fc18a5c38c6b"
      },
      "outputs": [
        {
          "output_type": "stream",
          "name": "stdout",
          "text": [
            "Model: \"sequential_1\"\n",
            "_________________________________________________________________\n",
            " Layer (type)                Output Shape              Param #   \n",
            "=================================================================\n",
            " resnet50 (Functional)       (None, 7, 7, 2048)        23587712  \n",
            "                                                                 \n",
            " global_average_pooling2d_1  (None, 2048)              0         \n",
            "  (GlobalAveragePooling2D)                                       \n",
            "                                                                 \n",
            " dense_2 (Dense)             (None, 128)               262272    \n",
            "                                                                 \n",
            " dense_3 (Dense)             (None, 4)                 516       \n",
            "                                                                 \n",
            "=================================================================\n",
            "Total params: 23850500 (90.98 MB)\n",
            "Trainable params: 262788 (1.00 MB)\n",
            "Non-trainable params: 23587712 (89.98 MB)\n",
            "_________________________________________________________________\n"
          ]
        }
      ],
      "source": [
        "# Compile the model\n",
        "model.compile(optimizer='adam', loss='sparse_categorical_crossentropy', metrics=['accuracy'])\n",
        "\n",
        "# Print model summary\n",
        "model.summary()\n"
      ]
    },
    {
      "cell_type": "code",
      "execution_count": 38,
      "metadata": {
        "colab": {
          "base_uri": "https://localhost:8080/"
        },
        "id": "md0sXGGlvSPN",
        "outputId": "6054da0b-c46a-45ce-b482-904236b0cceb"
      },
      "outputs": [
        {
          "output_type": "stream",
          "name": "stdout",
          "text": [
            "Epoch 1/32\n",
            "250/250 [==============================] - 24s 77ms/step - loss: 0.7065 - accuracy: 0.7443 - val_loss: 0.4742 - val_accuracy: 0.8305\n",
            "Epoch 2/32\n",
            "250/250 [==============================] - 18s 72ms/step - loss: 0.4655 - accuracy: 0.8427 - val_loss: 0.4388 - val_accuracy: 0.8375\n",
            "Epoch 3/32\n",
            "250/250 [==============================] - 18s 71ms/step - loss: 0.4222 - accuracy: 0.8514 - val_loss: 0.3831 - val_accuracy: 0.8676\n",
            "Epoch 4/32\n",
            "250/250 [==============================] - 18s 71ms/step - loss: 0.3653 - accuracy: 0.8733 - val_loss: 0.3416 - val_accuracy: 0.8776\n",
            "Epoch 5/32\n",
            "250/250 [==============================] - 16s 63ms/step - loss: 0.3482 - accuracy: 0.8740 - val_loss: 0.3479 - val_accuracy: 0.8776\n",
            "Epoch 6/32\n",
            "250/250 [==============================] - 18s 71ms/step - loss: 0.3266 - accuracy: 0.8886 - val_loss: 0.4082 - val_accuracy: 0.8435\n",
            "Epoch 7/32\n",
            "250/250 [==============================] - 16s 63ms/step - loss: 0.3034 - accuracy: 0.8954 - val_loss: 0.3246 - val_accuracy: 0.8907\n",
            "Epoch 8/32\n",
            "250/250 [==============================] - 18s 71ms/step - loss: 0.2686 - accuracy: 0.9056 - val_loss: 0.2907 - val_accuracy: 0.9007\n",
            "Epoch 9/32\n",
            "250/250 [==============================] - 16s 62ms/step - loss: 0.2728 - accuracy: 0.9066 - val_loss: 0.3297 - val_accuracy: 0.8776\n",
            "Epoch 10/32\n",
            "250/250 [==============================] - 18s 71ms/step - loss: 0.2531 - accuracy: 0.9119 - val_loss: 0.3355 - val_accuracy: 0.8786\n",
            "Epoch 11/32\n",
            "250/250 [==============================] - 16s 63ms/step - loss: 0.2569 - accuracy: 0.9072 - val_loss: 0.4372 - val_accuracy: 0.8596\n",
            "Epoch 12/32\n",
            "250/250 [==============================] - 18s 71ms/step - loss: 0.2421 - accuracy: 0.9159 - val_loss: 0.3876 - val_accuracy: 0.8576\n",
            "Epoch 13/32\n",
            "250/250 [==============================] - 15s 62ms/step - loss: 0.2391 - accuracy: 0.9202 - val_loss: 0.3236 - val_accuracy: 0.8957\n",
            "Epoch 14/32\n",
            "250/250 [==============================] - 15s 62ms/step - loss: 0.2167 - accuracy: 0.9237 - val_loss: 0.3137 - val_accuracy: 0.8967\n",
            "Epoch 15/32\n",
            "250/250 [==============================] - 18s 70ms/step - loss: 0.1900 - accuracy: 0.9317 - val_loss: 0.2732 - val_accuracy: 0.9137\n",
            "Epoch 16/32\n",
            "250/250 [==============================] - 16s 62ms/step - loss: 0.1947 - accuracy: 0.9355 - val_loss: 0.2684 - val_accuracy: 0.9107\n",
            "Epoch 17/32\n",
            "250/250 [==============================] - 15s 62ms/step - loss: 0.1780 - accuracy: 0.9425 - val_loss: 0.3230 - val_accuracy: 0.8947\n",
            "Epoch 18/32\n",
            "250/250 [==============================] - 18s 71ms/step - loss: 0.1804 - accuracy: 0.9360 - val_loss: 0.3294 - val_accuracy: 0.8806\n",
            "Epoch 19/32\n",
            "250/250 [==============================] - 18s 71ms/step - loss: 0.1693 - accuracy: 0.9390 - val_loss: 0.2937 - val_accuracy: 0.9047\n",
            "Epoch 20/32\n",
            "250/250 [==============================] - 18s 71ms/step - loss: 0.1746 - accuracy: 0.9370 - val_loss: 0.3173 - val_accuracy: 0.9027\n",
            "Epoch 21/32\n",
            "250/250 [==============================] - 16s 63ms/step - loss: 0.1857 - accuracy: 0.9317 - val_loss: 0.3263 - val_accuracy: 0.8806\n",
            "Epoch 22/32\n",
            "250/250 [==============================] - 18s 71ms/step - loss: 0.1527 - accuracy: 0.9503 - val_loss: 0.2850 - val_accuracy: 0.9087\n",
            "Epoch 23/32\n",
            "250/250 [==============================] - 18s 71ms/step - loss: 0.1595 - accuracy: 0.9423 - val_loss: 0.3345 - val_accuracy: 0.8897\n",
            "Epoch 24/32\n",
            "250/250 [==============================] - 18s 72ms/step - loss: 0.1374 - accuracy: 0.9503 - val_loss: 0.3123 - val_accuracy: 0.8997\n",
            "Epoch 25/32\n",
            "250/250 [==============================] - 16s 62ms/step - loss: 0.1321 - accuracy: 0.9556 - val_loss: 0.4009 - val_accuracy: 0.8716\n",
            "Epoch 26/32\n",
            "250/250 [==============================] - 16s 63ms/step - loss: 0.1752 - accuracy: 0.9370 - val_loss: 0.3294 - val_accuracy: 0.8927\n",
            "Epoch 27/32\n",
            "250/250 [==============================] - 16s 62ms/step - loss: 0.1323 - accuracy: 0.9533 - val_loss: 0.2907 - val_accuracy: 0.8957\n",
            "Epoch 28/32\n",
            "250/250 [==============================] - 18s 71ms/step - loss: 0.1418 - accuracy: 0.9523 - val_loss: 0.2844 - val_accuracy: 0.9047\n",
            "Epoch 29/32\n",
            "250/250 [==============================] - 18s 71ms/step - loss: 0.1288 - accuracy: 0.9518 - val_loss: 0.2997 - val_accuracy: 0.9037\n",
            "Epoch 30/32\n",
            "250/250 [==============================] - 16s 62ms/step - loss: 0.1206 - accuracy: 0.9596 - val_loss: 0.2830 - val_accuracy: 0.9127\n",
            "Epoch 31/32\n",
            "250/250 [==============================] - 16s 62ms/step - loss: 0.1042 - accuracy: 0.9604 - val_loss: 0.2822 - val_accuracy: 0.9047\n",
            "Epoch 32/32\n",
            "250/250 [==============================] - 18s 71ms/step - loss: 0.1218 - accuracy: 0.9573 - val_loss: 0.3916 - val_accuracy: 0.8806\n"
          ]
        }
      ],
      "source": [
        "\n",
        "# Train the model with validation data\n",
        "history = model.fit(X_train, y_train_encoded, epochs=32, batch_size=16, validation_data=(X_val, y_val_encoded))"
      ]
    },
    {
      "cell_type": "code",
      "execution_count": 39,
      "metadata": {
        "id": "kOsvGfUs30fs"
      },
      "outputs": [],
      "source": [
        "import matplotlib.pyplot as plt"
      ]
    },
    {
      "cell_type": "code",
      "execution_count": 40,
      "metadata": {
        "colab": {
          "base_uri": "https://localhost:8080/",
          "height": 607
        },
        "id": "0UqUnxDE30jL",
        "outputId": "663c3b35-6c60-4d96-dc6a-f20e5504f6be"
      },
      "outputs": [
        {
          "output_type": "display_data",
          "data": {
            "text/plain": [
              "<Figure size 1200x600 with 2 Axes>"
            ],
            "image/png": "[encoded data removed]"
          },
          "metadata": {}
        }
      ],
      "source": [
        "# Plotting accuracy\n",
        "plt.figure(figsize=(12, 6))\n",
        "plt.subplot(1, 2, 1)\n",
        "epochs = range(1, len(history.history['accuracy']) + 1)\n",
        "plt.plot(epochs, history.history['accuracy'], label='Training Accuracy')\n",
        "plt.plot(epochs, history.history['val_accuracy'], label='Validation Accuracy')\n",
        "plt.title('Training and Validation Accuracy')\n",
        "plt.xlabel('Epoch')\n",
        "plt.ylabel('Accuracy')\n",
        "plt.legend()\n",
        "\n",
        "# Plotting loss\n",
        "plt.subplot(1, 2, 2)\n",
        "plt.plot(epochs, history.history['loss'], label='Training Loss')\n",
        "plt.plot(epochs, history.history['val_loss'], label='Validation Loss')\n",
        "plt.title('Training and Validation Loss')\n",
        "plt.xlabel('Epoch')\n",
        "plt.ylabel('Loss')\n",
        "plt.legend()\n",
        "\n",
        "# Show the plots\n",
        "plt.tight_layout()\n",
        "plt.show()\n"
      ]
    },
    {
      "cell_type": "code",
      "execution_count": 41,
      "metadata": {
        "id": "L0hkDXN9g6co"
      },
      "outputs": [],
      "source": [
        "from sklearn.ensemble import RandomForestClassifier\n",
        "from sklearn import metrics"
      ]
    },
    {
      "cell_type": "code",
      "execution_count": 42,
      "metadata": {
        "colab": {
          "base_uri": "https://localhost:8080/"
        },
        "id": "0zxH6W0lg7JN",
        "outputId": "0109ae74-6dd8-40c2-ca5c-4f93785ffeeb"
      },
      "outputs": [
        {
          "output_type": "stream",
          "name": "stdout",
          "text": [
            "125/125 [==============================] - 12s 89ms/step\n",
            "32/32 [==============================] - 3s 89ms/step\n"
          ]
        }
      ],
      "source": [
        "# Extract features using the CNN model\n",
        "X_train_features = model.predict(X_train)\n",
        "X_val_features = model.predict(X_val)"
      ]
    },
    {
      "cell_type": "code",
      "execution_count": 43,
      "metadata": {
        "id": "SCTIdKARg7MG"
      },
      "outputs": [],
      "source": [
        "# Reshape data for Random Forest\n",
        "X_train_flatten = X_train_features.reshape(X_train_features.shape[0], -1)\n",
        "X_val_flatten = X_val_features.reshape(X_val_features.shape[0], -1)"
      ]
    },
    {
      "cell_type": "code",
      "execution_count": 44,
      "metadata": {
        "colab": {
          "base_uri": "https://localhost:8080/"
        },
        "id": "J81v2Vshg7Op",
        "outputId": "7fc936a3-eb15-4057-c718-ae707a909594"
      },
      "outputs": [
        {
          "output_type": "stream",
          "name": "stdout",
          "text": [
            "Random Forest (on Vgg19 features): Accuracy = 0.8987, Precision = 0.8994, Recall = 0.8987, F1 Score = 0.8989\n"
          ]
        }
      ],
      "source": [
        "# Initialize Random Forest classifier\n",
        "random_forest_classifier = RandomForestClassifier(n_estimators=50, random_state=42)\n",
        "\n",
        "# Train Random Forest classifier\n",
        "random_forest_classifier.fit(X_train_flatten, y_train_encoded)\n",
        "\n",
        "# Make predictions on validation set\n",
        "random_forest_predictions = random_forest_classifier.predict(X_val_flatten)\n",
        "\n",
        "# Evaluate performance\n",
        "random_forest_accuracy = metrics.accuracy_score(y_val_encoded, random_forest_predictions)\n",
        "random_forest_precision = metrics.precision_score(y_val_encoded, random_forest_predictions, average='weighted')\n",
        "random_forest_recall = metrics.recall_score(y_val_encoded, random_forest_predictions, average='weighted')\n",
        "random_forest_f1 = metrics.f1_score(y_val_encoded, random_forest_predictions, average='weighted')\n",
        "\n",
        "# Print results\n",
        "print(\"Random Forest (on Vgg19 features): Accuracy = {:.4f}, Precision = {:.4f}, Recall = {:.4f}, F1 Score = {:.4f}\".format(random_forest_accuracy, random_forest_precision, random_forest_recall, random_forest_f1))"
      ]
    },
    {
      "cell_type": "code",
      "execution_count": 45,
      "metadata": {
        "id": "hzBW5941g7SA"
      },
      "outputs": [],
      "source": [
        "from sklearn.neighbors import KNeighborsClassifier\n"
      ]
    },
    {
      "cell_type": "code",
      "execution_count": 46,
      "metadata": {
        "colab": {
          "base_uri": "https://localhost:8080/"
        },
        "id": "6IdJTLkUhiiR",
        "outputId": "ca5ccef1-a7fc-4938-b50f-5129333ffbb2"
      },
      "outputs": [
        {
          "output_type": "stream",
          "name": "stdout",
          "text": [
            "k-Nearest Neighbors (on vgg19 features): Accuracy = 0.8917, Precision = 0.8927, Recall = 0.8917, F1 Score = 0.8920\n"
          ]
        }
      ],
      "source": [
        "# Initialize k-NN classifier\n",
        "knn_classifier = KNeighborsClassifier(n_neighbors=5)  # You can adjust the number of neighbors as needed\n",
        "\n",
        "# Train k-NN classifier\n",
        "knn_classifier.fit(X_train_flatten, y_train_encoded)\n",
        "\n",
        "# Make predictions on the validation set\n",
        "knn_predictions = knn_classifier.predict(X_val_flatten)\n",
        "\n",
        "# Evaluate performance\n",
        "knn_accuracy = metrics.accuracy_score(y_val_encoded, knn_predictions)\n",
        "knn_precision = metrics.precision_score(y_val_encoded, knn_predictions, average='weighted')\n",
        "knn_recall = metrics.recall_score(y_val_encoded, knn_predictions, average='weighted')\n",
        "knn_f1 = metrics.f1_score(y_val_encoded, knn_predictions, average='weighted')\n",
        "\n",
        "# Print results for k-NN\n",
        "print(\"k-Nearest Neighbors (on vgg19 features): Accuracy = {:.4f}, Precision = {:.4f}, Recall = {:.4f}, F1 Score = {:.4f}\".format(knn_accuracy, knn_precision, knn_recall, knn_f1))\n"
      ]
    },
    {
      "cell_type": "code",
      "execution_count": 47,
      "metadata": {
        "id": "y0aMzjwmhilG"
      },
      "outputs": [],
      "source": [
        "from sklearn.ensemble import AdaBoostClassifier\n"
      ]
    },
    {
      "cell_type": "code",
      "execution_count": 48,
      "metadata": {
        "colab": {
          "base_uri": "https://localhost:8080/"
        },
        "id": "0NfOPKElhioD",
        "outputId": "dc0b1f38-233d-4119-dec8-b1939b76e153"
      },
      "outputs": [
        {
          "output_type": "stream",
          "name": "stdout",
          "text": [
            "AdaBoost (on vgg19 features): Accuracy = 0.8345, Precision = 0.8591, Recall = 0.8345, F1 Score = 0.8373\n"
          ]
        }
      ],
      "source": [
        "# Initialize AdaBoost classifier with a decision tree base estimator\n",
        "adaboost_classifier = AdaBoostClassifier(n_estimators=50, random_state=42)\n",
        "\n",
        "# Train AdaBoost classifier\n",
        "adaboost_classifier.fit(X_train_flatten, y_train_encoded)\n",
        "\n",
        "# Make predictions on the validation set\n",
        "adaboost_predictions = adaboost_classifier.predict(X_val_flatten)\n",
        "\n",
        "# Evaluate performance\n",
        "adaboost_accuracy = metrics.accuracy_score(y_val_encoded, adaboost_predictions)\n",
        "adaboost_precision = metrics.precision_score(y_val_encoded, adaboost_predictions, average='weighted')\n",
        "adaboost_recall = metrics.recall_score(y_val_encoded, adaboost_predictions, average='weighted')\n",
        "adaboost_f1 = metrics.f1_score(y_val_encoded, adaboost_predictions, average='weighted')\n",
        "\n",
        "# Print results for AdaBoost\n",
        "print(\"AdaBoost (on vgg19 features): Accuracy = {:.4f}, Precision = {:.4f}, Recall = {:.4f}, F1 Score = {:.4f}\".format(adaboost_accuracy, adaboost_precision, adaboost_recall, adaboost_f1))\n"
      ]
    },
    {
      "cell_type": "code",
      "execution_count": 48,
      "metadata": {
        "id": "o7GrYsyohiqx"
      },
      "outputs": [],
      "source": []
    },
    {
      "cell_type": "code",
      "execution_count": 48,
      "metadata": {
        "id": "RAhPeUTThit5"
      },
      "outputs": [],
      "source": []
    }
  ],
  "metadata": {
    "accelerator": "GPU",
    "colab": {
      "provenance": []
    },
    "kernelspec": {
      "display_name": "Python 3",
      "name": "python3"
    },
    "language_info": {
      "name": "python"
    }
  },
  "nbformat": 4,
  "nbformat_minor": 0
}