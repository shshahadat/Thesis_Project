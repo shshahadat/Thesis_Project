{
  "nbformat": 4,
  "nbformat_minor": 0,
  "metadata": {
    "colab": {
      "provenance": [],
      "gpuType": "T4"
    },
    "kernelspec": {
      "name": "python3",
      "display_name": "Python 3"
    },
    "language_info": {
      "name": "python"
    },
    "accelerator": "GPU"
  },
  "cells": [
    {
      "cell_type": "code",
      "execution_count": 1,
      "metadata": {
        "id": "4AyeoeFwqZ7y"
      },
      "outputs": [],
      "source": [
        "from scipy.ndimage import laplace"
      ]
    },
    {
      "cell_type": "code",
      "source": [
        "from google.colab import drive\n",
        "drive.mount('/content/drive')"
      ],
      "metadata": {
        "colab": {
          "base_uri": "https://localhost:8080/"
        },
        "id": "PZTydwowqhEM",
        "outputId": "0774b8a5-b66c-4a44-e851-e39ad346309e"
      },
      "execution_count": 2,
      "outputs": [
        {
          "output_type": "stream",
          "name": "stdout",
          "text": [
            "Mounted at /content/drive\n"
          ]
        }
      ]
    },
    {
      "cell_type": "code",
      "source": [
        "import os\n",
        "import cv2\n",
        "import numpy as np\n",
        "from sklearn.model_selection import train_test_split\n",
        "from tensorflow.keras.preprocessing.image import ImageDataGenerator\n",
        "from tensorflow.keras.models import Sequential\n",
        "from tensorflow.keras.layers import Flatten, Dense\n",
        "from tensorflow.keras.applications import VGG19\n",
        "from tensorflow.keras.optimizers import Adam\n",
        "from sklearn.preprocessing import LabelEncoder"
      ],
      "metadata": {
        "id": "pXQEV8marMHz"
      },
      "execution_count": 3,
      "outputs": []
    },
    {
      "cell_type": "code",
      "source": [
        "# Set the path to your dataset folder in Google Drive\n",
        "dataset_path = \"/content/drive/MyDrive/Training\""
      ],
      "metadata": {
        "id": "07vj51UmrMXF"
      },
      "execution_count": 4,
      "outputs": []
    },
    {
      "cell_type": "code",
      "source": [
        "\n",
        "from skimage import exposure\n",
        "from scipy.ndimage import gaussian_filter\n",
        "from keras.preprocessing.image import ImageDataGenerator"
      ],
      "metadata": {
        "id": "4nAKIV5Wm38A"
      },
      "execution_count": 5,
      "outputs": []
    },
    {
      "cell_type": "code",
      "source": [
        "# Set the target size for image resizing\n",
        "target_size = (224, 224)\n",
        "\n",
        "# Batch size for processing images\n",
        "batch_size = 32\n",
        "\n",
        "# Initialize empty lists to store images and labels\n",
        "images = []\n",
        "labels = []"
      ],
      "metadata": {
        "id": "__bGc21ym3-f"
      },
      "execution_count": 6,
      "outputs": []
    },
    {
      "cell_type": "code",
      "source": [
        "# Loop through each tumor type folder\n",
        "for tumor_type in os.listdir(dataset_path):\n",
        "    tumor_type_path = os.path.join(dataset_path, tumor_type)\n",
        "\n",
        "    # Loop through each image in the tumor type folder\n",
        "    for image_file in os.listdir(tumor_type_path):\n",
        "        image_path = os.path.join(tumor_type_path, image_file)\n",
        "\n",
        "        # Read the image using OpenCV and resize it to the target size\n",
        "        img = cv2.imread(image_path)\n",
        "        img = cv2.resize(img, target_size)\n",
        "\n",
        "        # Apply the Laplacian filter\n",
        "        img = exposure.rescale_intensity(img, in_range='image', out_range='dtype')\n",
        "        img = laplace(img)\n",
        "\n",
        "        # Append the original image and label to the lists\n",
        "        images.append(img)\n",
        "        labels.append(tumor_type)\n",
        "\n",
        "        # Check if the batch size is reached, then apply data augmentation\n",
        "        if len(images) % batch_size == 0:\n",
        "            # Data Augmentation\n",
        "            datagen = ImageDataGenerator(\n",
        "                horizontal_flip=True,\n",
        "                rotation_range=20,\n",
        "                zoom_range=0.2,\n",
        "                height_shift_range=0.2,\n",
        "                width_shift_range=0.2,\n",
        "                shear_range=0.2,\n",
        "                fill_mode='nearest'\n",
        "            )\n",
        "\n",
        "            # Generate augmented images and append them to the lists\n",
        "            augmented_images = [datagen.random_transform(img) for _ in range(2)]  # Generate 1 augmented image per original\n",
        "            images.extend(augmented_images)\n",
        "            labels.extend([tumor_type] * len(augmented_images))"
      ],
      "metadata": {
        "id": "aTZEyU8wm4BX"
      },
      "execution_count": 7,
      "outputs": []
    },
    {
      "cell_type": "code",
      "source": [
        "# Convert lists to NumPy arrays for model training\n",
        "X = np.array(images)\n",
        "y = np.array(labels)\n",
        "\n",
        "# Print the shape of X and y to check\n",
        "print(\"Shape of X:\", X.shape)\n",
        "print(\"Shape of y:\", y.shape)"
      ],
      "metadata": {
        "colab": {
          "base_uri": "https://localhost:8080/"
        },
        "id": "IzTsHgcZm4Dz",
        "outputId": "4c652515-7db9-40f9-f17d-327f13b6ff57"
      },
      "execution_count": 8,
      "outputs": [
        {
          "output_type": "stream",
          "name": "stdout",
          "text": [
            "Shape of X: (4982, 224, 224, 3)\n",
            "Shape of y: (4982,)\n"
          ]
        }
      ]
    },
    {
      "cell_type": "code",
      "source": [
        "from tensorflow.keras.models import Sequential\n",
        "from tensorflow.keras.layers import Conv2D, MaxPooling2D, Flatten, Dense\n",
        "from sklearn.model_selection import train_test_split"
      ],
      "metadata": {
        "id": "u4hUIL5VrMhF"
      },
      "execution_count": 9,
      "outputs": []
    },
    {
      "cell_type": "code",
      "source": [
        "# Split the data into training and validation sets\n",
        "X_train, X_val, y_train, y_val = train_test_split(X, y, test_size=0.2, random_state=42)"
      ],
      "metadata": {
        "id": "P4gcF0n-rMj0"
      },
      "execution_count": 10,
      "outputs": []
    },
    {
      "cell_type": "code",
      "source": [
        "from tensorflow.keras.models import Sequential\n",
        "from tensorflow.keras.layers import Conv2D, MaxPooling2D, Flatten, Dense\n",
        "from sklearn.model_selection import train_test_split\n",
        "from sklearn.preprocessing import LabelEncoder\n",
        "\n",
        "# Convert labels to integers\n",
        "label_encoder = LabelEncoder()\n",
        "y_train_encoded = label_encoder.fit_transform(y_train)\n",
        "y_val_encoded = label_encoder.transform(y_val)"
      ],
      "metadata": {
        "id": "hI_EduKHv6Ny"
      },
      "execution_count": 11,
      "outputs": []
    },
    {
      "cell_type": "code",
      "source": [
        "base_model = VGG19(weights='imagenet', include_top=False, input_shape=(224, 224, 3))\n",
        "\n",
        "for layer in base_model.layers:\n",
        "    layer.trainable = False\n",
        "\n",
        "model = Sequential()\n",
        "model.add(base_model)\n",
        "model.add(Flatten())\n",
        "model.add(Dense(128, activation='relu'))\n",
        "model.add(Dense(4, activation='softmax'))  # Assuming there are 6 classes\n"
      ],
      "metadata": {
        "id": "GfIZGJtorMmH",
        "colab": {
          "base_uri": "https://localhost:8080/"
        },
        "outputId": "1d9c91a6-c341-4465-d91b-dd8ffb91ce22"
      },
      "execution_count": 12,
      "outputs": [
        {
          "output_type": "stream",
          "name": "stdout",
          "text": [
            "Downloading data from https://storage.googleapis.com/tensorflow/keras-applications/vgg19/vgg19_weights_tf_dim_ordering_tf_kernels_notop.h5\n",
            "80134624/80134624 [==============================] - 0s 0us/step\n"
          ]
        }
      ]
    },
    {
      "cell_type": "code",
      "source": [
        "model.compile(optimizer=Adam(), loss='sparse_categorical_crossentropy', metrics=['accuracy'])\n",
        "\n",
        "\n",
        "# Print model summary\n",
        "model.summary()\n"
      ],
      "metadata": {
        "id": "iRGVTPZkrMoj",
        "colab": {
          "base_uri": "https://localhost:8080/"
        },
        "outputId": "91547ca3-0cae-4d26-f353-8b8b82223ac0"
      },
      "execution_count": 13,
      "outputs": [
        {
          "output_type": "stream",
          "name": "stdout",
          "text": [
            "Model: \"sequential\"\n",
            "_________________________________________________________________\n",
            " Layer (type)                Output Shape              Param #   \n",
            "=================================================================\n",
            " vgg19 (Functional)          (None, 7, 7, 512)         20024384  \n",
            "                                                                 \n",
            " flatten (Flatten)           (None, 25088)             0         \n",
            "                                                                 \n",
            " dense (Dense)               (None, 128)               3211392   \n",
            "                                                                 \n",
            " dense_1 (Dense)             (None, 4)                 516       \n",
            "                                                                 \n",
            "=================================================================\n",
            "Total params: 23236292 (88.64 MB)\n",
            "Trainable params: 3211908 (12.25 MB)\n",
            "Non-trainable params: 20024384 (76.39 MB)\n",
            "_________________________________________________________________\n"
          ]
        }
      ]
    },
    {
      "cell_type": "code",
      "source": [
        "\n",
        "# Train the model with validation data\n",
        "history = model.fit(X_train, y_train_encoded, epochs=32, batch_size=16, validation_data=(X_val, y_val_encoded))\n"
      ],
      "metadata": {
        "id": "md0sXGGlvSPN",
        "colab": {
          "base_uri": "https://localhost:8080/"
        },
        "outputId": "b59cbbc0-40bc-4cbe-bdec-db2e56f4455e"
      },
      "execution_count": 14,
      "outputs": [
        {
          "output_type": "stream",
          "name": "stdout",
          "text": [
            "Epoch 1/32\n",
            "250/250 [==============================] - 32s 103ms/step - loss: 4.1789 - accuracy: 0.7588 - val_loss: 0.5023 - val_accuracy: 0.8355\n",
            "Epoch 2/32\n",
            "250/250 [==============================] - 23s 92ms/step - loss: 0.3839 - accuracy: 0.8728 - val_loss: 0.4761 - val_accuracy: 0.8315\n",
            "Epoch 3/32\n",
            "250/250 [==============================] - 24s 94ms/step - loss: 0.3186 - accuracy: 0.8733 - val_loss: 0.3368 - val_accuracy: 0.8857\n",
            "Epoch 4/32\n",
            "250/250 [==============================] - 25s 99ms/step - loss: 0.2644 - accuracy: 0.9084 - val_loss: 0.4353 - val_accuracy: 0.8967\n",
            "Epoch 5/32\n",
            "250/250 [==============================] - 25s 102ms/step - loss: 0.2101 - accuracy: 0.9227 - val_loss: 0.3513 - val_accuracy: 0.9017\n",
            "Epoch 6/32\n",
            "250/250 [==============================] - 25s 101ms/step - loss: 0.1711 - accuracy: 0.9373 - val_loss: 0.4186 - val_accuracy: 0.8947\n",
            "Epoch 7/32\n",
            "250/250 [==============================] - 25s 100ms/step - loss: 0.1547 - accuracy: 0.9476 - val_loss: 0.3559 - val_accuracy: 0.9067\n",
            "Epoch 8/32\n",
            "250/250 [==============================] - 25s 101ms/step - loss: 0.1665 - accuracy: 0.9400 - val_loss: 0.3766 - val_accuracy: 0.9087\n",
            "Epoch 9/32\n",
            "250/250 [==============================] - 25s 101ms/step - loss: 0.1343 - accuracy: 0.9523 - val_loss: 0.4121 - val_accuracy: 0.9057\n",
            "Epoch 10/32\n",
            "250/250 [==============================] - 25s 101ms/step - loss: 0.1698 - accuracy: 0.9390 - val_loss: 0.5198 - val_accuracy: 0.8877\n",
            "Epoch 11/32\n",
            "250/250 [==============================] - 25s 101ms/step - loss: 0.1138 - accuracy: 0.9586 - val_loss: 0.4106 - val_accuracy: 0.9037\n",
            "Epoch 12/32\n",
            "250/250 [==============================] - 25s 101ms/step - loss: 0.0916 - accuracy: 0.9624 - val_loss: 0.5692 - val_accuracy: 0.8806\n",
            "Epoch 13/32\n",
            "250/250 [==============================] - 25s 101ms/step - loss: 0.0874 - accuracy: 0.9619 - val_loss: 0.5519 - val_accuracy: 0.8796\n",
            "Epoch 14/32\n",
            "250/250 [==============================] - 25s 101ms/step - loss: 0.1140 - accuracy: 0.9553 - val_loss: 0.4909 - val_accuracy: 0.9057\n",
            "Epoch 15/32\n",
            "250/250 [==============================] - 25s 101ms/step - loss: 0.1089 - accuracy: 0.9563 - val_loss: 0.4748 - val_accuracy: 0.9137\n",
            "Epoch 16/32\n",
            "250/250 [==============================] - 25s 101ms/step - loss: 0.0653 - accuracy: 0.9681 - val_loss: 0.5551 - val_accuracy: 0.9057\n",
            "Epoch 17/32\n",
            "250/250 [==============================] - 25s 101ms/step - loss: 0.0723 - accuracy: 0.9676 - val_loss: 0.4892 - val_accuracy: 0.9067\n",
            "Epoch 18/32\n",
            "250/250 [==============================] - 25s 101ms/step - loss: 0.0677 - accuracy: 0.9706 - val_loss: 0.4918 - val_accuracy: 0.9027\n",
            "Epoch 19/32\n",
            "250/250 [==============================] - 25s 101ms/step - loss: 0.0728 - accuracy: 0.9694 - val_loss: 0.7146 - val_accuracy: 0.9017\n",
            "Epoch 20/32\n",
            "250/250 [==============================] - 25s 101ms/step - loss: 0.0531 - accuracy: 0.9774 - val_loss: 0.6822 - val_accuracy: 0.9007\n",
            "Epoch 21/32\n",
            "250/250 [==============================] - 25s 101ms/step - loss: 0.0855 - accuracy: 0.9689 - val_loss: 0.6883 - val_accuracy: 0.8927\n",
            "Epoch 22/32\n",
            "250/250 [==============================] - 25s 101ms/step - loss: 0.0864 - accuracy: 0.9661 - val_loss: 0.8012 - val_accuracy: 0.8917\n",
            "Epoch 23/32\n",
            "250/250 [==============================] - 25s 101ms/step - loss: 0.0873 - accuracy: 0.9679 - val_loss: 0.6364 - val_accuracy: 0.9087\n",
            "Epoch 24/32\n",
            "250/250 [==============================] - 25s 101ms/step - loss: 0.1203 - accuracy: 0.9576 - val_loss: 0.5099 - val_accuracy: 0.8887\n",
            "Epoch 25/32\n",
            "250/250 [==============================] - 25s 101ms/step - loss: 0.0807 - accuracy: 0.9661 - val_loss: 0.6513 - val_accuracy: 0.9107\n",
            "Epoch 26/32\n",
            "250/250 [==============================] - 25s 101ms/step - loss: 0.0683 - accuracy: 0.9694 - val_loss: 0.5716 - val_accuracy: 0.9037\n",
            "Epoch 27/32\n",
            "250/250 [==============================] - 25s 101ms/step - loss: 0.0682 - accuracy: 0.9749 - val_loss: 0.5949 - val_accuracy: 0.9198\n",
            "Epoch 28/32\n",
            "250/250 [==============================] - 25s 101ms/step - loss: 0.0866 - accuracy: 0.9731 - val_loss: 0.7499 - val_accuracy: 0.9067\n",
            "Epoch 29/32\n",
            "250/250 [==============================] - 25s 101ms/step - loss: 0.0576 - accuracy: 0.9789 - val_loss: 0.6488 - val_accuracy: 0.9017\n",
            "Epoch 30/32\n",
            "250/250 [==============================] - 25s 101ms/step - loss: 0.0412 - accuracy: 0.9837 - val_loss: 0.6956 - val_accuracy: 0.9178\n",
            "Epoch 31/32\n",
            "250/250 [==============================] - 25s 101ms/step - loss: 0.0452 - accuracy: 0.9857 - val_loss: 0.5847 - val_accuracy: 0.9188\n",
            "Epoch 32/32\n",
            "250/250 [==============================] - 25s 101ms/step - loss: 0.0365 - accuracy: 0.9859 - val_loss: 0.7806 - val_accuracy: 0.9107\n"
          ]
        }
      ]
    },
    {
      "cell_type": "code",
      "source": [
        "import matplotlib.pyplot as plt"
      ],
      "metadata": {
        "id": "WA-zYDcry8pX"
      },
      "execution_count": 15,
      "outputs": []
    },
    {
      "cell_type": "code",
      "source": [
        "# Plotting accuracy\n",
        "plt.figure(figsize=(12, 6))\n",
        "plt.subplot(1, 2, 1)\n",
        "epochs = range(1, len(history.history['accuracy']) + 1)\n",
        "plt.plot(epochs, history.history['accuracy'], label='Training Accuracy')\n",
        "plt.plot(epochs, history.history['val_accuracy'], label='Validation Accuracy')\n",
        "plt.title('Training and Validation Accuracy')\n",
        "plt.xlabel('Epoch')\n",
        "plt.ylabel('Accuracy')\n",
        "plt.legend()\n",
        "\n",
        "# Plotting loss\n",
        "plt.subplot(1, 2, 2)\n",
        "plt.plot(epochs, history.history['loss'], label='Training Loss')\n",
        "plt.plot(epochs, history.history['val_loss'], label='Validation Loss')\n",
        "plt.title('Training and Validation Loss')\n",
        "plt.xlabel('Epoch')\n",
        "plt.ylabel('Loss')\n",
        "plt.legend()\n",
        "\n",
        "# Show the plots\n",
        "plt.tight_layout()\n",
        "plt.show()\n"
      ],
      "metadata": {
        "colab": {
          "base_uri": "https://localhost:8080/",
          "height": 607
        },
        "id": "YQ9EV4QFy8s2",
        "outputId": "cd393745-e130-4fc1-88af-d33b3bbf550d"
      },
      "execution_count": 16,
      "outputs": [
        {
          "output_type": "display_data",
          "data": {
            "text/plain": [
              "<Figure size 1200x600 with 2 Axes>"
            ],
            "image/png": "[encoded data removed]"
          },
          "metadata": {}
        }
      ]
    },
    {
      "cell_type": "code",
      "source": [
        "from sklearn.ensemble import RandomForestClassifier\n",
        "from sklearn import metrics"
      ],
      "metadata": {
        "id": "L0hkDXN9g6co"
      },
      "execution_count": 17,
      "outputs": []
    },
    {
      "cell_type": "code",
      "source": [
        "# Extract features using the CNN model\n",
        "X_train_features = model.predict(X_train)\n",
        "X_val_features = model.predict(X_val)"
      ],
      "metadata": {
        "id": "0zxH6W0lg7JN",
        "colab": {
          "base_uri": "https://localhost:8080/"
        },
        "outputId": "c9fbd442-b8e0-4732-9323-393c63f98120"
      },
      "execution_count": 18,
      "outputs": [
        {
          "output_type": "stream",
          "name": "stdout",
          "text": [
            "125/125 [==============================] - 31s 193ms/step\n",
            "32/32 [==============================] - 5s 159ms/step\n"
          ]
        }
      ]
    },
    {
      "cell_type": "code",
      "source": [
        "# Reshape data for Random Forest\n",
        "X_train_flatten = X_train_features.reshape(X_train_features.shape[0], -1)\n",
        "X_val_flatten = X_val_features.reshape(X_val_features.shape[0], -1)"
      ],
      "metadata": {
        "id": "SCTIdKARg7MG"
      },
      "execution_count": 19,
      "outputs": []
    },
    {
      "cell_type": "code",
      "source": [
        "# Initialize Random Forest classifier\n",
        "random_forest_classifier = RandomForestClassifier(n_estimators=50, random_state=42)\n",
        "\n",
        "# Train Random Forest classifier\n",
        "random_forest_classifier.fit(X_train_flatten, y_train_encoded)\n",
        "\n",
        "# Make predictions on validation set\n",
        "random_forest_predictions = random_forest_classifier.predict(X_val_flatten)\n",
        "\n",
        "# Evaluate performance\n",
        "random_forest_accuracy = metrics.accuracy_score(y_val_encoded, random_forest_predictions)\n",
        "random_forest_precision = metrics.precision_score(y_val_encoded, random_forest_predictions, average='weighted')\n",
        "random_forest_recall = metrics.recall_score(y_val_encoded, random_forest_predictions, average='weighted')\n",
        "random_forest_f1 = metrics.f1_score(y_val_encoded, random_forest_predictions, average='weighted')\n",
        "\n",
        "# Print results\n",
        "print(\"Random Forest (on Vgg19 features): Accuracy = {:.4f}, Precision = {:.4f}, Recall = {:.4f}, F1 Score = {:.4f}\".format(random_forest_accuracy, random_forest_precision, random_forest_recall, random_forest_f1))"
      ],
      "metadata": {
        "id": "J81v2Vshg7Op",
        "colab": {
          "base_uri": "https://localhost:8080/"
        },
        "outputId": "e3bed069-140b-4db0-c006-00c55ce80f13"
      },
      "execution_count": 20,
      "outputs": [
        {
          "output_type": "stream",
          "name": "stdout",
          "text": [
            "Random Forest (on Vgg19 features): Accuracy = 0.9168, Precision = 0.9170, Recall = 0.9168, F1 Score = 0.9166\n"
          ]
        }
      ]
    },
    {
      "cell_type": "code",
      "source": [
        "from sklearn.neighbors import KNeighborsClassifier\n"
      ],
      "metadata": {
        "id": "hzBW5941g7SA"
      },
      "execution_count": 21,
      "outputs": []
    },
    {
      "cell_type": "code",
      "source": [
        "# Initialize k-NN classifier\n",
        "knn_classifier = KNeighborsClassifier(n_neighbors=5)  # You can adjust the number of neighbors as needed\n",
        "\n",
        "# Train k-NN classifier\n",
        "knn_classifier.fit(X_train_flatten, y_train_encoded)\n",
        "\n",
        "# Make predictions on the validation set\n",
        "knn_predictions = knn_classifier.predict(X_val_flatten)\n",
        "\n",
        "# Evaluate performance\n",
        "knn_accuracy = metrics.accuracy_score(y_val_encoded, knn_predictions)\n",
        "knn_precision = metrics.precision_score(y_val_encoded, knn_predictions, average='weighted')\n",
        "knn_recall = metrics.recall_score(y_val_encoded, knn_predictions, average='weighted')\n",
        "knn_f1 = metrics.f1_score(y_val_encoded, knn_predictions, average='weighted')\n",
        "\n",
        "# Print results for k-NN\n",
        "print(\"k-Nearest Neighbors (on vgg19 features): Accuracy = {:.4f}, Precision = {:.4f}, Recall = {:.4f}, F1 Score = {:.4f}\".format(knn_accuracy, knn_precision, knn_recall, knn_f1))\n"
      ],
      "metadata": {
        "id": "6IdJTLkUhiiR",
        "colab": {
          "base_uri": "https://localhost:8080/"
        },
        "outputId": "f5882885-e6a5-4263-e3e4-752aef8318d1"
      },
      "execution_count": 22,
      "outputs": [
        {
          "output_type": "stream",
          "name": "stdout",
          "text": [
            "k-Nearest Neighbors (on vgg19 features): Accuracy = 0.9168, Precision = 0.9169, Recall = 0.9168, F1 Score = 0.9165\n"
          ]
        }
      ]
    },
    {
      "cell_type": "code",
      "source": [
        "from sklearn.ensemble import AdaBoostClassifier\n"
      ],
      "metadata": {
        "id": "y0aMzjwmhilG"
      },
      "execution_count": 23,
      "outputs": []
    },
    {
      "cell_type": "code",
      "source": [
        "# Initialize AdaBoost classifier with a decision tree base estimator\n",
        "adaboost_classifier = AdaBoostClassifier(n_estimators=50, random_state=42)\n",
        "\n",
        "# Train AdaBoost classifier\n",
        "adaboost_classifier.fit(X_train_flatten, y_train_encoded)\n",
        "\n",
        "# Make predictions on the validation set\n",
        "adaboost_predictions = adaboost_classifier.predict(X_val_flatten)\n",
        "\n",
        "# Evaluate performance\n",
        "adaboost_accuracy = metrics.accuracy_score(y_val_encoded, adaboost_predictions)\n",
        "adaboost_precision = metrics.precision_score(y_val_encoded, adaboost_predictions, average='weighted')\n",
        "adaboost_recall = metrics.recall_score(y_val_encoded, adaboost_predictions, average='weighted')\n",
        "adaboost_f1 = metrics.f1_score(y_val_encoded, adaboost_predictions, average='weighted')\n",
        "\n",
        "# Print results for AdaBoost\n",
        "print(\"AdaBoost (on vgg19 features): Accuracy = {:.4f}, Precision = {:.4f}, Recall = {:.4f}, F1 Score = {:.4f}\".format(adaboost_accuracy, adaboost_precision, adaboost_recall, adaboost_f1))\n"
      ],
      "metadata": {
        "id": "0NfOPKElhioD",
        "colab": {
          "base_uri": "https://localhost:8080/"
        },
        "outputId": "c5f0cf32-4f46-4283-cc93-95725bbe9d0f"
      },
      "execution_count": 24,
      "outputs": [
        {
          "output_type": "stream",
          "name": "stdout",
          "text": [
            "AdaBoost (on vgg19 features): Accuracy = 0.9137, Precision = 0.9146, Recall = 0.9137, F1 Score = 0.9129\n"
          ]
        }
      ]
    },
    {
      "cell_type": "code",
      "source": [],
      "metadata": {
        "id": "o7GrYsyohiqx"
      },
      "execution_count": 24,
      "outputs": []
    },
    {
      "cell_type": "code",
      "source": [],
      "metadata": {
        "id": "RAhPeUTThit5"
      },
      "execution_count": 24,
      "outputs": []
    }
  ]
}