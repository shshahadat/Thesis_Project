{
  "nbformat": 4,
  "nbformat_minor": 0,
  "metadata": {
    "colab": {
      "provenance": [],
      "gpuType": "T4"
    },
    "kernelspec": {
      "name": "python3",
      "display_name": "Python 3"
    },
    "language_info": {
      "name": "python"
    },
    "accelerator": "GPU"
  },
  "cells": [
    {
      "cell_type": "code",
      "execution_count": 1,
      "metadata": {
        "id": "4AyeoeFwqZ7y"
      },
      "outputs": [],
      "source": [
        "from scipy.ndimage import laplace"
      ]
    },
    {
      "cell_type": "code",
      "source": [
        "from google.colab import drive\n",
        "drive.mount('/content/drive')"
      ],
      "metadata": {
        "colab": {
          "base_uri": "https://localhost:8080/"
        },
        "id": "PZTydwowqhEM",
        "outputId": "2599afc1-615a-49b0-a072-ace1894d23a1"
      },
      "execution_count": 2,
      "outputs": [
        {
          "output_type": "stream",
          "name": "stdout",
          "text": [
            "Mounted at /content/drive\n"
          ]
        }
      ]
    },
    {
      "cell_type": "code",
      "source": [
        "import os\n",
        "import cv2\n",
        "import numpy as np\n",
        "from sklearn.model_selection import train_test_split\n",
        "from tensorflow.keras.preprocessing.image import ImageDataGenerator\n",
        "from tensorflow.keras.models import Sequential\n",
        "from tensorflow.keras.layers import Flatten, Dense\n",
        "from tensorflow.keras.applications import VGG19\n",
        "from tensorflow.keras.optimizers import Adam\n",
        "from sklearn.preprocessing import LabelEncoder"
      ],
      "metadata": {
        "id": "pXQEV8marMHz"
      },
      "execution_count": 3,
      "outputs": []
    },
    {
      "cell_type": "code",
      "source": [
        "# Set the path to your dataset folder in Google Drive\n",
        "dataset_path = \"/content/drive/MyDrive/Training\""
      ],
      "metadata": {
        "id": "07vj51UmrMXF"
      },
      "execution_count": 4,
      "outputs": []
    },
    {
      "cell_type": "code",
      "source": [
        "\n",
        "from skimage import exposure\n",
        "from scipy.ndimage import gaussian_filter\n",
        "from keras.preprocessing.image import ImageDataGenerator"
      ],
      "metadata": {
        "id": "4nAKIV5Wm38A"
      },
      "execution_count": 5,
      "outputs": []
    },
    {
      "cell_type": "code",
      "source": [
        "# Set the target size for image resizing\n",
        "target_size = (224, 224)\n",
        "\n",
        "# Batch size for processing images\n",
        "batch_size = 32\n",
        "\n",
        "# Initialize empty lists to store images and labels\n",
        "images = []\n",
        "labels = []"
      ],
      "metadata": {
        "id": "__bGc21ym3-f"
      },
      "execution_count": 6,
      "outputs": []
    },
    {
      "cell_type": "code",
      "source": [
        "# Loop through each tumor type folder\n",
        "for tumor_type in os.listdir(dataset_path):\n",
        "    tumor_type_path = os.path.join(dataset_path, tumor_type)\n",
        "\n",
        "    # Loop through each image in the tumor type folder\n",
        "    for image_file in os.listdir(tumor_type_path):\n",
        "        image_path = os.path.join(tumor_type_path, image_file)\n",
        "\n",
        "        # Read the image using OpenCV and resize it to the target size\n",
        "        img = cv2.imread(image_path)\n",
        "        img = cv2.resize(img, target_size)\n",
        "\n",
        "        # Apply the Laplacian filter\n",
        "        img = exposure.rescale_intensity(img, in_range='image', out_range='dtype')\n",
        "        img = laplace(img)\n",
        "\n",
        "        # Append the original image and label to the lists\n",
        "        images.append(img)\n",
        "        labels.append(tumor_type)\n",
        "\n",
        "        # Check if the batch size is reached, then apply data augmentation\n",
        "        if len(images) % batch_size == 0:\n",
        "            # Data Augmentation\n",
        "            datagen = ImageDataGenerator(\n",
        "                horizontal_flip=True,\n",
        "                rotation_range=20,\n",
        "                zoom_range=0.2,\n",
        "                height_shift_range=0.2,\n",
        "                width_shift_range=0.2,\n",
        "                shear_range=0.2,\n",
        "                fill_mode='nearest'\n",
        "            )\n",
        "\n",
        "            # Generate augmented images and append them to the lists\n",
        "            augmented_images = [datagen.random_transform(img) for _ in range(2)]  # Generate 1 augmented image per original\n",
        "            images.extend(augmented_images)\n",
        "            labels.extend([tumor_type] * len(augmented_images))"
      ],
      "metadata": {
        "id": "aTZEyU8wm4BX"
      },
      "execution_count": 7,
      "outputs": []
    },
    {
      "cell_type": "code",
      "source": [
        "# Convert lists to NumPy arrays for model training\n",
        "X = np.array(images)\n",
        "y = np.array(labels)\n",
        "\n",
        "# Print the shape of X and y to check\n",
        "print(\"Shape of X:\", X.shape)\n",
        "print(\"Shape of y:\", y.shape)"
      ],
      "metadata": {
        "colab": {
          "base_uri": "https://localhost:8080/"
        },
        "id": "IzTsHgcZm4Dz",
        "outputId": "f0c9afce-fbeb-4378-fc3c-95b523a532a8"
      },
      "execution_count": 8,
      "outputs": [
        {
          "output_type": "stream",
          "name": "stdout",
          "text": [
            "Shape of X: (4982, 224, 224, 3)\n",
            "Shape of y: (4982,)\n"
          ]
        }
      ]
    },
    {
      "cell_type": "code",
      "source": [
        "from tensorflow.keras.models import Sequential\n",
        "from tensorflow.keras.layers import Conv2D, MaxPooling2D, Flatten, Dense\n",
        "from sklearn.model_selection import train_test_split"
      ],
      "metadata": {
        "id": "u4hUIL5VrMhF"
      },
      "execution_count": 9,
      "outputs": []
    },
    {
      "cell_type": "code",
      "source": [
        "# Split the data into training and validation sets\n",
        "X_train, X_val, y_train, y_val = train_test_split(X, y, test_size=0.2, random_state=42)"
      ],
      "metadata": {
        "id": "P4gcF0n-rMj0"
      },
      "execution_count": 10,
      "outputs": []
    },
    {
      "cell_type": "code",
      "source": [
        "from tensorflow.keras.models import Sequential\n",
        "from tensorflow.keras.layers import Conv2D, MaxPooling2D, Flatten, Dense\n",
        "from sklearn.model_selection import train_test_split\n",
        "from sklearn.preprocessing import LabelEncoder\n",
        "\n",
        "# Convert labels to integers\n",
        "label_encoder = LabelEncoder()\n",
        "y_train_encoded = label_encoder.fit_transform(y_train)\n",
        "y_val_encoded = label_encoder.transform(y_val)"
      ],
      "metadata": {
        "id": "hI_EduKHv6Ny"
      },
      "execution_count": 11,
      "outputs": []
    },
    {
      "cell_type": "code",
      "source": [
        "# Define a simple CNN model for feature extraction\n",
        "model = Sequential()\n",
        "model.add(Conv2D(32, (3, 3), activation='relu', input_shape=(224, 224, 3)))\n",
        "model.add(MaxPooling2D((2, 2)))\n",
        "model.add(Conv2D(64, (3, 3), activation='relu'))\n",
        "model.add(MaxPooling2D((2, 2)))\n",
        "model.add(Conv2D(128, (3, 3), activation='relu'))\n",
        "model.add(MaxPooling2D((2, 2)))\n",
        "model.add(Flatten())\n"
      ],
      "metadata": {
        "id": "GfIZGJtorMmH"
      },
      "execution_count": 12,
      "outputs": []
    },
    {
      "cell_type": "code",
      "source": [
        "# Add Dense layers for classification (adjust the number of units based on your classes)\n",
        "model.add(Dense(128, activation='relu'))\n",
        "model.add(Dense(4, activation='softmax'))  # Assuming there are 6 classes\n",
        "\n",
        "# Compile the model\n",
        "model.compile(optimizer='adam', loss='sparse_categorical_crossentropy', metrics=['accuracy'])\n",
        "\n",
        "\n",
        "# Print model summary\n",
        "model.summary()"
      ],
      "metadata": {
        "id": "iRGVTPZkrMoj",
        "colab": {
          "base_uri": "https://localhost:8080/"
        },
        "outputId": "e4f7449a-4f4a-486d-8a8e-934e82fd461a"
      },
      "execution_count": 13,
      "outputs": [
        {
          "output_type": "stream",
          "name": "stdout",
          "text": [
            "Model: \"sequential\"\n",
            "_________________________________________________________________\n",
            " Layer (type)                Output Shape              Param #   \n",
            "=================================================================\n",
            " conv2d (Conv2D)             (None, 222, 222, 32)      896       \n",
            "                                                                 \n",
            " max_pooling2d (MaxPooling2  (None, 111, 111, 32)      0         \n",
            " D)                                                              \n",
            "                                                                 \n",
            " conv2d_1 (Conv2D)           (None, 109, 109, 64)      18496     \n",
            "                                                                 \n",
            " max_pooling2d_1 (MaxPoolin  (None, 54, 54, 64)        0         \n",
            " g2D)                                                            \n",
            "                                                                 \n",
            " conv2d_2 (Conv2D)           (None, 52, 52, 128)       73856     \n",
            "                                                                 \n",
            " max_pooling2d_2 (MaxPoolin  (None, 26, 26, 128)       0         \n",
            " g2D)                                                            \n",
            "                                                                 \n",
            " flatten (Flatten)           (None, 86528)             0         \n",
            "                                                                 \n",
            " dense (Dense)               (None, 128)               11075712  \n",
            "                                                                 \n",
            " dense_1 (Dense)             (None, 4)                 516       \n",
            "                                                                 \n",
            "=================================================================\n",
            "Total params: 11169476 (42.61 MB)\n",
            "Trainable params: 11169476 (42.61 MB)\n",
            "Non-trainable params: 0 (0.00 Byte)\n",
            "_________________________________________________________________\n"
          ]
        }
      ]
    },
    {
      "cell_type": "code",
      "source": [
        "# Train the model with validation data\n",
        "history = model.fit(X_train, y_train_encoded, epochs=32, batch_size=16, validation_data=(X_val, y_val_encoded))"
      ],
      "metadata": {
        "id": "md0sXGGlvSPN",
        "colab": {
          "base_uri": "https://localhost:8080/"
        },
        "outputId": "ca498d6b-1783-4fbf-8c5e-3226950a6d47"
      },
      "execution_count": 14,
      "outputs": [
        {
          "output_type": "stream",
          "name": "stdout",
          "text": [
            "Epoch 1/32\n",
            "250/250 [==============================] - 14s 31ms/step - loss: 28.1109 - accuracy: 0.6758 - val_loss: 0.7870 - val_accuracy: 0.7011\n",
            "Epoch 2/32\n",
            "250/250 [==============================] - 7s 27ms/step - loss: 0.6033 - accuracy: 0.7752 - val_loss: 0.8451 - val_accuracy: 0.7322\n",
            "Epoch 3/32\n",
            "250/250 [==============================] - 7s 28ms/step - loss: 0.4670 - accuracy: 0.8243 - val_loss: 1.1371 - val_accuracy: 0.7292\n",
            "Epoch 4/32\n",
            "250/250 [==============================] - 7s 27ms/step - loss: 0.4183 - accuracy: 0.8429 - val_loss: 0.9431 - val_accuracy: 0.7262\n",
            "Epoch 5/32\n",
            "250/250 [==============================] - 7s 27ms/step - loss: 0.3877 - accuracy: 0.8570 - val_loss: 1.0709 - val_accuracy: 0.7362\n",
            "Epoch 6/32\n",
            "250/250 [==============================] - 7s 26ms/step - loss: 0.3838 - accuracy: 0.8572 - val_loss: 1.3261 - val_accuracy: 0.7212\n",
            "Epoch 7/32\n",
            "250/250 [==============================] - 7s 28ms/step - loss: 0.3857 - accuracy: 0.8602 - val_loss: 1.3257 - val_accuracy: 0.7543\n",
            "Epoch 8/32\n",
            "250/250 [==============================] - 7s 27ms/step - loss: 0.3728 - accuracy: 0.8625 - val_loss: 1.2435 - val_accuracy: 0.7081\n",
            "Epoch 9/32\n",
            "250/250 [==============================] - 7s 28ms/step - loss: 0.3496 - accuracy: 0.8730 - val_loss: 1.4893 - val_accuracy: 0.7412\n",
            "Epoch 10/32\n",
            "250/250 [==============================] - 7s 27ms/step - loss: 0.3456 - accuracy: 0.8725 - val_loss: 1.9685 - val_accuracy: 0.7503\n",
            "Epoch 11/32\n",
            "250/250 [==============================] - 7s 28ms/step - loss: 0.3700 - accuracy: 0.8683 - val_loss: 1.5125 - val_accuracy: 0.7202\n",
            "Epoch 12/32\n",
            "250/250 [==============================] - 7s 28ms/step - loss: 0.3863 - accuracy: 0.8657 - val_loss: 1.6786 - val_accuracy: 0.7482\n",
            "Epoch 13/32\n",
            "250/250 [==============================] - 7s 28ms/step - loss: 0.3422 - accuracy: 0.8790 - val_loss: 1.6293 - val_accuracy: 0.7492\n",
            "Epoch 14/32\n",
            "250/250 [==============================] - 7s 28ms/step - loss: 0.3044 - accuracy: 0.8921 - val_loss: 1.7127 - val_accuracy: 0.7242\n",
            "Epoch 15/32\n",
            "250/250 [==============================] - 7s 27ms/step - loss: 0.2991 - accuracy: 0.8954 - val_loss: 1.8991 - val_accuracy: 0.7613\n",
            "Epoch 16/32\n",
            "250/250 [==============================] - 7s 27ms/step - loss: 0.3944 - accuracy: 0.8745 - val_loss: 2.1167 - val_accuracy: 0.7242\n",
            "Epoch 17/32\n",
            "250/250 [==============================] - 7s 27ms/step - loss: 0.3822 - accuracy: 0.8785 - val_loss: 2.2314 - val_accuracy: 0.7262\n",
            "Epoch 18/32\n",
            "250/250 [==============================] - 7s 28ms/step - loss: 0.3551 - accuracy: 0.8823 - val_loss: 1.8738 - val_accuracy: 0.7332\n",
            "Epoch 19/32\n",
            "250/250 [==============================] - 7s 27ms/step - loss: 0.3202 - accuracy: 0.8908 - val_loss: 2.0341 - val_accuracy: 0.7482\n",
            "Epoch 20/32\n",
            "250/250 [==============================] - 7s 27ms/step - loss: 0.2586 - accuracy: 0.9069 - val_loss: 2.2362 - val_accuracy: 0.7432\n",
            "Epoch 21/32\n",
            "250/250 [==============================] - 7s 28ms/step - loss: 0.2373 - accuracy: 0.9157 - val_loss: 2.4071 - val_accuracy: 0.7503\n",
            "Epoch 22/32\n",
            "250/250 [==============================] - 7s 28ms/step - loss: 0.2299 - accuracy: 0.9212 - val_loss: 2.8226 - val_accuracy: 0.7432\n",
            "Epoch 23/32\n",
            "250/250 [==============================] - 7s 27ms/step - loss: 0.2560 - accuracy: 0.9147 - val_loss: 2.7816 - val_accuracy: 0.7693\n",
            "Epoch 24/32\n",
            "250/250 [==============================] - 7s 27ms/step - loss: 0.2345 - accuracy: 0.9197 - val_loss: 2.8765 - val_accuracy: 0.7623\n",
            "Epoch 25/32\n",
            "250/250 [==============================] - 7s 28ms/step - loss: 0.2665 - accuracy: 0.9169 - val_loss: 2.4230 - val_accuracy: 0.7753\n",
            "Epoch 26/32\n",
            "250/250 [==============================] - 8s 31ms/step - loss: 0.2727 - accuracy: 0.9157 - val_loss: 2.2399 - val_accuracy: 0.7583\n",
            "Epoch 27/32\n",
            "250/250 [==============================] - 7s 29ms/step - loss: 0.2698 - accuracy: 0.9212 - val_loss: 2.1670 - val_accuracy: 0.7503\n",
            "Epoch 28/32\n",
            "250/250 [==============================] - 7s 28ms/step - loss: 0.3160 - accuracy: 0.8954 - val_loss: 2.6278 - val_accuracy: 0.7583\n",
            "Epoch 29/32\n",
            "250/250 [==============================] - 7s 28ms/step - loss: 0.2164 - accuracy: 0.9205 - val_loss: 2.6096 - val_accuracy: 0.7613\n",
            "Epoch 30/32\n",
            "250/250 [==============================] - 7s 26ms/step - loss: 0.1602 - accuracy: 0.9455 - val_loss: 2.7555 - val_accuracy: 0.7613\n",
            "Epoch 31/32\n",
            "250/250 [==============================] - 7s 28ms/step - loss: 0.1414 - accuracy: 0.9506 - val_loss: 2.7566 - val_accuracy: 0.7653\n",
            "Epoch 32/32\n",
            "250/250 [==============================] - 7s 27ms/step - loss: 0.1217 - accuracy: 0.9588 - val_loss: 3.2778 - val_accuracy: 0.7623\n"
          ]
        }
      ]
    },
    {
      "cell_type": "code",
      "source": [
        "import matplotlib.pyplot as plt"
      ],
      "metadata": {
        "id": "caOmIIJbulEg"
      },
      "execution_count": 15,
      "outputs": []
    },
    {
      "cell_type": "code",
      "source": [
        "# Plotting accuracy\n",
        "plt.figure(figsize=(12, 6))\n",
        "plt.subplot(1, 2, 1)\n",
        "epochs = range(1, len(history.history['accuracy']) + 1)\n",
        "plt.plot(epochs, history.history['accuracy'], label='Training Accuracy')\n",
        "plt.plot(epochs, history.history['val_accuracy'], label='Validation Accuracy')\n",
        "plt.title('Training and Validation Accuracy')\n",
        "plt.xlabel('Epoch')\n",
        "plt.ylabel('Accuracy')\n",
        "plt.legend()\n",
        "\n",
        "# Plotting loss\n",
        "plt.subplot(1, 2, 2)\n",
        "plt.plot(epochs, history.history['loss'], label='Training Loss')\n",
        "plt.plot(epochs, history.history['val_loss'], label='Validation Loss')\n",
        "plt.title('Training and Validation Loss')\n",
        "plt.xlabel('Epoch')\n",
        "plt.ylabel('Loss')\n",
        "plt.legend()\n",
        "\n",
        "# Show the plots\n",
        "plt.tight_layout()\n",
        "plt.show()\n"
      ],
      "metadata": {
        "colab": {
          "base_uri": "https://localhost:8080/",
          "height": 607
        },
        "id": "N33qS5A1ulRe",
        "outputId": "a2b61d26-6651-4d39-cdbf-68f67d057d52"
      },
      "execution_count": 16,
      "outputs": [
        {
          "output_type": "display_data",
          "data": {
            "text/plain": [
              "<Figure size 1200x600 with 2 Axes>"
            ],
            "image/png": "[encoded data removed]"
          },
          "metadata": {}
        }
      ]
    },
    {
      "cell_type": "code",
      "source": [
        "from sklearn.ensemble import RandomForestClassifier\n",
        "from sklearn import metrics"
      ],
      "metadata": {
        "id": "L0hkDXN9g6co"
      },
      "execution_count": 17,
      "outputs": []
    },
    {
      "cell_type": "code",
      "source": [
        "# Extract features using the CNN model\n",
        "X_train_features = model.predict(X_train)\n",
        "X_val_features = model.predict(X_val)"
      ],
      "metadata": {
        "id": "0zxH6W0lg7JN",
        "colab": {
          "base_uri": "https://localhost:8080/"
        },
        "outputId": "d050ad6a-972e-4906-e124-9e25744285f5"
      },
      "execution_count": 18,
      "outputs": [
        {
          "output_type": "stream",
          "name": "stdout",
          "text": [
            "125/125 [==============================] - 3s 14ms/step\n",
            "32/32 [==============================] - 0s 13ms/step\n"
          ]
        }
      ]
    },
    {
      "cell_type": "code",
      "source": [
        "# Reshape data for Random Forest\n",
        "X_train_flatten = X_train_features.reshape(X_train_features.shape[0], -1)\n",
        "X_val_flatten = X_val_features.reshape(X_val_features.shape[0], -1)"
      ],
      "metadata": {
        "id": "SCTIdKARg7MG"
      },
      "execution_count": 19,
      "outputs": []
    },
    {
      "cell_type": "code",
      "source": [
        "# Initialize Random Forest classifier\n",
        "random_forest_classifier = RandomForestClassifier(n_estimators=50, random_state=42)\n",
        "\n",
        "# Train Random Forest classifier\n",
        "random_forest_classifier.fit(X_train_flatten, y_train_encoded)\n",
        "\n",
        "# Make predictions on validation set\n",
        "random_forest_predictions = random_forest_classifier.predict(X_val_flatten)\n",
        "\n",
        "# Evaluate performance\n",
        "random_forest_accuracy = metrics.accuracy_score(y_val_encoded, random_forest_predictions)\n",
        "random_forest_precision = metrics.precision_score(y_val_encoded, random_forest_predictions, average='weighted')\n",
        "random_forest_recall = metrics.recall_score(y_val_encoded, random_forest_predictions, average='weighted')\n",
        "random_forest_f1 = metrics.f1_score(y_val_encoded, random_forest_predictions, average='weighted')\n",
        "\n",
        "# Print results\n",
        "print(\"Random Forest (on Vgg19 features): Accuracy = {:.4f}, Precision = {:.4f}, Recall = {:.4f}, F1 Score = {:.4f}\".format(random_forest_accuracy, random_forest_precision, random_forest_recall, random_forest_f1))"
      ],
      "metadata": {
        "id": "J81v2Vshg7Op",
        "colab": {
          "base_uri": "https://localhost:8080/"
        },
        "outputId": "2cf7f586-931e-4515-9308-5d278d766804"
      },
      "execution_count": 20,
      "outputs": [
        {
          "output_type": "stream",
          "name": "stdout",
          "text": [
            "Random Forest (on Vgg19 features): Accuracy = 0.7603, Precision = 0.7628, Recall = 0.7603, F1 Score = 0.7610\n"
          ]
        }
      ]
    },
    {
      "cell_type": "code",
      "source": [
        "from sklearn.neighbors import KNeighborsClassifier\n"
      ],
      "metadata": {
        "id": "hzBW5941g7SA"
      },
      "execution_count": 21,
      "outputs": []
    },
    {
      "cell_type": "code",
      "source": [
        "# Initialize k-NN classifier\n",
        "knn_classifier = KNeighborsClassifier(n_neighbors=5)  # You can adjust the number of neighbors as needed\n",
        "\n",
        "# Train k-NN classifier\n",
        "knn_classifier.fit(X_train_flatten, y_train_encoded)\n",
        "\n",
        "# Make predictions on the validation set\n",
        "knn_predictions = knn_classifier.predict(X_val_flatten)\n",
        "\n",
        "# Evaluate performance\n",
        "knn_accuracy = metrics.accuracy_score(y_val_encoded, knn_predictions)\n",
        "knn_precision = metrics.precision_score(y_val_encoded, knn_predictions, average='weighted')\n",
        "knn_recall = metrics.recall_score(y_val_encoded, knn_predictions, average='weighted')\n",
        "knn_f1 = metrics.f1_score(y_val_encoded, knn_predictions, average='weighted')\n",
        "\n",
        "# Print results for k-NN\n",
        "print(\"k-Nearest Neighbors (on vgg19 features): Accuracy = {:.4f}, Precision = {:.4f}, Recall = {:.4f}, F1 Score = {:.4f}\".format(knn_accuracy, knn_precision, knn_recall, knn_f1))\n"
      ],
      "metadata": {
        "id": "6IdJTLkUhiiR",
        "colab": {
          "base_uri": "https://localhost:8080/"
        },
        "outputId": "056f002c-eea1-4d49-a038-2d8b51077369"
      },
      "execution_count": 22,
      "outputs": [
        {
          "output_type": "stream",
          "name": "stdout",
          "text": [
            "k-Nearest Neighbors (on vgg19 features): Accuracy = 0.7603, Precision = 0.7618, Recall = 0.7603, F1 Score = 0.7605\n"
          ]
        }
      ]
    },
    {
      "cell_type": "code",
      "source": [
        "from sklearn.ensemble import AdaBoostClassifier\n"
      ],
      "metadata": {
        "id": "y0aMzjwmhilG"
      },
      "execution_count": 23,
      "outputs": []
    },
    {
      "cell_type": "code",
      "source": [
        "# Initialize AdaBoost classifier with a decision tree base estimator\n",
        "adaboost_classifier = AdaBoostClassifier(n_estimators=50, random_state=42)\n",
        "\n",
        "# Train AdaBoost classifier\n",
        "adaboost_classifier.fit(X_train_flatten, y_train_encoded)\n",
        "\n",
        "# Make predictions on the validation set\n",
        "adaboost_predictions = adaboost_classifier.predict(X_val_flatten)\n",
        "\n",
        "# Evaluate performance\n",
        "adaboost_accuracy = metrics.accuracy_score(y_val_encoded, adaboost_predictions)\n",
        "adaboost_precision = metrics.precision_score(y_val_encoded, adaboost_predictions, average='weighted')\n",
        "adaboost_recall = metrics.recall_score(y_val_encoded, adaboost_predictions, average='weighted')\n",
        "adaboost_f1 = metrics.f1_score(y_val_encoded, adaboost_predictions, average='weighted')\n",
        "\n",
        "# Print results for AdaBoost\n",
        "print(\"AdaBoost (on vgg19 features): Accuracy = {:.4f}, Precision = {:.4f}, Recall = {:.4f}, F1 Score = {:.4f}\".format(adaboost_accuracy, adaboost_precision, adaboost_recall, adaboost_f1))\n"
      ],
      "metadata": {
        "id": "0NfOPKElhioD",
        "colab": {
          "base_uri": "https://localhost:8080/"
        },
        "outputId": "72a79ff8-9c05-4684-9724-a5cf0e5c6c25"
      },
      "execution_count": 24,
      "outputs": [
        {
          "output_type": "stream",
          "name": "stdout",
          "text": [
            "AdaBoost (on vgg19 features): Accuracy = 0.7573, Precision = 0.7582, Recall = 0.7573, F1 Score = 0.7572\n"
          ]
        }
      ]
    },
    {
      "cell_type": "code",
      "source": [],
      "metadata": {
        "id": "o7GrYsyohiqx"
      },
      "execution_count": 24,
      "outputs": []
    },
    {
      "cell_type": "code",
      "source": [],
      "metadata": {
        "id": "RAhPeUTThit5"
      },
      "execution_count": 24,
      "outputs": []
    }
  ]
}