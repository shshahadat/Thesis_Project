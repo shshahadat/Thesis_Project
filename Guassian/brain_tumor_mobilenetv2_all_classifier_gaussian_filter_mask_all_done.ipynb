{
  "nbformat": 4,
  "nbformat_minor": 0,
  "metadata": {
    "colab": {
      "provenance": [],
      "gpuType": "T4"
    },
    "kernelspec": {
      "name": "python3",
      "display_name": "Python 3"
    },
    "language_info": {
      "name": "python"
    },
    "accelerator": "GPU"
  },
  "cells": [
    {
      "cell_type": "code",
      "execution_count": 1,
      "metadata": {
        "id": "4AyeoeFwqZ7y"
      },
      "outputs": [],
      "source": [
        "import os\n",
        "import cv2\n",
        "import numpy as np\n",
        "from sklearn.model_selection import train_test_split\n",
        "from tensorflow.keras.preprocessing.image import ImageDataGenerator\n",
        "from tensorflow.keras.models import Sequential\n",
        "from tensorflow.keras.layers import Flatten, Dense\n",
        "from tensorflow.keras.applications import VGG19\n",
        "from tensorflow.keras.optimizers import Adam\n",
        "from sklearn.preprocessing import LabelEncoder"
      ]
    },
    {
      "cell_type": "code",
      "source": [
        "from google.colab import drive\n",
        "drive.mount('/content/drive')"
      ],
      "metadata": {
        "colab": {
          "base_uri": "https://localhost:8080/"
        },
        "id": "PZTydwowqhEM",
        "outputId": "9e5044f0-fa8f-4c05-e201-2eb5758bb74b"
      },
      "execution_count": 2,
      "outputs": [
        {
          "output_type": "stream",
          "name": "stdout",
          "text": [
            "Mounted at /content/drive\n"
          ]
        }
      ]
    },
    {
      "cell_type": "code",
      "source": [],
      "metadata": {
        "id": "pXQEV8marMHz"
      },
      "execution_count": 2,
      "outputs": []
    },
    {
      "cell_type": "code",
      "source": [
        "# Set the path to your dataset folder in Google Drive\n",
        "dataset_path = \"/content/drive/MyDrive/Training\""
      ],
      "metadata": {
        "id": "07vj51UmrMXF"
      },
      "execution_count": 3,
      "outputs": []
    },
    {
      "cell_type": "code",
      "source": [
        "\n",
        "from skimage import exposure\n",
        "from scipy.ndimage import gaussian_filter\n",
        "from keras.preprocessing.image import ImageDataGenerator"
      ],
      "metadata": {
        "id": "4nAKIV5Wm38A"
      },
      "execution_count": 4,
      "outputs": []
    },
    {
      "cell_type": "code",
      "source": [
        "# Set the target size for image resizing\n",
        "target_size = (224, 224)\n",
        "\n",
        "# Batch size for processing images\n",
        "batch_size = 32\n",
        "\n",
        "# Initialize empty lists to store images and labels\n",
        "images = []\n",
        "labels = []"
      ],
      "metadata": {
        "id": "__bGc21ym3-f"
      },
      "execution_count": 5,
      "outputs": []
    },
    {
      "cell_type": "code",
      "source": [
        "# Loop through each tumor type folder\n",
        "for tumor_type in os.listdir(dataset_path):\n",
        "    tumor_type_path = os.path.join(dataset_path, tumor_type)\n",
        "\n",
        "    # Loop through each image in the tumor type folder\n",
        "    for image_file in os.listdir(tumor_type_path):\n",
        "        image_path = os.path.join(tumor_type_path, image_file)\n",
        "\n",
        "        # Read the image using OpenCV and resize it to the target size\n",
        "        img = cv2.imread(image_path)\n",
        "        img = cv2.resize(img, target_size)\n",
        "\n",
        "        # Apply the Gaussian filter\n",
        "        img = exposure.rescale_intensity(img, in_range='image', out_range='dtype')\n",
        "        img = gaussian_filter(img, sigma=0.5)  # Adjust the sigma value as needed\n",
        "\n",
        "        # Append the original image and label to the lists\n",
        "        images.append(img)\n",
        "        labels.append(tumor_type)\n",
        "\n",
        "        # Check if the batch size is reached, then apply data augmentation\n",
        "        if len(images) % batch_size == 0:\n",
        "            # Data Augmentation\n",
        "            datagen = ImageDataGenerator(\n",
        "                horizontal_flip=True,\n",
        "                rotation_range=20,\n",
        "                zoom_range=0.2,\n",
        "                height_shift_range=0.2,\n",
        "                width_shift_range=0.2,\n",
        "                shear_range=0.2,\n",
        "                fill_mode='nearest'\n",
        "            )\n",
        "\n",
        "            # Generate augmented images and append them to the lists\n",
        "            augmented_images = [datagen.random_transform(img) for _ in range(2)]  # Generate 1 augmented image per original\n",
        "            images.extend(augmented_images)\n",
        "            labels.extend([tumor_type] * len(augmented_images))"
      ],
      "metadata": {
        "id": "aTZEyU8wm4BX"
      },
      "execution_count": 6,
      "outputs": []
    },
    {
      "cell_type": "code",
      "source": [
        "# Convert lists to NumPy arrays for model training\n",
        "X = np.array(images)\n",
        "y = np.array(labels)\n",
        "\n",
        "# Print the shape of X and y to check\n",
        "print(\"Shape of X:\", X.shape)\n",
        "print(\"Shape of y:\", y.shape)"
      ],
      "metadata": {
        "colab": {
          "base_uri": "https://localhost:8080/"
        },
        "id": "IzTsHgcZm4Dz",
        "outputId": "50e14449-5863-4178-8764-0f41715e6297"
      },
      "execution_count": 7,
      "outputs": [
        {
          "output_type": "stream",
          "name": "stdout",
          "text": [
            "Shape of X: (4982, 224, 224, 3)\n",
            "Shape of y: (4982,)\n"
          ]
        }
      ]
    },
    {
      "cell_type": "code",
      "source": [
        "from tensorflow.keras.models import Sequential\n",
        "from tensorflow.keras.layers import Conv2D, MaxPooling2D, Flatten, Dense\n",
        "from sklearn.model_selection import train_test_split"
      ],
      "metadata": {
        "id": "u4hUIL5VrMhF"
      },
      "execution_count": 8,
      "outputs": []
    },
    {
      "cell_type": "code",
      "source": [
        "# Split the data into training and validation sets\n",
        "X_train, X_val, y_train, y_val = train_test_split(X, y, test_size=0.2, random_state=42)"
      ],
      "metadata": {
        "id": "P4gcF0n-rMj0"
      },
      "execution_count": 9,
      "outputs": []
    },
    {
      "cell_type": "code",
      "source": [
        "from tensorflow.keras.models import Sequential\n",
        "from tensorflow.keras.layers import Conv2D, MaxPooling2D, Flatten, Dense\n",
        "from sklearn.model_selection import train_test_split\n",
        "from sklearn.preprocessing import LabelEncoder\n",
        "\n",
        "# Convert labels to integers\n",
        "label_encoder = LabelEncoder()\n",
        "y_train_encoded = label_encoder.fit_transform(y_train)\n",
        "y_val_encoded = label_encoder.transform(y_val)"
      ],
      "metadata": {
        "id": "hI_EduKHv6Ny"
      },
      "execution_count": 10,
      "outputs": []
    },
    {
      "cell_type": "code",
      "source": [
        "from tensorflow.keras.applications import MobileNetV2\n",
        "from tensorflow.keras.models import Sequential\n",
        "from tensorflow.keras.layers import Dense, GlobalAveragePooling2D\n",
        "\n",
        "# Load the pre-trained MobileNetV2 model (including the top layers for classification)\n",
        "base_model = MobileNetV2(weights='imagenet', include_top=False, input_shape=(224, 224, 3))\n",
        "\n",
        "# Freeze the layers of the pre-trained model\n",
        "for layer in base_model.layers:\n",
        "    layer.trainable = False\n",
        "\n",
        "# Create a new model using the MobileNetV2 base and adding your custom top layers for classification\n",
        "model = Sequential()\n",
        "model.add(base_model)\n",
        "model.add(GlobalAveragePooling2D())\n",
        "model.add(Dense(128, activation='relu'))\n",
        "model.add(Dense(4, activation='softmax'))  # Assuming there are 6 classes\n",
        "\n",
        "\n",
        "\n",
        "\n",
        "\n"
      ],
      "metadata": {
        "id": "GfIZGJtorMmH",
        "colab": {
          "base_uri": "https://localhost:8080/"
        },
        "outputId": "b75b2780-75fb-425d-e939-2745df2a9d4b"
      },
      "execution_count": 11,
      "outputs": [
        {
          "output_type": "stream",
          "name": "stdout",
          "text": [
            "Downloading data from https://storage.googleapis.com/tensorflow/keras-applications/mobilenet_v2/mobilenet_v2_weights_tf_dim_ordering_tf_kernels_1.0_224_no_top.h5\n",
            "9406464/9406464 [==============================] - 0s 0us/step\n"
          ]
        }
      ]
    },
    {
      "cell_type": "code",
      "source": [
        "# Compile the model\n",
        "model.compile(optimizer='adam', loss='sparse_categorical_crossentropy', metrics=['accuracy'])\n",
        "\n"
      ],
      "metadata": {
        "id": "iRGVTPZkrMoj"
      },
      "execution_count": 12,
      "outputs": []
    },
    {
      "cell_type": "code",
      "source": [
        "# Print model summary\n",
        "model.summary()"
      ],
      "metadata": {
        "colab": {
          "base_uri": "https://localhost:8080/"
        },
        "id": "sfmSFVCAoRFA",
        "outputId": "e9f22bd9-7984-4ce3-fed1-c78aca26f8c2"
      },
      "execution_count": 13,
      "outputs": [
        {
          "output_type": "stream",
          "name": "stdout",
          "text": [
            "Model: \"sequential\"\n",
            "_________________________________________________________________\n",
            " Layer (type)                Output Shape              Param #   \n",
            "=================================================================\n",
            " mobilenetv2_1.00_224 (Func  (None, 7, 7, 1280)        2257984   \n",
            " tional)                                                         \n",
            "                                                                 \n",
            " global_average_pooling2d (  (None, 1280)              0         \n",
            " GlobalAveragePooling2D)                                         \n",
            "                                                                 \n",
            " dense (Dense)               (None, 128)               163968    \n",
            "                                                                 \n",
            " dense_1 (Dense)             (None, 4)                 516       \n",
            "                                                                 \n",
            "=================================================================\n",
            "Total params: 2422468 (9.24 MB)\n",
            "Trainable params: 164484 (642.52 KB)\n",
            "Non-trainable params: 2257984 (8.61 MB)\n",
            "_________________________________________________________________\n"
          ]
        }
      ]
    },
    {
      "cell_type": "code",
      "source": [
        "\n",
        "# Train the model with validation data\n",
        "history = model.fit(X_train, y_train_encoded, epochs=32, batch_size=16, validation_data=(X_val, y_val_encoded))"
      ],
      "metadata": {
        "id": "md0sXGGlvSPN",
        "colab": {
          "base_uri": "https://localhost:8080/"
        },
        "outputId": "2cc5a17e-dbfc-42ce-b906-31749c7e1730"
      },
      "execution_count": 14,
      "outputs": [
        {
          "output_type": "stream",
          "name": "stdout",
          "text": [
            "Epoch 1/32\n",
            "250/250 [==============================] - 16s 39ms/step - loss: 0.5376 - accuracy: 0.7920 - val_loss: 0.3418 - val_accuracy: 0.8686\n",
            "Epoch 2/32\n",
            "250/250 [==============================] - 8s 31ms/step - loss: 0.3215 - accuracy: 0.8851 - val_loss: 0.3142 - val_accuracy: 0.8897\n",
            "Epoch 3/32\n",
            "250/250 [==============================] - 6s 25ms/step - loss: 0.2497 - accuracy: 0.9094 - val_loss: 0.2631 - val_accuracy: 0.9067\n",
            "Epoch 4/32\n",
            "250/250 [==============================] - 7s 26ms/step - loss: 0.2183 - accuracy: 0.9215 - val_loss: 0.5283 - val_accuracy: 0.8285\n",
            "Epoch 5/32\n",
            "250/250 [==============================] - 6s 25ms/step - loss: 0.2233 - accuracy: 0.9189 - val_loss: 0.2707 - val_accuracy: 0.9037\n",
            "Epoch 6/32\n",
            "250/250 [==============================] - 6s 25ms/step - loss: 0.1717 - accuracy: 0.9400 - val_loss: 0.2807 - val_accuracy: 0.8917\n",
            "Epoch 7/32\n",
            "250/250 [==============================] - 6s 25ms/step - loss: 0.1426 - accuracy: 0.9478 - val_loss: 0.2712 - val_accuracy: 0.9047\n",
            "Epoch 8/32\n",
            "250/250 [==============================] - 6s 25ms/step - loss: 0.1235 - accuracy: 0.9553 - val_loss: 0.2617 - val_accuracy: 0.9188\n",
            "Epoch 9/32\n",
            "250/250 [==============================] - 7s 26ms/step - loss: 0.1167 - accuracy: 0.9588 - val_loss: 0.2958 - val_accuracy: 0.9017\n",
            "Epoch 10/32\n",
            "250/250 [==============================] - 6s 25ms/step - loss: 0.1134 - accuracy: 0.9581 - val_loss: 0.2603 - val_accuracy: 0.9057\n",
            "Epoch 11/32\n",
            "250/250 [==============================] - 6s 26ms/step - loss: 0.0935 - accuracy: 0.9664 - val_loss: 0.2505 - val_accuracy: 0.9198\n",
            "Epoch 12/32\n",
            "250/250 [==============================] - 6s 25ms/step - loss: 0.0729 - accuracy: 0.9747 - val_loss: 0.3216 - val_accuracy: 0.9087\n",
            "Epoch 13/32\n",
            "250/250 [==============================] - 7s 26ms/step - loss: 0.0831 - accuracy: 0.9689 - val_loss: 0.3192 - val_accuracy: 0.8947\n",
            "Epoch 14/32\n",
            "250/250 [==============================] - 6s 25ms/step - loss: 0.0683 - accuracy: 0.9762 - val_loss: 0.3431 - val_accuracy: 0.8826\n",
            "Epoch 15/32\n",
            "250/250 [==============================] - 6s 26ms/step - loss: 0.0993 - accuracy: 0.9619 - val_loss: 0.2606 - val_accuracy: 0.9107\n",
            "Epoch 16/32\n",
            "250/250 [==============================] - 6s 25ms/step - loss: 0.0573 - accuracy: 0.9809 - val_loss: 0.2649 - val_accuracy: 0.9097\n",
            "Epoch 17/32\n",
            "250/250 [==============================] - 7s 26ms/step - loss: 0.0469 - accuracy: 0.9844 - val_loss: 0.2538 - val_accuracy: 0.9238\n",
            "Epoch 18/32\n",
            "250/250 [==============================] - 6s 26ms/step - loss: 0.0475 - accuracy: 0.9847 - val_loss: 0.2943 - val_accuracy: 0.9238\n",
            "Epoch 19/32\n",
            "250/250 [==============================] - 6s 26ms/step - loss: 0.0488 - accuracy: 0.9827 - val_loss: 0.2790 - val_accuracy: 0.9157\n",
            "Epoch 20/32\n",
            "250/250 [==============================] - 6s 25ms/step - loss: 0.0408 - accuracy: 0.9867 - val_loss: 0.2687 - val_accuracy: 0.9208\n",
            "Epoch 21/32\n",
            "250/250 [==============================] - 6s 26ms/step - loss: 0.0221 - accuracy: 0.9947 - val_loss: 0.3068 - val_accuracy: 0.9117\n",
            "Epoch 22/32\n",
            "250/250 [==============================] - 6s 25ms/step - loss: 0.0391 - accuracy: 0.9847 - val_loss: 0.3100 - val_accuracy: 0.9268\n",
            "Epoch 23/32\n",
            "250/250 [==============================] - 6s 26ms/step - loss: 0.0187 - accuracy: 0.9952 - val_loss: 0.3311 - val_accuracy: 0.9077\n",
            "Epoch 24/32\n",
            "250/250 [==============================] - 6s 25ms/step - loss: 0.0172 - accuracy: 0.9952 - val_loss: 0.2945 - val_accuracy: 0.9288\n",
            "Epoch 25/32\n",
            "250/250 [==============================] - 7s 26ms/step - loss: 0.0254 - accuracy: 0.9925 - val_loss: 0.4748 - val_accuracy: 0.8837\n",
            "Epoch 26/32\n",
            "250/250 [==============================] - 6s 25ms/step - loss: 0.0619 - accuracy: 0.9779 - val_loss: 0.2938 - val_accuracy: 0.9188\n",
            "Epoch 27/32\n",
            "250/250 [==============================] - 6s 26ms/step - loss: 0.0325 - accuracy: 0.9870 - val_loss: 0.3294 - val_accuracy: 0.9218\n",
            "Epoch 28/32\n",
            "250/250 [==============================] - 6s 25ms/step - loss: 0.0260 - accuracy: 0.9917 - val_loss: 0.3352 - val_accuracy: 0.9258\n",
            "Epoch 29/32\n",
            "250/250 [==============================] - 7s 26ms/step - loss: 0.0192 - accuracy: 0.9947 - val_loss: 0.3263 - val_accuracy: 0.9228\n",
            "Epoch 30/32\n",
            "250/250 [==============================] - 6s 25ms/step - loss: 0.0294 - accuracy: 0.9880 - val_loss: 0.4051 - val_accuracy: 0.8997\n",
            "Epoch 31/32\n",
            "250/250 [==============================] - 6s 26ms/step - loss: 0.0099 - accuracy: 0.9982 - val_loss: 0.2942 - val_accuracy: 0.9298\n",
            "Epoch 32/32\n",
            "250/250 [==============================] - 6s 25ms/step - loss: 0.0057 - accuracy: 0.9990 - val_loss: 0.2995 - val_accuracy: 0.9308\n"
          ]
        }
      ]
    },
    {
      "cell_type": "code",
      "source": [
        "import matplotlib.pyplot as plt"
      ],
      "metadata": {
        "id": "eaXjeULOq-7H"
      },
      "execution_count": 15,
      "outputs": []
    },
    {
      "cell_type": "code",
      "source": [
        "# Plotting accuracy\n",
        "plt.figure(figsize=(12, 6))\n",
        "plt.subplot(1, 2, 1)\n",
        "epochs = range(1, len(history.history['accuracy']) + 1)\n",
        "plt.plot(epochs, history.history['accuracy'], label='Training Accuracy')\n",
        "plt.plot(epochs, history.history['val_accuracy'], label='Validation Accuracy')\n",
        "plt.title('Training and Validation Accuracy')\n",
        "plt.xlabel('Epoch')\n",
        "plt.ylabel('Accuracy')\n",
        "plt.legend()\n",
        "\n",
        "# Plotting loss\n",
        "plt.subplot(1, 2, 2)\n",
        "plt.plot(epochs, history.history['loss'], label='Training Loss')\n",
        "plt.plot(epochs, history.history['val_loss'], label='Validation Loss')\n",
        "plt.title('Training and Validation Loss')\n",
        "plt.xlabel('Epoch')\n",
        "plt.ylabel('Loss')\n",
        "plt.legend()\n",
        "\n",
        "# Show the plots\n",
        "plt.tight_layout()\n",
        "plt.show()\n"
      ],
      "metadata": {
        "colab": {
          "base_uri": "https://localhost:8080/",
          "height": 607
        },
        "id": "-q5S-nsEq--d",
        "outputId": "3abbf98d-dfdd-49ba-8552-0819e7dea6b2"
      },
      "execution_count": 16,
      "outputs": [
        {
          "output_type": "display_data",
          "data": {
            "text/plain": [
              "<Figure size 1200x600 with 2 Axes>"
            ],
            "image/png": "[encoded data removed]"
          },
          "metadata": {}
        }
      ]
    },
    {
      "cell_type": "code",
      "source": [
        "from sklearn.ensemble import RandomForestClassifier\n",
        "from sklearn import metrics"
      ],
      "metadata": {
        "id": "L0hkDXN9g6co"
      },
      "execution_count": 17,
      "outputs": []
    },
    {
      "cell_type": "code",
      "source": [
        "# Extract features using the CNN model\n",
        "X_train_features = model.predict(X_train)\n",
        "X_val_features = model.predict(X_val)"
      ],
      "metadata": {
        "id": "0zxH6W0lg7JN",
        "colab": {
          "base_uri": "https://localhost:8080/"
        },
        "outputId": "836df9f6-bf47-4d60-a961-3fa3a9ee70ce"
      },
      "execution_count": 18,
      "outputs": [
        {
          "output_type": "stream",
          "name": "stdout",
          "text": [
            "125/125 [==============================] - 7s 39ms/step\n",
            "32/32 [==============================] - 1s 35ms/step\n"
          ]
        }
      ]
    },
    {
      "cell_type": "code",
      "source": [
        "# Reshape data for Random Forest\n",
        "X_train_flatten = X_train_features.reshape(X_train_features.shape[0], -1)\n",
        "X_val_flatten = X_val_features.reshape(X_val_features.shape[0], -1)"
      ],
      "metadata": {
        "id": "SCTIdKARg7MG"
      },
      "execution_count": 19,
      "outputs": []
    },
    {
      "cell_type": "code",
      "source": [
        "# Initialize Random Forest classifier\n",
        "random_forest_classifier = RandomForestClassifier(n_estimators=50, random_state=42)\n",
        "\n",
        "# Train Random Forest classifier\n",
        "random_forest_classifier.fit(X_train_flatten, y_train_encoded)\n",
        "\n",
        "# Make predictions on validation set\n",
        "random_forest_predictions = random_forest_classifier.predict(X_val_flatten)\n",
        "\n",
        "# Evaluate performance\n",
        "random_forest_accuracy = metrics.accuracy_score(y_val_encoded, random_forest_predictions)\n",
        "random_forest_precision = metrics.precision_score(y_val_encoded, random_forest_predictions, average='weighted')\n",
        "random_forest_recall = metrics.recall_score(y_val_encoded, random_forest_predictions, average='weighted')\n",
        "random_forest_f1 = metrics.f1_score(y_val_encoded, random_forest_predictions, average='weighted')\n",
        "\n",
        "# Print results\n",
        "print(\"Random Forest (on mobilenet features): Accuracy = {:.4f}, Precision = {:.4f}, Recall = {:.4f}, F1 Score = {:.4f}\".format(random_forest_accuracy, random_forest_precision, random_forest_recall, random_forest_f1))"
      ],
      "metadata": {
        "id": "J81v2Vshg7Op",
        "colab": {
          "base_uri": "https://localhost:8080/"
        },
        "outputId": "75dfb308-a9c0-4a99-f42d-3ad10dbffbf0"
      },
      "execution_count": 20,
      "outputs": [
        {
          "output_type": "stream",
          "name": "stdout",
          "text": [
            "Random Forest (on mobilenet features): Accuracy = 0.9338, Precision = 0.9345, Recall = 0.9338, F1 Score = 0.9338\n"
          ]
        }
      ]
    },
    {
      "cell_type": "code",
      "source": [
        "from sklearn.neighbors import KNeighborsClassifier\n"
      ],
      "metadata": {
        "id": "hzBW5941g7SA"
      },
      "execution_count": 21,
      "outputs": []
    },
    {
      "cell_type": "code",
      "source": [
        "# Initialize k-NN classifier\n",
        "knn_classifier = KNeighborsClassifier(n_neighbors=5)  # You can adjust the number of neighbors as needed\n",
        "\n",
        "# Train k-NN classifier\n",
        "knn_classifier.fit(X_train_flatten, y_train_encoded)\n",
        "\n",
        "# Make predictions on the validation set\n",
        "knn_predictions = knn_classifier.predict(X_val_flatten)\n",
        "\n",
        "# Evaluate performance\n",
        "knn_accuracy = metrics.accuracy_score(y_val_encoded, knn_predictions)\n",
        "knn_precision = metrics.precision_score(y_val_encoded, knn_predictions, average='weighted')\n",
        "knn_recall = metrics.recall_score(y_val_encoded, knn_predictions, average='weighted')\n",
        "knn_f1 = metrics.f1_score(y_val_encoded, knn_predictions, average='weighted')\n",
        "\n",
        "# Print results for k-NN\n",
        "print(\"k-Nearest Neighbors (on mobilenet features): Accuracy = {:.4f}, Precision = {:.4f}, Recall = {:.4f}, F1 Score = {:.4f}\".format(knn_accuracy, knn_precision, knn_recall, knn_f1))\n"
      ],
      "metadata": {
        "id": "6IdJTLkUhiiR",
        "colab": {
          "base_uri": "https://localhost:8080/"
        },
        "outputId": "ff0417e3-6295-43a5-a722-86d07aa7a60c"
      },
      "execution_count": 22,
      "outputs": [
        {
          "output_type": "stream",
          "name": "stdout",
          "text": [
            "k-Nearest Neighbors (on mobilenet features): Accuracy = 0.9268, Precision = 0.9265, Recall = 0.9268, F1 Score = 0.9263\n"
          ]
        }
      ]
    },
    {
      "cell_type": "code",
      "source": [
        "from sklearn.ensemble import AdaBoostClassifier\n"
      ],
      "metadata": {
        "id": "y0aMzjwmhilG"
      },
      "execution_count": 23,
      "outputs": []
    },
    {
      "cell_type": "code",
      "source": [
        "# Initialize AdaBoost classifier with a decision tree base estimator\n",
        "adaboost_classifier = AdaBoostClassifier(n_estimators=50, random_state=42)\n",
        "\n",
        "# Train AdaBoost classifier\n",
        "adaboost_classifier.fit(X_train_flatten, y_train_encoded)\n",
        "\n",
        "# Make predictions on the validation set\n",
        "adaboost_predictions = adaboost_classifier.predict(X_val_flatten)\n",
        "\n",
        "# Evaluate performance\n",
        "adaboost_accuracy = metrics.accuracy_score(y_val_encoded, adaboost_predictions)\n",
        "adaboost_precision = metrics.precision_score(y_val_encoded, adaboost_predictions, average='weighted')\n",
        "adaboost_recall = metrics.recall_score(y_val_encoded, adaboost_predictions, average='weighted')\n",
        "adaboost_f1 = metrics.f1_score(y_val_encoded, adaboost_predictions, average='weighted')\n",
        "\n",
        "# Print results for AdaBoost\n",
        "print(\"AdaBoost (on mobilenet features): Accuracy = {:.4f}, Precision = {:.4f}, Recall = {:.4f}, F1 Score = {:.4f}\".format(adaboost_accuracy, adaboost_precision, adaboost_recall, adaboost_f1))\n"
      ],
      "metadata": {
        "id": "0NfOPKElhioD",
        "colab": {
          "base_uri": "https://localhost:8080/"
        },
        "outputId": "559ad389-61eb-4b11-9287-c79b1ad15b44"
      },
      "execution_count": 24,
      "outputs": [
        {
          "output_type": "stream",
          "name": "stdout",
          "text": [
            "AdaBoost (on mobilenet features): Accuracy = 0.9288, Precision = 0.9297, Recall = 0.9288, F1 Score = 0.9288\n"
          ]
        }
      ]
    },
    {
      "cell_type": "code",
      "source": [],
      "metadata": {
        "id": "o7GrYsyohiqx"
      },
      "execution_count": 24,
      "outputs": []
    },
    {
      "cell_type": "code",
      "source": [],
      "metadata": {
        "id": "RAhPeUTThit5"
      },
      "execution_count": 24,
      "outputs": []
    }
  ]
}