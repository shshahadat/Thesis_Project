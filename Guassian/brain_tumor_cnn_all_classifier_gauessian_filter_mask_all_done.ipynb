{
  "nbformat": 4,
  "nbformat_minor": 0,
  "metadata": {
    "colab": {
      "provenance": [],
      "gpuType": "T4"
    },
    "kernelspec": {
      "name": "python3",
      "display_name": "Python 3"
    },
    "language_info": {
      "name": "python"
    },
    "accelerator": "GPU"
  },
  "cells": [
    {
      "cell_type": "code",
      "execution_count": null,
      "metadata": {
        "id": "4AyeoeFwqZ7y"
      },
      "outputs": [],
      "source": []
    },
    {
      "cell_type": "code",
      "source": [
        "from google.colab import drive\n",
        "drive.mount('/content/drive')"
      ],
      "metadata": {
        "colab": {
          "base_uri": "https://localhost:8080/"
        },
        "id": "PZTydwowqhEM",
        "outputId": "8ce4e1fc-130f-4c8a-b3ef-62ea4e1c4933"
      },
      "execution_count": 1,
      "outputs": [
        {
          "output_type": "stream",
          "name": "stdout",
          "text": [
            "Mounted at /content/drive\n"
          ]
        }
      ]
    },
    {
      "cell_type": "code",
      "source": [
        "import os\n",
        "import cv2\n",
        "import numpy as np\n",
        "from sklearn.model_selection import train_test_split\n",
        "from tensorflow.keras.preprocessing.image import ImageDataGenerator"
      ],
      "metadata": {
        "id": "pXQEV8marMHz"
      },
      "execution_count": 2,
      "outputs": []
    },
    {
      "cell_type": "code",
      "source": [
        "# Set the path to your dataset folder in Google Drive\n",
        "dataset_path = \"/content/drive/MyDrive/Training\""
      ],
      "metadata": {
        "id": "07vj51UmrMXF"
      },
      "execution_count": 3,
      "outputs": []
    },
    {
      "cell_type": "code",
      "source": [
        "# from skimage import exposure, img_as_ubyte\n",
        "# from scipy.ndimage import gaussian_filter\n"
      ],
      "metadata": {
        "id": "VM0qfhuNnIVC"
      },
      "execution_count": 4,
      "outputs": []
    },
    {
      "cell_type": "code",
      "source": [
        "\n",
        "from skimage import exposure\n",
        "from scipy.ndimage import gaussian_filter\n",
        "from keras.preprocessing.image import ImageDataGenerator"
      ],
      "metadata": {
        "id": "4nAKIV5Wm38A"
      },
      "execution_count": 5,
      "outputs": []
    },
    {
      "cell_type": "code",
      "source": [
        "# Set the target size for image resizing\n",
        "target_size = (224, 224)\n",
        "\n",
        "# Batch size for processing images\n",
        "batch_size = 32\n",
        "\n",
        "# Initialize empty lists to store images and labels\n",
        "images = []\n",
        "labels = []"
      ],
      "metadata": {
        "id": "__bGc21ym3-f"
      },
      "execution_count": 6,
      "outputs": []
    },
    {
      "cell_type": "code",
      "source": [
        "# Loop through each tumor type folder\n",
        "for tumor_type in os.listdir(dataset_path):\n",
        "    tumor_type_path = os.path.join(dataset_path, tumor_type)\n",
        "\n",
        "    # Loop through each image in the tumor type folder\n",
        "    for image_file in os.listdir(tumor_type_path):\n",
        "        image_path = os.path.join(tumor_type_path, image_file)\n",
        "\n",
        "        # Read the image using OpenCV and resize it to the target size\n",
        "        img = cv2.imread(image_path)\n",
        "        img = cv2.resize(img, target_size)\n",
        "\n",
        "        # Apply the Gaussian filter\n",
        "        img = exposure.rescale_intensity(img, in_range='image', out_range='dtype')\n",
        "        img = gaussian_filter(img, sigma=0.5)  # Adjust the sigma value as needed\n",
        "\n",
        "        # Append the original image and label to the lists\n",
        "        images.append(img)\n",
        "        labels.append(tumor_type)\n",
        "\n",
        "        # Check if the batch size is reached, then apply data augmentation\n",
        "        if len(images) % batch_size == 0:\n",
        "            # Data Augmentation\n",
        "            datagen = ImageDataGenerator(\n",
        "                horizontal_flip=True,\n",
        "                rotation_range=20,\n",
        "                zoom_range=0.2,\n",
        "                height_shift_range=0.2,\n",
        "                width_shift_range=0.2,\n",
        "                shear_range=0.2,\n",
        "                fill_mode='nearest'\n",
        "            )\n",
        "\n",
        "            # Generate augmented images and append them to the lists\n",
        "            augmented_images = [datagen.random_transform(img) for _ in range(2)]  # Generate 3 augmented image per original\n",
        "            images.extend(augmented_images)\n",
        "            labels.extend([tumor_type] * len(augmented_images))"
      ],
      "metadata": {
        "id": "aTZEyU8wm4BX"
      },
      "execution_count": 7,
      "outputs": []
    },
    {
      "cell_type": "code",
      "source": [
        "# Convert lists to NumPy arrays for model training\n",
        "X = np.array(images)\n",
        "y = np.array(labels)\n",
        "\n",
        "# Print the shape of X and y to check\n",
        "print(\"Shape of X:\", X.shape)\n",
        "print(\"Shape of y:\", y.shape)"
      ],
      "metadata": {
        "colab": {
          "base_uri": "https://localhost:8080/"
        },
        "id": "IzTsHgcZm4Dz",
        "outputId": "d0dbcd73-3cff-4771-930e-1cd6caca3643"
      },
      "execution_count": 8,
      "outputs": [
        {
          "output_type": "stream",
          "name": "stdout",
          "text": [
            "Shape of X: (4982, 224, 224, 3)\n",
            "Shape of y: (4982,)\n"
          ]
        }
      ]
    },
    {
      "cell_type": "code",
      "source": [
        "from tensorflow.keras.models import Sequential\n",
        "from tensorflow.keras.layers import Conv2D, MaxPooling2D, Flatten, Dense\n",
        "from sklearn.model_selection import train_test_split"
      ],
      "metadata": {
        "id": "u4hUIL5VrMhF"
      },
      "execution_count": 9,
      "outputs": []
    },
    {
      "cell_type": "code",
      "source": [
        "# Split the data into training and validation sets\n",
        "X_train, X_val, y_train, y_val = train_test_split(X, y, test_size=0.2, random_state=42)"
      ],
      "metadata": {
        "id": "P4gcF0n-rMj0"
      },
      "execution_count": 10,
      "outputs": []
    },
    {
      "cell_type": "code",
      "source": [
        "from tensorflow.keras.models import Sequential\n",
        "from tensorflow.keras.layers import Conv2D, MaxPooling2D, Flatten, Dense\n",
        "from sklearn.model_selection import train_test_split\n",
        "from sklearn.preprocessing import LabelEncoder\n",
        "\n",
        "# Convert labels to integers\n",
        "label_encoder = LabelEncoder()\n",
        "y_train_encoded = label_encoder.fit_transform(y_train)\n",
        "y_val_encoded = label_encoder.transform(y_val)"
      ],
      "metadata": {
        "id": "hI_EduKHv6Ny"
      },
      "execution_count": 11,
      "outputs": []
    },
    {
      "cell_type": "code",
      "source": [
        "# Define a simple CNN model for feature extraction\n",
        "model = Sequential()\n",
        "model.add(Conv2D(32, (3, 3), activation='relu', input_shape=(224, 224, 3)))\n",
        "model.add(MaxPooling2D((2, 2)))\n",
        "model.add(Conv2D(64, (3, 3), activation='relu'))\n",
        "model.add(MaxPooling2D((2, 2)))\n",
        "model.add(Conv2D(128, (3, 3), activation='relu'))\n",
        "model.add(MaxPooling2D((2, 2)))\n",
        "model.add(Flatten())"
      ],
      "metadata": {
        "id": "GfIZGJtorMmH"
      },
      "execution_count": 12,
      "outputs": []
    },
    {
      "cell_type": "code",
      "source": [
        "# Add Dense layers for classification (adjust the number of units based on your classes)\n",
        "model.add(Dense(128, activation='relu'))\n",
        "model.add(Dense(4, activation='softmax'))  # Assuming there are 4 classes\n",
        "\n",
        "# Compile the model\n",
        "model.compile(optimizer='adam', loss='sparse_categorical_crossentropy', metrics=['accuracy'])"
      ],
      "metadata": {
        "id": "iRGVTPZkrMoj"
      },
      "execution_count": 13,
      "outputs": []
    },
    {
      "cell_type": "code",
      "source": [
        "\n",
        "# Train the model with validation data\n",
        "history = model.fit(X_train, y_train_encoded, epochs=32, batch_size=16, validation_data=(X_val, y_val_encoded))"
      ],
      "metadata": {
        "id": "md0sXGGlvSPN",
        "colab": {
          "base_uri": "https://localhost:8080/"
        },
        "outputId": "58e26cbf-53f5-4870-8a2d-4735141c1d0f"
      },
      "execution_count": 14,
      "outputs": [
        {
          "output_type": "stream",
          "name": "stdout",
          "text": [
            "Epoch 1/32\n",
            "250/250 [==============================] - 13s 31ms/step - loss: 8.8070 - accuracy: 0.7245 - val_loss: 0.5462 - val_accuracy: 0.8014\n",
            "Epoch 2/32\n",
            "250/250 [==============================] - 7s 27ms/step - loss: 0.3788 - accuracy: 0.8698 - val_loss: 0.4792 - val_accuracy: 0.8225\n",
            "Epoch 3/32\n",
            "250/250 [==============================] - 7s 26ms/step - loss: 0.2524 - accuracy: 0.9137 - val_loss: 0.5024 - val_accuracy: 0.8586\n",
            "Epoch 4/32\n",
            "250/250 [==============================] - 7s 28ms/step - loss: 0.1496 - accuracy: 0.9471 - val_loss: 0.5058 - val_accuracy: 0.8746\n",
            "Epoch 5/32\n",
            "250/250 [==============================] - 7s 26ms/step - loss: 0.0975 - accuracy: 0.9684 - val_loss: 0.4696 - val_accuracy: 0.8716\n",
            "Epoch 6/32\n",
            "250/250 [==============================] - 7s 28ms/step - loss: 0.0999 - accuracy: 0.9691 - val_loss: 0.5424 - val_accuracy: 0.8816\n",
            "Epoch 7/32\n",
            "250/250 [==============================] - 7s 27ms/step - loss: 0.0447 - accuracy: 0.9847 - val_loss: 0.6491 - val_accuracy: 0.8887\n",
            "Epoch 8/32\n",
            "250/250 [==============================] - 7s 28ms/step - loss: 0.0134 - accuracy: 0.9957 - val_loss: 0.7154 - val_accuracy: 0.8897\n",
            "Epoch 9/32\n",
            "250/250 [==============================] - 7s 26ms/step - loss: 0.1407 - accuracy: 0.9616 - val_loss: 0.5745 - val_accuracy: 0.8967\n",
            "Epoch 10/32\n",
            "250/250 [==============================] - 7s 27ms/step - loss: 0.0447 - accuracy: 0.9877 - val_loss: 0.6150 - val_accuracy: 0.8897\n",
            "Epoch 11/32\n",
            "250/250 [==============================] - 7s 27ms/step - loss: 0.0243 - accuracy: 0.9935 - val_loss: 0.5992 - val_accuracy: 0.8907\n",
            "Epoch 12/32\n",
            "250/250 [==============================] - 7s 28ms/step - loss: 0.0091 - accuracy: 0.9970 - val_loss: 0.6620 - val_accuracy: 0.9007\n",
            "Epoch 13/32\n",
            "250/250 [==============================] - 7s 27ms/step - loss: 0.0086 - accuracy: 0.9970 - val_loss: 0.7126 - val_accuracy: 0.8887\n",
            "Epoch 14/32\n",
            "250/250 [==============================] - 7s 27ms/step - loss: 0.0078 - accuracy: 0.9977 - val_loss: 0.6829 - val_accuracy: 0.8997\n",
            "Epoch 15/32\n",
            "250/250 [==============================] - 7s 28ms/step - loss: 3.5342e-04 - accuracy: 1.0000 - val_loss: 0.7085 - val_accuracy: 0.8987\n",
            "Epoch 16/32\n",
            "250/250 [==============================] - 7s 27ms/step - loss: 1.5705e-04 - accuracy: 1.0000 - val_loss: 0.7422 - val_accuracy: 0.8997\n",
            "Epoch 17/32\n",
            "250/250 [==============================] - 7s 29ms/step - loss: 8.6421e-05 - accuracy: 1.0000 - val_loss: 0.7732 - val_accuracy: 0.9017\n",
            "Epoch 18/32\n",
            "250/250 [==============================] - 7s 27ms/step - loss: 6.3856e-05 - accuracy: 1.0000 - val_loss: 0.7830 - val_accuracy: 0.9017\n",
            "Epoch 19/32\n",
            "250/250 [==============================] - 7s 28ms/step - loss: 4.7105e-05 - accuracy: 1.0000 - val_loss: 0.8095 - val_accuracy: 0.9027\n",
            "Epoch 20/32\n",
            "250/250 [==============================] - 7s 28ms/step - loss: 3.5910e-05 - accuracy: 1.0000 - val_loss: 0.8227 - val_accuracy: 0.9017\n",
            "Epoch 21/32\n",
            "250/250 [==============================] - 7s 27ms/step - loss: 2.8161e-05 - accuracy: 1.0000 - val_loss: 0.8344 - val_accuracy: 0.9037\n",
            "Epoch 22/32\n",
            "250/250 [==============================] - 7s 27ms/step - loss: 2.1924e-05 - accuracy: 1.0000 - val_loss: 0.8531 - val_accuracy: 0.9027\n",
            "Epoch 23/32\n",
            "250/250 [==============================] - 7s 28ms/step - loss: 1.8007e-05 - accuracy: 1.0000 - val_loss: 0.8530 - val_accuracy: 0.9027\n",
            "Epoch 24/32\n",
            "250/250 [==============================] - 7s 27ms/step - loss: 1.7100e-05 - accuracy: 1.0000 - val_loss: 0.8797 - val_accuracy: 0.9027\n",
            "Epoch 25/32\n",
            "250/250 [==============================] - 7s 29ms/step - loss: 1.2002e-05 - accuracy: 1.0000 - val_loss: 0.8874 - val_accuracy: 0.9027\n",
            "Epoch 26/32\n",
            "250/250 [==============================] - 7s 27ms/step - loss: 9.4544e-06 - accuracy: 1.0000 - val_loss: 0.8942 - val_accuracy: 0.9037\n",
            "Epoch 27/32\n",
            "250/250 [==============================] - 7s 28ms/step - loss: 7.3418e-06 - accuracy: 1.0000 - val_loss: 0.9066 - val_accuracy: 0.9027\n",
            "Epoch 28/32\n",
            "250/250 [==============================] - 7s 28ms/step - loss: 6.5727e-06 - accuracy: 1.0000 - val_loss: 0.9135 - val_accuracy: 0.9017\n",
            "Epoch 29/32\n",
            "250/250 [==============================] - 7s 28ms/step - loss: 5.2279e-06 - accuracy: 1.0000 - val_loss: 0.9284 - val_accuracy: 0.9017\n",
            "Epoch 30/32\n",
            "250/250 [==============================] - 7s 28ms/step - loss: 4.6186e-06 - accuracy: 1.0000 - val_loss: 0.9341 - val_accuracy: 0.8997\n",
            "Epoch 31/32\n",
            "250/250 [==============================] - 7s 27ms/step - loss: 4.2249e-06 - accuracy: 1.0000 - val_loss: 0.9451 - val_accuracy: 0.9007\n",
            "Epoch 32/32\n",
            "250/250 [==============================] - 7s 28ms/step - loss: 3.0788e-06 - accuracy: 1.0000 - val_loss: 0.9513 - val_accuracy: 0.9027\n"
          ]
        }
      ]
    },
    {
      "cell_type": "code",
      "source": [
        "import matplotlib.pyplot as plt"
      ],
      "metadata": {
        "id": "VhZF1GoSfCeD"
      },
      "execution_count": 15,
      "outputs": []
    },
    {
      "cell_type": "code",
      "source": [
        "# Plotting accuracy\n",
        "plt.figure(figsize=(12, 6))\n",
        "plt.subplot(1, 2, 1)\n",
        "epochs = range(1, len(history.history['accuracy']) + 1)\n",
        "plt.plot(epochs, history.history['accuracy'], label='Training Accuracy')\n",
        "plt.plot(epochs, history.history['val_accuracy'], label='Validation Accuracy')\n",
        "plt.title('Training and Validation Accuracy')\n",
        "plt.xlabel('Epoch')\n",
        "plt.ylabel('Accuracy')\n",
        "plt.legend()\n",
        "\n",
        "# Plotting loss\n",
        "plt.subplot(1, 2, 2)\n",
        "plt.plot(epochs, history.history['loss'], label='Training Loss')\n",
        "plt.plot(epochs, history.history['val_loss'], label='Validation Loss')\n",
        "plt.title('Training and Validation Loss')\n",
        "plt.xlabel('Epoch')\n",
        "plt.ylabel('Loss')\n",
        "plt.legend()\n",
        "\n",
        "# Show the plots\n",
        "plt.tight_layout()\n",
        "plt.show()\n"
      ],
      "metadata": {
        "colab": {
          "base_uri": "https://localhost:8080/",
          "height": 607
        },
        "id": "lmzAQG0FfCx0",
        "outputId": "a0f6b838-bb97-4b6c-b61b-b78bd0a072cb"
      },
      "execution_count": 16,
      "outputs": [
        {
          "output_type": "display_data",
          "data": {
            "text/plain": [
              "<Figure size 1200x600 with 2 Axes>"
            ],
            "image/png": "[encoded data removed]"
          },
          "metadata": {}
        }
      ]
    },
    {
      "cell_type": "code",
      "source": [
        "from sklearn.ensemble import RandomForestClassifier\n",
        "from sklearn import metrics"
      ],
      "metadata": {
        "id": "L0hkDXN9g6co"
      },
      "execution_count": 17,
      "outputs": []
    },
    {
      "cell_type": "code",
      "source": [
        "# Extract features using the CNN model\n",
        "X_train_features = model.predict(X_train)\n",
        "X_val_features = model.predict(X_val)"
      ],
      "metadata": {
        "id": "0zxH6W0lg7JN",
        "colab": {
          "base_uri": "https://localhost:8080/"
        },
        "outputId": "9211f002-f77d-4483-b47e-a37e62f29062"
      },
      "execution_count": 18,
      "outputs": [
        {
          "output_type": "stream",
          "name": "stdout",
          "text": [
            "125/125 [==============================] - 2s 14ms/step\n",
            "32/32 [==============================] - 0s 11ms/step\n"
          ]
        }
      ]
    },
    {
      "cell_type": "code",
      "source": [
        "# Reshape data for Random Forest\n",
        "X_train_flatten = X_train_features.reshape(X_train_features.shape[0], -1)\n",
        "X_val_flatten = X_val_features.reshape(X_val_features.shape[0], -1)"
      ],
      "metadata": {
        "id": "SCTIdKARg7MG"
      },
      "execution_count": 19,
      "outputs": []
    },
    {
      "cell_type": "code",
      "source": [
        "# Initialize Random Forest classifier\n",
        "random_forest_classifier = RandomForestClassifier(n_estimators=50, random_state=42)\n",
        "\n",
        "# Train Random Forest classifier\n",
        "random_forest_classifier.fit(X_train_flatten, y_train_encoded)\n",
        "\n",
        "# Make predictions on validation set\n",
        "random_forest_predictions = random_forest_classifier.predict(X_val_flatten)\n",
        "\n",
        "# Evaluate performance\n",
        "random_forest_accuracy = metrics.accuracy_score(y_val_encoded, random_forest_predictions)\n",
        "random_forest_precision = metrics.precision_score(y_val_encoded, random_forest_predictions, average='weighted')\n",
        "random_forest_recall = metrics.recall_score(y_val_encoded, random_forest_predictions, average='weighted')\n",
        "random_forest_f1 = metrics.f1_score(y_val_encoded, random_forest_predictions, average='weighted')\n",
        "\n",
        "# Print results\n",
        "print(\"Random Forest (on CNN features): Accuracy = {:.4f}, Precision = {:.4f}, Recall = {:.4f}, F1 Score = {:.4f}\".format(random_forest_accuracy, random_forest_precision, random_forest_recall, random_forest_f1))"
      ],
      "metadata": {
        "id": "J81v2Vshg7Op",
        "colab": {
          "base_uri": "https://localhost:8080/"
        },
        "outputId": "860c30a9-c0a9-4b62-fcec-a949b1cd5a2e"
      },
      "execution_count": 20,
      "outputs": [
        {
          "output_type": "stream",
          "name": "stdout",
          "text": [
            "Random Forest (on CNN features): Accuracy = 0.9037, Precision = 0.9038, Recall = 0.9037, F1 Score = 0.9037\n"
          ]
        }
      ]
    },
    {
      "cell_type": "code",
      "source": [
        "from sklearn.neighbors import KNeighborsClassifier\n"
      ],
      "metadata": {
        "id": "hzBW5941g7SA"
      },
      "execution_count": 21,
      "outputs": []
    },
    {
      "cell_type": "code",
      "source": [
        "# Initialize k-NN classifier\n",
        "knn_classifier = KNeighborsClassifier(n_neighbors=5)  # You can adjust the number of neighbors as needed\n",
        "\n",
        "# Train k-NN classifier\n",
        "knn_classifier.fit(X_train_flatten, y_train_encoded)\n",
        "\n",
        "# Make predictions on the validation set\n",
        "knn_predictions = knn_classifier.predict(X_val_flatten)\n",
        "\n",
        "# Evaluate performance\n",
        "knn_accuracy = metrics.accuracy_score(y_val_encoded, knn_predictions)\n",
        "knn_precision = metrics.precision_score(y_val_encoded, knn_predictions, average='weighted')\n",
        "knn_recall = metrics.recall_score(y_val_encoded, knn_predictions, average='weighted')\n",
        "knn_f1 = metrics.f1_score(y_val_encoded, knn_predictions, average='weighted')\n",
        "\n",
        "# Print results for k-NN\n",
        "print(\"k-Nearest Neighbors (on CNN features): Accuracy = {:.4f}, Precision = {:.4f}, Recall = {:.4f}, F1 Score = {:.4f}\".format(knn_accuracy, knn_precision, knn_recall, knn_f1))\n"
      ],
      "metadata": {
        "id": "6IdJTLkUhiiR",
        "colab": {
          "base_uri": "https://localhost:8080/"
        },
        "outputId": "1941fc9b-d5b7-41b6-d69f-6d03203ca4d7"
      },
      "execution_count": 22,
      "outputs": [
        {
          "output_type": "stream",
          "name": "stdout",
          "text": [
            "k-Nearest Neighbors (on CNN features): Accuracy = 0.9027, Precision = 0.9029, Recall = 0.9027, F1 Score = 0.9027\n"
          ]
        }
      ]
    },
    {
      "cell_type": "code",
      "source": [
        "from sklearn.ensemble import AdaBoostClassifier\n"
      ],
      "metadata": {
        "id": "y0aMzjwmhilG"
      },
      "execution_count": 23,
      "outputs": []
    },
    {
      "cell_type": "code",
      "source": [
        "# Initialize AdaBoost classifier with a decision tree base estimator\n",
        "adaboost_classifier = AdaBoostClassifier(n_estimators=50, random_state=42)\n",
        "\n",
        "# Train AdaBoost classifier\n",
        "adaboost_classifier.fit(X_train_flatten, y_train_encoded)\n",
        "\n",
        "# Make predictions on the validation set\n",
        "adaboost_predictions = adaboost_classifier.predict(X_val_flatten)\n",
        "\n",
        "# Evaluate performance\n",
        "adaboost_accuracy = metrics.accuracy_score(y_val_encoded, adaboost_predictions)\n",
        "adaboost_precision = metrics.precision_score(y_val_encoded, adaboost_predictions, average='weighted')\n",
        "adaboost_recall = metrics.recall_score(y_val_encoded, adaboost_predictions, average='weighted')\n",
        "adaboost_f1 = metrics.f1_score(y_val_encoded, adaboost_predictions, average='weighted')\n",
        "\n",
        "# Print results for AdaBoost\n",
        "print(\"AdaBoost (on CNN features): Accuracy = {:.4f}, Precision = {:.4f}, Recall = {:.4f}, F1 Score = {:.4f}\".format(adaboost_accuracy, adaboost_precision, adaboost_recall, adaboost_f1))\n"
      ],
      "metadata": {
        "id": "0NfOPKElhioD",
        "colab": {
          "base_uri": "https://localhost:8080/"
        },
        "outputId": "ff9ad928-0480-4497-ba5a-4f24a7c45f93"
      },
      "execution_count": 24,
      "outputs": [
        {
          "output_type": "stream",
          "name": "stdout",
          "text": [
            "AdaBoost (on CNN features): Accuracy = 0.9027, Precision = 0.9028, Recall = 0.9027, F1 Score = 0.9027\n"
          ]
        }
      ]
    },
    {
      "cell_type": "code",
      "source": [],
      "metadata": {
        "id": "o7GrYsyohiqx"
      },
      "execution_count": 24,
      "outputs": []
    },
    {
      "cell_type": "code",
      "source": [],
      "metadata": {
        "id": "RAhPeUTThit5"
      },
      "execution_count": 24,
      "outputs": []
    }
  ]
}