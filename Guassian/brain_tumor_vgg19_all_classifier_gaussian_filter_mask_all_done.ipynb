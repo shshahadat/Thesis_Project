{
  "nbformat": 4,
  "nbformat_minor": 0,
  "metadata": {
    "colab": {
      "provenance": [],
      "gpuType": "T4"
    },
    "kernelspec": {
      "name": "python3",
      "display_name": "Python 3"
    },
    "language_info": {
      "name": "python"
    },
    "accelerator": "GPU"
  },
  "cells": [
    {
      "cell_type": "code",
      "execution_count": 1,
      "metadata": {
        "id": "4AyeoeFwqZ7y"
      },
      "outputs": [],
      "source": [
        "import os\n",
        "import cv2\n",
        "import numpy as np\n",
        "from sklearn.model_selection import train_test_split\n",
        "from tensorflow.keras.preprocessing.image import ImageDataGenerator\n",
        "from tensorflow.keras.models import Sequential\n",
        "from tensorflow.keras.layers import Flatten, Dense\n",
        "from tensorflow.keras.applications import VGG19\n",
        "from tensorflow.keras.optimizers import Adam\n",
        "from sklearn.preprocessing import LabelEncoder"
      ]
    },
    {
      "cell_type": "code",
      "source": [
        "from google.colab import drive\n",
        "drive.mount('/content/drive')"
      ],
      "metadata": {
        "colab": {
          "base_uri": "https://localhost:8080/"
        },
        "id": "PZTydwowqhEM",
        "outputId": "3470ac70-89d3-4946-e39b-b30608dfc191"
      },
      "execution_count": 2,
      "outputs": [
        {
          "output_type": "stream",
          "name": "stdout",
          "text": [
            "Mounted at /content/drive\n"
          ]
        }
      ]
    },
    {
      "cell_type": "code",
      "source": [],
      "metadata": {
        "id": "pXQEV8marMHz"
      },
      "execution_count": 2,
      "outputs": []
    },
    {
      "cell_type": "code",
      "source": [
        "# Set the path to your dataset folder in Google Drive\n",
        "dataset_path = \"/content/drive/MyDrive/Training\""
      ],
      "metadata": {
        "id": "07vj51UmrMXF"
      },
      "execution_count": 3,
      "outputs": []
    },
    {
      "cell_type": "code",
      "source": [
        "\n",
        "from skimage import exposure\n",
        "from scipy.ndimage import gaussian_filter\n",
        "from keras.preprocessing.image import ImageDataGenerator"
      ],
      "metadata": {
        "id": "4nAKIV5Wm38A"
      },
      "execution_count": 4,
      "outputs": []
    },
    {
      "cell_type": "code",
      "source": [
        "# Set the target size for image resizing\n",
        "target_size = (224, 224)\n",
        "\n",
        "# Batch size for processing images\n",
        "batch_size = 32\n",
        "\n",
        "# Initialize empty lists to store images and labels\n",
        "images = []\n",
        "labels = []"
      ],
      "metadata": {
        "id": "__bGc21ym3-f"
      },
      "execution_count": 5,
      "outputs": []
    },
    {
      "cell_type": "code",
      "source": [
        "# Loop through each tumor type folder\n",
        "for tumor_type in os.listdir(dataset_path):\n",
        "    tumor_type_path = os.path.join(dataset_path, tumor_type)\n",
        "\n",
        "    # Loop through each image in the tumor type folder\n",
        "    for image_file in os.listdir(tumor_type_path):\n",
        "        image_path = os.path.join(tumor_type_path, image_file)\n",
        "\n",
        "        # Read the image using OpenCV and resize it to the target size\n",
        "        img = cv2.imread(image_path)\n",
        "        img = cv2.resize(img, target_size)\n",
        "\n",
        "        # Apply the Gaussian filter\n",
        "        img = exposure.rescale_intensity(img, in_range='image', out_range='dtype')\n",
        "        img = gaussian_filter(img, sigma=0.5)  # Adjust the sigma value as needed\n",
        "\n",
        "        # Append the original image and label to the lists\n",
        "        images.append(img)\n",
        "        labels.append(tumor_type)\n",
        "\n",
        "        # Check if the batch size is reached, then apply data augmentation\n",
        "        if len(images) % batch_size == 0:\n",
        "            # Data Augmentation\n",
        "            datagen = ImageDataGenerator(\n",
        "                horizontal_flip=True,\n",
        "                rotation_range=20,\n",
        "                zoom_range=0.2,\n",
        "                height_shift_range=0.2,\n",
        "                width_shift_range=0.2,\n",
        "                shear_range=0.2,\n",
        "                fill_mode='nearest'\n",
        "            )\n",
        "\n",
        "            # Generate augmented images and append them to the lists\n",
        "            augmented_images = [datagen.random_transform(img) for _ in range(2)]  # Generate 1 augmented image per original\n",
        "            images.extend(augmented_images)\n",
        "            labels.extend([tumor_type] * len(augmented_images))"
      ],
      "metadata": {
        "id": "aTZEyU8wm4BX"
      },
      "execution_count": 6,
      "outputs": []
    },
    {
      "cell_type": "code",
      "source": [
        "# Convert lists to NumPy arrays for model training\n",
        "X = np.array(images)\n",
        "y = np.array(labels)\n",
        "\n",
        "# Print the shape of X and y to check\n",
        "print(\"Shape of X:\", X.shape)\n",
        "print(\"Shape of y:\", y.shape)"
      ],
      "metadata": {
        "colab": {
          "base_uri": "https://localhost:8080/"
        },
        "id": "IzTsHgcZm4Dz",
        "outputId": "d85f25f6-26aa-4e1b-b6fd-a8157a8a4a02"
      },
      "execution_count": 7,
      "outputs": [
        {
          "output_type": "stream",
          "name": "stdout",
          "text": [
            "Shape of X: (4982, 224, 224, 3)\n",
            "Shape of y: (4982,)\n"
          ]
        }
      ]
    },
    {
      "cell_type": "code",
      "source": [
        "from tensorflow.keras.models import Sequential\n",
        "from tensorflow.keras.layers import Conv2D, MaxPooling2D, Flatten, Dense\n",
        "from sklearn.model_selection import train_test_split"
      ],
      "metadata": {
        "id": "u4hUIL5VrMhF"
      },
      "execution_count": 8,
      "outputs": []
    },
    {
      "cell_type": "code",
      "source": [
        "# Split the data into training and validation sets\n",
        "X_train, X_val, y_train, y_val = train_test_split(X, y, test_size=0.2, random_state=42)"
      ],
      "metadata": {
        "id": "P4gcF0n-rMj0"
      },
      "execution_count": 9,
      "outputs": []
    },
    {
      "cell_type": "code",
      "source": [
        "from tensorflow.keras.models import Sequential\n",
        "from tensorflow.keras.layers import Conv2D, MaxPooling2D, Flatten, Dense\n",
        "from sklearn.model_selection import train_test_split\n",
        "from sklearn.preprocessing import LabelEncoder\n",
        "\n",
        "# Convert labels to integers\n",
        "label_encoder = LabelEncoder()\n",
        "y_train_encoded = label_encoder.fit_transform(y_train)\n",
        "y_val_encoded = label_encoder.transform(y_val)"
      ],
      "metadata": {
        "id": "hI_EduKHv6Ny"
      },
      "execution_count": 10,
      "outputs": []
    },
    {
      "cell_type": "code",
      "source": [
        "base_model = VGG19(weights='imagenet', include_top=False, input_shape=(224, 224, 3))\n",
        "\n",
        "for layer in base_model.layers:\n",
        "    layer.trainable = False\n",
        "\n",
        "model = Sequential()\n",
        "model.add(base_model)\n",
        "model.add(Flatten())\n",
        "model.add(Dense(128, activation='relu'))\n",
        "model.add(Dense(4, activation='softmax'))  # Assuming there are 4 classes\n"
      ],
      "metadata": {
        "id": "GfIZGJtorMmH",
        "colab": {
          "base_uri": "https://localhost:8080/"
        },
        "outputId": "82ffdf0f-5843-4ad4-9697-69d59e229f7f"
      },
      "execution_count": 11,
      "outputs": [
        {
          "output_type": "stream",
          "name": "stdout",
          "text": [
            "Downloading data from https://storage.googleapis.com/tensorflow/keras-applications/vgg19/vgg19_weights_tf_dim_ordering_tf_kernels_notop.h5\n",
            "80134624/80134624 [==============================] - 0s 0us/step\n"
          ]
        }
      ]
    },
    {
      "cell_type": "code",
      "source": [
        "model.compile(optimizer=Adam(), loss='sparse_categorical_crossentropy', metrics=['accuracy'])"
      ],
      "metadata": {
        "id": "iRGVTPZkrMoj"
      },
      "execution_count": 12,
      "outputs": []
    },
    {
      "cell_type": "code",
      "source": [
        "model.summary()"
      ],
      "metadata": {
        "colab": {
          "base_uri": "https://localhost:8080/"
        },
        "id": "sfmSFVCAoRFA",
        "outputId": "1a072759-2d2c-4d60-d611-5afc2512d2d8"
      },
      "execution_count": 13,
      "outputs": [
        {
          "output_type": "stream",
          "name": "stdout",
          "text": [
            "Model: \"sequential\"\n",
            "_________________________________________________________________\n",
            " Layer (type)                Output Shape              Param #   \n",
            "=================================================================\n",
            " vgg19 (Functional)          (None, 7, 7, 512)         20024384  \n",
            "                                                                 \n",
            " flatten (Flatten)           (None, 25088)             0         \n",
            "                                                                 \n",
            " dense (Dense)               (None, 128)               3211392   \n",
            "                                                                 \n",
            " dense_1 (Dense)             (None, 4)                 516       \n",
            "                                                                 \n",
            "=================================================================\n",
            "Total params: 23236292 (88.64 MB)\n",
            "Trainable params: 3211908 (12.25 MB)\n",
            "Non-trainable params: 20024384 (76.39 MB)\n",
            "_________________________________________________________________\n"
          ]
        }
      ]
    },
    {
      "cell_type": "code",
      "source": [
        "\n",
        "# Train the model with validation data\n",
        "history = model.fit(X_train, y_train_encoded, epochs=32, batch_size=16, validation_data=(X_val, y_val_encoded))"
      ],
      "metadata": {
        "id": "md0sXGGlvSPN",
        "colab": {
          "base_uri": "https://localhost:8080/"
        },
        "outputId": "f24d9db2-6d40-49e7-e560-b6ad95914cad"
      },
      "execution_count": 14,
      "outputs": [
        {
          "output_type": "stream",
          "name": "stdout",
          "text": [
            "Epoch 1/32\n",
            "250/250 [==============================] - 34s 104ms/step - loss: 1.9307 - accuracy: 0.8141 - val_loss: 0.3244 - val_accuracy: 0.8837\n",
            "Epoch 2/32\n",
            "250/250 [==============================] - 23s 94ms/step - loss: 0.1945 - accuracy: 0.9388 - val_loss: 0.2797 - val_accuracy: 0.9168\n",
            "Epoch 3/32\n",
            "250/250 [==============================] - 24s 98ms/step - loss: 0.1026 - accuracy: 0.9639 - val_loss: 0.2311 - val_accuracy: 0.9278\n",
            "Epoch 4/32\n",
            "250/250 [==============================] - 25s 101ms/step - loss: 0.0758 - accuracy: 0.9754 - val_loss: 0.4988 - val_accuracy: 0.8947\n",
            "Epoch 5/32\n",
            "250/250 [==============================] - 25s 100ms/step - loss: 0.0715 - accuracy: 0.9782 - val_loss: 0.3171 - val_accuracy: 0.9208\n",
            "Epoch 6/32\n",
            "250/250 [==============================] - 25s 99ms/step - loss: 0.0519 - accuracy: 0.9822 - val_loss: 0.4652 - val_accuracy: 0.9298\n",
            "Epoch 7/32\n",
            "250/250 [==============================] - 25s 101ms/step - loss: 0.0238 - accuracy: 0.9927 - val_loss: 0.3957 - val_accuracy: 0.9348\n",
            "Epoch 8/32\n",
            "250/250 [==============================] - 25s 99ms/step - loss: 0.0124 - accuracy: 0.9945 - val_loss: 0.2936 - val_accuracy: 0.9478\n",
            "Epoch 9/32\n",
            "250/250 [==============================] - 25s 99ms/step - loss: 0.0054 - accuracy: 0.9975 - val_loss: 0.3129 - val_accuracy: 0.9448\n",
            "Epoch 10/32\n",
            "250/250 [==============================] - 25s 100ms/step - loss: 0.0044 - accuracy: 0.9975 - val_loss: 0.3070 - val_accuracy: 0.9458\n",
            "Epoch 11/32\n",
            "250/250 [==============================] - 25s 99ms/step - loss: 0.0050 - accuracy: 0.9975 - val_loss: 0.3193 - val_accuracy: 0.9478\n",
            "Epoch 12/32\n",
            "250/250 [==============================] - 25s 99ms/step - loss: 0.0045 - accuracy: 0.9975 - val_loss: 0.3138 - val_accuracy: 0.9488\n",
            "Epoch 13/32\n",
            "250/250 [==============================] - 25s 100ms/step - loss: 0.0128 - accuracy: 0.9965 - val_loss: 0.3182 - val_accuracy: 0.9498\n",
            "Epoch 14/32\n",
            "250/250 [==============================] - 25s 100ms/step - loss: 0.2865 - accuracy: 0.9353 - val_loss: 0.3431 - val_accuracy: 0.9188\n",
            "Epoch 15/32\n",
            "250/250 [==============================] - 25s 100ms/step - loss: 0.1062 - accuracy: 0.9686 - val_loss: 0.5026 - val_accuracy: 0.9137\n",
            "Epoch 16/32\n",
            "250/250 [==============================] - 25s 99ms/step - loss: 0.0450 - accuracy: 0.9849 - val_loss: 0.3126 - val_accuracy: 0.9298\n",
            "Epoch 17/32\n",
            "250/250 [==============================] - 25s 101ms/step - loss: 0.0176 - accuracy: 0.9937 - val_loss: 0.3239 - val_accuracy: 0.9478\n",
            "Epoch 18/32\n",
            "250/250 [==============================] - 25s 100ms/step - loss: 0.0157 - accuracy: 0.9947 - val_loss: 0.2850 - val_accuracy: 0.9478\n",
            "Epoch 19/32\n",
            "250/250 [==============================] - 25s 100ms/step - loss: 0.0049 - accuracy: 0.9982 - val_loss: 0.3079 - val_accuracy: 0.9468\n",
            "Epoch 20/32\n",
            "250/250 [==============================] - 25s 99ms/step - loss: 0.0049 - accuracy: 0.9982 - val_loss: 0.3128 - val_accuracy: 0.9448\n",
            "Epoch 21/32\n",
            "250/250 [==============================] - 25s 100ms/step - loss: 0.0039 - accuracy: 0.9977 - val_loss: 0.3114 - val_accuracy: 0.9488\n",
            "Epoch 22/32\n",
            "250/250 [==============================] - 25s 100ms/step - loss: 0.0040 - accuracy: 0.9982 - val_loss: 0.3282 - val_accuracy: 0.9509\n",
            "Epoch 23/32\n",
            "250/250 [==============================] - 25s 100ms/step - loss: 0.0039 - accuracy: 0.9985 - val_loss: 0.3191 - val_accuracy: 0.9478\n",
            "Epoch 24/32\n",
            "250/250 [==============================] - 25s 99ms/step - loss: 0.0038 - accuracy: 0.9985 - val_loss: 0.3242 - val_accuracy: 0.9478\n",
            "Epoch 25/32\n",
            "250/250 [==============================] - 25s 99ms/step - loss: 0.0038 - accuracy: 0.9985 - val_loss: 0.3275 - val_accuracy: 0.9468\n",
            "Epoch 26/32\n",
            "250/250 [==============================] - 25s 100ms/step - loss: 0.0038 - accuracy: 0.9985 - val_loss: 0.3314 - val_accuracy: 0.9478\n",
            "Epoch 27/32\n",
            "250/250 [==============================] - 25s 99ms/step - loss: 0.0038 - accuracy: 0.9985 - val_loss: 0.3356 - val_accuracy: 0.9448\n",
            "Epoch 28/32\n",
            "250/250 [==============================] - 25s 100ms/step - loss: 0.0037 - accuracy: 0.9985 - val_loss: 0.3387 - val_accuracy: 0.9458\n",
            "Epoch 29/32\n",
            "250/250 [==============================] - 25s 99ms/step - loss: 0.0037 - accuracy: 0.9985 - val_loss: 0.3459 - val_accuracy: 0.9448\n",
            "Epoch 30/32\n",
            "250/250 [==============================] - 25s 99ms/step - loss: 0.0037 - accuracy: 0.9985 - val_loss: 0.3430 - val_accuracy: 0.9478\n",
            "Epoch 31/32\n",
            "250/250 [==============================] - 25s 99ms/step - loss: 0.0037 - accuracy: 0.9985 - val_loss: 0.3465 - val_accuracy: 0.9478\n",
            "Epoch 32/32\n",
            "250/250 [==============================] - 25s 101ms/step - loss: 0.0687 - accuracy: 0.9862 - val_loss: 0.6382 - val_accuracy: 0.9057\n"
          ]
        }
      ]
    },
    {
      "cell_type": "code",
      "source": [
        "import matplotlib.pyplot as plt"
      ],
      "metadata": {
        "id": "pV-hS5pwh7u5"
      },
      "execution_count": 15,
      "outputs": []
    },
    {
      "cell_type": "code",
      "source": [
        "# Plotting accuracy\n",
        "plt.figure(figsize=(12, 6))\n",
        "plt.subplot(1, 2, 1)\n",
        "epochs = range(1, len(history.history['accuracy']) + 1)\n",
        "plt.plot(epochs, history.history['accuracy'], label='Training Accuracy')\n",
        "plt.plot(epochs, history.history['val_accuracy'], label='Validation Accuracy')\n",
        "plt.title('Training and Validation Accuracy')\n",
        "plt.xlabel('Epoch')\n",
        "plt.ylabel('Accuracy')\n",
        "plt.legend()\n",
        "\n",
        "# Plotting loss\n",
        "plt.subplot(1, 2, 2)\n",
        "plt.plot(epochs, history.history['loss'], label='Training Loss')\n",
        "plt.plot(epochs, history.history['val_loss'], label='Validation Loss')\n",
        "plt.title('Training and Validation Loss')\n",
        "plt.xlabel('Epoch')\n",
        "plt.ylabel('Loss')\n",
        "plt.legend()\n",
        "\n",
        "# Show the plots\n",
        "plt.tight_layout()\n",
        "plt.show()\n"
      ],
      "metadata": {
        "colab": {
          "base_uri": "https://localhost:8080/",
          "height": 607
        },
        "id": "BDqDM8hDh73e",
        "outputId": "e7869c43-0c3e-4c1c-d6da-669fd0275079"
      },
      "execution_count": 16,
      "outputs": [
        {
          "output_type": "display_data",
          "data": {
            "text/plain": [
              "<Figure size 1200x600 with 2 Axes>"
            ],
            "image/png": "[encoded data removed]"
          },
          "metadata": {}
        }
      ]
    },
    {
      "cell_type": "code",
      "source": [
        "from sklearn.ensemble import RandomForestClassifier\n",
        "from sklearn import metrics"
      ],
      "metadata": {
        "id": "L0hkDXN9g6co"
      },
      "execution_count": 17,
      "outputs": []
    },
    {
      "cell_type": "code",
      "source": [
        "# Extract features using the CNN model\n",
        "X_train_features = model.predict(X_train)\n",
        "X_val_features = model.predict(X_val)"
      ],
      "metadata": {
        "id": "0zxH6W0lg7JN",
        "colab": {
          "base_uri": "https://localhost:8080/"
        },
        "outputId": "ff51b97c-d5cc-4abd-a38a-488682d642e4"
      },
      "execution_count": 18,
      "outputs": [
        {
          "output_type": "stream",
          "name": "stdout",
          "text": [
            "125/125 [==============================] - 28s 175ms/step\n",
            "32/32 [==============================] - 4s 143ms/step\n"
          ]
        }
      ]
    },
    {
      "cell_type": "code",
      "source": [
        "# Reshape data for Random Forest\n",
        "X_train_flatten = X_train_features.reshape(X_train_features.shape[0], -1)\n",
        "X_val_flatten = X_val_features.reshape(X_val_features.shape[0], -1)"
      ],
      "metadata": {
        "id": "SCTIdKARg7MG"
      },
      "execution_count": 19,
      "outputs": []
    },
    {
      "cell_type": "code",
      "source": [
        "# Initialize Random Forest classifier\n",
        "random_forest_classifier = RandomForestClassifier(n_estimators=50, random_state=42)\n",
        "\n",
        "# Train Random Forest classifier\n",
        "random_forest_classifier.fit(X_train_flatten, y_train_encoded)\n",
        "\n",
        "# Make predictions on validation set\n",
        "random_forest_predictions = random_forest_classifier.predict(X_val_flatten)\n",
        "\n",
        "# Evaluate performance\n",
        "random_forest_accuracy = metrics.accuracy_score(y_val_encoded, random_forest_predictions)\n",
        "random_forest_precision = metrics.precision_score(y_val_encoded, random_forest_predictions, average='weighted')\n",
        "random_forest_recall = metrics.recall_score(y_val_encoded, random_forest_predictions, average='weighted')\n",
        "random_forest_f1 = metrics.f1_score(y_val_encoded, random_forest_predictions, average='weighted')\n",
        "\n",
        "# Print results\n",
        "print(\"Random Forest (on vgg19 features): Accuracy = {:.4f}, Precision = {:.4f}, Recall = {:.4f}, F1 Score = {:.4f}\".format(random_forest_accuracy, random_forest_precision, random_forest_recall, random_forest_f1))"
      ],
      "metadata": {
        "id": "J81v2Vshg7Op",
        "colab": {
          "base_uri": "https://localhost:8080/"
        },
        "outputId": "3f826cd2-b760-40c1-96d5-fa0880fade33"
      },
      "execution_count": 20,
      "outputs": [
        {
          "output_type": "stream",
          "name": "stdout",
          "text": [
            "Random Forest (on vgg19 features): Accuracy = 0.8957, Precision = 0.8951, Recall = 0.8957, F1 Score = 0.8952\n"
          ]
        }
      ]
    },
    {
      "cell_type": "code",
      "source": [
        "from sklearn.neighbors import KNeighborsClassifier\n"
      ],
      "metadata": {
        "id": "hzBW5941g7SA"
      },
      "execution_count": 21,
      "outputs": []
    },
    {
      "cell_type": "code",
      "source": [
        "# Initialize k-NN classifier\n",
        "knn_classifier = KNeighborsClassifier(n_neighbors=5)  # You can adjust the number of neighbors as needed\n",
        "\n",
        "# Train k-NN classifier\n",
        "knn_classifier.fit(X_train_flatten, y_train_encoded)\n",
        "\n",
        "# Make predictions on the validation set\n",
        "knn_predictions = knn_classifier.predict(X_val_flatten)\n",
        "\n",
        "# Evaluate performance\n",
        "knn_accuracy = metrics.accuracy_score(y_val_encoded, knn_predictions)\n",
        "knn_precision = metrics.precision_score(y_val_encoded, knn_predictions, average='weighted')\n",
        "knn_recall = metrics.recall_score(y_val_encoded, knn_predictions, average='weighted')\n",
        "knn_f1 = metrics.f1_score(y_val_encoded, knn_predictions, average='weighted')\n",
        "\n",
        "# Print results for k-NN\n",
        "print(\"k-Nearest Neighbors (on vgg19 features): Accuracy = {:.4f}, Precision = {:.4f}, Recall = {:.4f}, F1 Score = {:.4f}\".format(knn_accuracy, knn_precision, knn_recall, knn_f1))\n"
      ],
      "metadata": {
        "id": "6IdJTLkUhiiR",
        "colab": {
          "base_uri": "https://localhost:8080/"
        },
        "outputId": "4a229009-14f1-4db3-a2c3-6e35c17416a8"
      },
      "execution_count": 22,
      "outputs": [
        {
          "output_type": "stream",
          "name": "stdout",
          "text": [
            "k-Nearest Neighbors (on vgg19 features): Accuracy = 0.8907, Precision = 0.8901, Recall = 0.8907, F1 Score = 0.8901\n"
          ]
        }
      ]
    },
    {
      "cell_type": "code",
      "source": [
        "from sklearn.ensemble import AdaBoostClassifier\n"
      ],
      "metadata": {
        "id": "y0aMzjwmhilG"
      },
      "execution_count": 23,
      "outputs": []
    },
    {
      "cell_type": "code",
      "source": [
        "# Initialize AdaBoost classifier with a decision tree base estimator\n",
        "adaboost_classifier = AdaBoostClassifier(n_estimators=50, random_state=42)\n",
        "\n",
        "# Train AdaBoost classifier\n",
        "adaboost_classifier.fit(X_train_flatten, y_train_encoded)\n",
        "\n",
        "# Make predictions on the validation set\n",
        "adaboost_predictions = adaboost_classifier.predict(X_val_flatten)\n",
        "\n",
        "# Evaluate performance\n",
        "adaboost_accuracy = metrics.accuracy_score(y_val_encoded, adaboost_predictions)\n",
        "adaboost_precision = metrics.precision_score(y_val_encoded, adaboost_predictions, average='weighted')\n",
        "adaboost_recall = metrics.recall_score(y_val_encoded, adaboost_predictions, average='weighted')\n",
        "adaboost_f1 = metrics.f1_score(y_val_encoded, adaboost_predictions, average='weighted')\n",
        "\n",
        "# Print results for AdaBoost\n",
        "print(\"AdaBoost (on vgg19 features): Accuracy = {:.4f}, Precision = {:.4f}, Recall = {:.4f}, F1 Score = {:.4f}\".format(adaboost_accuracy, adaboost_precision, adaboost_recall, adaboost_f1))\n"
      ],
      "metadata": {
        "id": "0NfOPKElhioD",
        "colab": {
          "base_uri": "https://localhost:8080/"
        },
        "outputId": "f1b000cd-f820-4f3b-b88c-10bc3a33b28b"
      },
      "execution_count": 24,
      "outputs": [
        {
          "output_type": "stream",
          "name": "stdout",
          "text": [
            "AdaBoost (on vgg19 features): Accuracy = 0.9067, Precision = 0.9062, Recall = 0.9067, F1 Score = 0.9062\n"
          ]
        }
      ]
    },
    {
      "cell_type": "code",
      "source": [],
      "metadata": {
        "id": "o7GrYsyohiqx"
      },
      "execution_count": 24,
      "outputs": []
    },
    {
      "cell_type": "code",
      "source": [],
      "metadata": {
        "id": "RAhPeUTThit5"
      },
      "execution_count": 24,
      "outputs": []
    }
  ]
}