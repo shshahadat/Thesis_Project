{
  "nbformat": 4,
  "nbformat_minor": 0,
  "metadata": {
    "colab": {
      "provenance": [],
      "gpuType": "T4"
    },
    "kernelspec": {
      "name": "python3",
      "display_name": "Python 3"
    },
    "language_info": {
      "name": "python"
    },
    "accelerator": "GPU"
  },
  "cells": [
    {
      "cell_type": "code",
      "execution_count": null,
      "metadata": {
        "id": "4AyeoeFwqZ7y"
      },
      "outputs": [],
      "source": []
    },
    {
      "cell_type": "code",
      "source": [
        "from google.colab import drive\n",
        "drive.mount('/content/drive')"
      ],
      "metadata": {
        "colab": {
          "base_uri": "https://localhost:8080/"
        },
        "id": "PZTydwowqhEM",
        "outputId": "0f0b2623-51cb-4f01-df52-1934f9d59879"
      },
      "execution_count": 1,
      "outputs": [
        {
          "output_type": "stream",
          "name": "stdout",
          "text": [
            "Drive already mounted at /content/drive; to attempt to forcibly remount, call drive.mount(\"/content/drive\", force_remount=True).\n"
          ]
        }
      ]
    },
    {
      "cell_type": "code",
      "source": [
        "import os\n",
        "import cv2\n",
        "import numpy as np\n",
        "from sklearn.model_selection import train_test_split\n",
        "from tensorflow.keras.preprocessing.image import ImageDataGenerator"
      ],
      "metadata": {
        "id": "pXQEV8marMHz"
      },
      "execution_count": 2,
      "outputs": []
    },
    {
      "cell_type": "code",
      "source": [
        "# Set the path to your dataset folder in Google Drive\n",
        "dataset_path = \"/content/drive/MyDrive/Training\""
      ],
      "metadata": {
        "id": "07vj51UmrMXF"
      },
      "execution_count": 3,
      "outputs": []
    },
    {
      "cell_type": "code",
      "source": [
        "# Set the target size for image resizing\n",
        "target_size = (224, 224)\n",
        "\n",
        "# Initialize empty lists to store images and labels\n",
        "images = []\n",
        "labels = []\n",
        "\n",
        "# Loop through each tumor type folder\n",
        "for tumor_type in os.listdir(dataset_path):\n",
        "    tumor_type_path = os.path.join(dataset_path, tumor_type)\n",
        "\n",
        "    # Loop through each image in the tumor type folder\n",
        "    for image_file in os.listdir(tumor_type_path):\n",
        "        image_path = os.path.join(tumor_type_path, image_file)\n",
        "\n",
        "        # Read the image using OpenCV and resize it to the target size\n",
        "        img = cv2.imread(image_path)\n",
        "        img = cv2.resize(img, target_size)\n",
        "\n",
        "        # Append the original image and label to the lists\n",
        "        images.append(img)\n",
        "        labels.append(tumor_type)\n",
        "\n",
        "        # Data Augmentation\n",
        "        datagen = ImageDataGenerator(\n",
        "            horizontal_flip=True,\n",
        "            rotation_range=20,\n",
        "            zoom_range=0.2,\n",
        "            height_shift_range=0.2,\n",
        "            width_shift_range=0.2,\n",
        "            shear_range=0.2,\n",
        "            fill_mode='nearest'\n",
        "        )\n",
        "\n",
        "        # Generate augmented images and append them to the lists\n",
        "        augmented_images = [datagen.random_transform(img) for _ in range(1)]  # Generate 2 augmented images per original\n",
        "        images.extend(augmented_images)\n",
        "        labels.extend([tumor_type] * len(augmented_images))"
      ],
      "metadata": {
        "id": "rZmXsF7irMbQ"
      },
      "execution_count": 4,
      "outputs": []
    },
    {
      "cell_type": "code",
      "source": [
        "# Convert lists to NumPy arrays for model training\n",
        "X = np.array(images)\n",
        "y = np.array(labels)\n",
        "\n",
        "# Print the shape of X and y to check\n",
        "print(\"Shape of X:\", X.shape)\n",
        "print(\"Shape of y:\", y.shape)"
      ],
      "metadata": {
        "id": "NUVmeGiJrMeM",
        "colab": {
          "base_uri": "https://localhost:8080/"
        },
        "outputId": "d3dea28a-5b05-4667-d71f-f64c1d5e088c"
      },
      "execution_count": 5,
      "outputs": [
        {
          "output_type": "stream",
          "name": "stdout",
          "text": [
            "Shape of X: (9344, 224, 224, 3)\n",
            "Shape of y: (9344,)\n"
          ]
        }
      ]
    },
    {
      "cell_type": "code",
      "source": [
        "from tensorflow.keras.models import Sequential\n",
        "from tensorflow.keras.layers import Conv2D, MaxPooling2D, Flatten, Dense\n",
        "from sklearn.model_selection import train_test_split"
      ],
      "metadata": {
        "id": "u4hUIL5VrMhF"
      },
      "execution_count": 6,
      "outputs": []
    },
    {
      "cell_type": "code",
      "source": [
        "# Split the data into training and validation sets\n",
        "X_train, X_val, y_train, y_val = train_test_split(X, y, test_size=0.2, random_state=42)"
      ],
      "metadata": {
        "id": "P4gcF0n-rMj0"
      },
      "execution_count": 7,
      "outputs": []
    },
    {
      "cell_type": "code",
      "source": [
        "from tensorflow.keras.models import Sequential\n",
        "from tensorflow.keras.layers import Conv2D, MaxPooling2D, Flatten, Dense\n",
        "from sklearn.model_selection import train_test_split\n",
        "from sklearn.preprocessing import LabelEncoder\n",
        "\n",
        "# Convert labels to integers\n",
        "label_encoder = LabelEncoder()\n",
        "y_train_encoded = label_encoder.fit_transform(y_train)\n",
        "y_val_encoded = label_encoder.transform(y_val)"
      ],
      "metadata": {
        "id": "hI_EduKHv6Ny"
      },
      "execution_count": 8,
      "outputs": []
    },
    {
      "cell_type": "code",
      "source": [
        "# Define a simple CNN model for feature extraction\n",
        "model = Sequential()\n",
        "model.add(Conv2D(32, (3, 3), activation='relu', input_shape=(224, 224, 3)))\n",
        "model.add(MaxPooling2D((2, 2)))\n",
        "model.add(Conv2D(64, (3, 3), activation='relu'))\n",
        "model.add(MaxPooling2D((2, 2)))\n",
        "model.add(Conv2D(128, (3, 3), activation='relu'))\n",
        "model.add(MaxPooling2D((2, 2)))\n",
        "model.add(Flatten())"
      ],
      "metadata": {
        "id": "GfIZGJtorMmH"
      },
      "execution_count": 9,
      "outputs": []
    },
    {
      "cell_type": "code",
      "source": [
        "# Add Dense layers for classification (adjust the number of units based on your classes)\n",
        "model.add(Dense(128, activation='relu'))\n",
        "model.add(Dense(6, activation='softmax'))  # Assuming there are 6 classes\n",
        "\n",
        "# Compile the model\n",
        "model.compile(optimizer='adam', loss='sparse_categorical_crossentropy', metrics=['accuracy'])"
      ],
      "metadata": {
        "id": "iRGVTPZkrMoj"
      },
      "execution_count": 10,
      "outputs": []
    },
    {
      "cell_type": "code",
      "source": [
        "\n",
        "# # ... (rest of the code)\n",
        "\n",
        "# # Compile the model\n",
        "# model.compile(optimizer='adam', loss='categorical_crossentropy', metrics=['accuracy'])\n",
        "\n",
        "# Train the model with validation data\n",
        "history = model.fit(X_train, y_train_encoded, epochs=32, batch_size=16, validation_data=(X_val, y_val_encoded))"
      ],
      "metadata": {
        "id": "md0sXGGlvSPN",
        "colab": {
          "base_uri": "https://localhost:8080/"
        },
        "outputId": "275de582-9f1f-4511-fa3d-e972a5ab0f71"
      },
      "execution_count": 11,
      "outputs": [
        {
          "output_type": "stream",
          "name": "stdout",
          "text": [
            "Epoch 1/32\n",
            "468/468 [==============================] - 18s 30ms/step - loss: 3.0591 - accuracy: 0.6080 - val_loss: 0.8317 - val_accuracy: 0.6699\n",
            "Epoch 2/32\n",
            "468/468 [==============================] - 12s 27ms/step - loss: 0.6519 - accuracy: 0.7441 - val_loss: 0.7715 - val_accuracy: 0.7261\n",
            "Epoch 3/32\n",
            "468/468 [==============================] - 12s 26ms/step - loss: 0.4599 - accuracy: 0.8239 - val_loss: 0.6977 - val_accuracy: 0.7255\n",
            "Epoch 4/32\n",
            "468/468 [==============================] - 12s 26ms/step - loss: 0.3009 - accuracy: 0.8928 - val_loss: 0.8631 - val_accuracy: 0.7218\n",
            "Epoch 5/32\n",
            "468/468 [==============================] - 12s 26ms/step - loss: 0.2187 - accuracy: 0.9239 - val_loss: 0.9881 - val_accuracy: 0.7453\n",
            "Epoch 6/32\n",
            "468/468 [==============================] - 12s 26ms/step - loss: 0.1254 - accuracy: 0.9568 - val_loss: 1.2917 - val_accuracy: 0.7528\n",
            "Epoch 7/32\n",
            "468/468 [==============================] - 12s 26ms/step - loss: 0.0733 - accuracy: 0.9762 - val_loss: 1.4488 - val_accuracy: 0.7410\n",
            "Epoch 8/32\n",
            "468/468 [==============================] - 12s 27ms/step - loss: 0.1190 - accuracy: 0.9649 - val_loss: 1.2021 - val_accuracy: 0.7352\n",
            "Epoch 9/32\n",
            "468/468 [==============================] - 13s 27ms/step - loss: 0.0784 - accuracy: 0.9785 - val_loss: 1.3645 - val_accuracy: 0.7566\n",
            "Epoch 10/32\n",
            "468/468 [==============================] - 13s 27ms/step - loss: 0.0780 - accuracy: 0.9798 - val_loss: 1.5381 - val_accuracy: 0.7512\n",
            "Epoch 11/32\n",
            "468/468 [==============================] - 13s 27ms/step - loss: 0.0626 - accuracy: 0.9831 - val_loss: 1.7918 - val_accuracy: 0.7330\n",
            "Epoch 12/32\n",
            "468/468 [==============================] - 13s 27ms/step - loss: 0.0454 - accuracy: 0.9862 - val_loss: 1.4078 - val_accuracy: 0.7555\n",
            "Epoch 13/32\n",
            "468/468 [==============================] - 12s 26ms/step - loss: 0.0484 - accuracy: 0.9858 - val_loss: 2.3945 - val_accuracy: 0.7335\n",
            "Epoch 14/32\n",
            "468/468 [==============================] - 12s 27ms/step - loss: 0.0443 - accuracy: 0.9847 - val_loss: 1.7846 - val_accuracy: 0.7170\n",
            "Epoch 15/32\n",
            "468/468 [==============================] - 12s 27ms/step - loss: 0.0807 - accuracy: 0.9773 - val_loss: 1.8658 - val_accuracy: 0.7426\n",
            "Epoch 16/32\n",
            "468/468 [==============================] - 13s 27ms/step - loss: 0.0346 - accuracy: 0.9900 - val_loss: 2.1151 - val_accuracy: 0.7384\n",
            "Epoch 17/32\n",
            "468/468 [==============================] - 12s 26ms/step - loss: 0.0382 - accuracy: 0.9905 - val_loss: 1.9646 - val_accuracy: 0.7394\n",
            "Epoch 18/32\n",
            "468/468 [==============================] - 13s 27ms/step - loss: 0.0611 - accuracy: 0.9841 - val_loss: 1.8569 - val_accuracy: 0.7523\n",
            "Epoch 19/32\n",
            "468/468 [==============================] - 12s 26ms/step - loss: 0.0358 - accuracy: 0.9913 - val_loss: 2.1359 - val_accuracy: 0.7368\n",
            "Epoch 20/32\n",
            "468/468 [==============================] - 13s 27ms/step - loss: 0.0143 - accuracy: 0.9953 - val_loss: 2.1710 - val_accuracy: 0.7459\n",
            "Epoch 21/32\n",
            "468/468 [==============================] - 12s 26ms/step - loss: 0.0127 - accuracy: 0.9969 - val_loss: 2.9564 - val_accuracy: 0.7298\n",
            "Epoch 22/32\n",
            "468/468 [==============================] - 12s 26ms/step - loss: 0.1190 - accuracy: 0.9765 - val_loss: 2.0261 - val_accuracy: 0.7480\n",
            "Epoch 23/32\n",
            "468/468 [==============================] - 12s 26ms/step - loss: 0.0326 - accuracy: 0.9932 - val_loss: 2.2348 - val_accuracy: 0.7373\n",
            "Epoch 24/32\n",
            "468/468 [==============================] - 12s 26ms/step - loss: 0.0220 - accuracy: 0.9936 - val_loss: 2.3905 - val_accuracy: 0.7480\n",
            "Epoch 25/32\n",
            "468/468 [==============================] - 12s 26ms/step - loss: 0.0041 - accuracy: 0.9991 - val_loss: 2.4295 - val_accuracy: 0.7480\n",
            "Epoch 26/32\n",
            "468/468 [==============================] - 13s 28ms/step - loss: 1.9275e-04 - accuracy: 1.0000 - val_loss: 2.5417 - val_accuracy: 0.7507\n",
            "Epoch 27/32\n",
            "468/468 [==============================] - 12s 26ms/step - loss: 4.7132e-05 - accuracy: 1.0000 - val_loss: 2.5640 - val_accuracy: 0.7528\n",
            "Epoch 28/32\n",
            "468/468 [==============================] - 12s 26ms/step - loss: 2.7443e-05 - accuracy: 1.0000 - val_loss: 2.6089 - val_accuracy: 0.7544\n",
            "Epoch 29/32\n",
            "468/468 [==============================] - 12s 26ms/step - loss: 1.8531e-05 - accuracy: 1.0000 - val_loss: 2.6587 - val_accuracy: 0.7555\n",
            "Epoch 30/32\n",
            "468/468 [==============================] - 13s 27ms/step - loss: 1.2472e-05 - accuracy: 1.0000 - val_loss: 2.7150 - val_accuracy: 0.7566\n",
            "Epoch 31/32\n",
            "468/468 [==============================] - 13s 27ms/step - loss: 8.3049e-06 - accuracy: 1.0000 - val_loss: 2.7894 - val_accuracy: 0.7544\n",
            "Epoch 32/32\n",
            "468/468 [==============================] - 13s 27ms/step - loss: 5.5317e-06 - accuracy: 1.0000 - val_loss: 2.8737 - val_accuracy: 0.7539\n"
          ]
        }
      ]
    },
    {
      "cell_type": "code",
      "source": [
        "import matplotlib.pyplot as plt\n",
        "\n",
        "\n"
      ],
      "metadata": {
        "id": "K_Mt6Bt9J2D9"
      },
      "execution_count": 12,
      "outputs": []
    },
    {
      "cell_type": "code",
      "source": [
        "# Plotting accuracy\n",
        "plt.figure(figsize=(12, 6))\n",
        "plt.subplot(1, 2, 1)\n",
        "epochs = range(1, len(history.history['accuracy']) + 1)\n",
        "plt.plot(epochs, history.history['accuracy'], label='Training Accuracy')\n",
        "plt.plot(epochs, history.history['val_accuracy'], label='Validation Accuracy')\n",
        "plt.title('Training and Validation Accuracy')\n",
        "plt.xlabel('Epoch')\n",
        "plt.ylabel('Accuracy')\n",
        "plt.legend()\n",
        "\n",
        "# Plotting loss\n",
        "plt.subplot(1, 2, 2)\n",
        "plt.plot(epochs, history.history['loss'], label='Training Loss')\n",
        "plt.plot(epochs, history.history['val_loss'], label='Validation Loss')\n",
        "plt.title('Training and Validation Loss')\n",
        "plt.xlabel('Epoch')\n",
        "plt.ylabel('Loss')\n",
        "plt.legend()\n",
        "\n",
        "# Show the plots\n",
        "plt.tight_layout()\n",
        "plt.show()\n"
      ],
      "metadata": {
        "colab": {
          "base_uri": "https://localhost:8080/",
          "height": 607
        },
        "id": "56uxHd8yJ2Gg",
        "outputId": "bdc9158d-a743-4f17-dce8-f92b1b94deb5"
      },
      "execution_count": 13,
      "outputs": [
        {
          "output_type": "display_data",
          "data": {
            "text/plain": [
              "<Figure size 1200x600 with 2 Axes>"
            ],
            "image/png": "[encoded data removed]"
          },
          "metadata": {}
        }
      ]
    },
    {
      "cell_type": "code",
      "source": [],
      "metadata": {
        "id": "bnQydz1AJ2JW"
      },
      "execution_count": 13,
      "outputs": []
    },
    {
      "cell_type": "code",
      "source": [],
      "metadata": {
        "id": "H41RTxMoJ2M6"
      },
      "execution_count": 13,
      "outputs": []
    },
    {
      "cell_type": "code",
      "source": [
        "from sklearn.ensemble import RandomForestClassifier\n",
        "from sklearn import metrics"
      ],
      "metadata": {
        "id": "L0hkDXN9g6co"
      },
      "execution_count": 14,
      "outputs": []
    },
    {
      "cell_type": "code",
      "source": [
        "# Extract features using the CNN model\n",
        "X_train_features = model.predict(X_train)\n",
        "X_val_features = model.predict(X_val)"
      ],
      "metadata": {
        "id": "0zxH6W0lg7JN",
        "colab": {
          "base_uri": "https://localhost:8080/"
        },
        "outputId": "1b117320-cc03-4f87-8835-0e37bda93bdf"
      },
      "execution_count": 15,
      "outputs": [
        {
          "output_type": "stream",
          "name": "stdout",
          "text": [
            "234/234 [==============================] - 4s 13ms/step\n",
            "59/59 [==============================] - 1s 12ms/step\n"
          ]
        }
      ]
    },
    {
      "cell_type": "code",
      "source": [
        "# Reshape data for Random Forest\n",
        "X_train_flatten = X_train_features.reshape(X_train_features.shape[0], -1)\n",
        "X_val_flatten = X_val_features.reshape(X_val_features.shape[0], -1)"
      ],
      "metadata": {
        "id": "SCTIdKARg7MG"
      },
      "execution_count": 16,
      "outputs": []
    },
    {
      "cell_type": "code",
      "source": [
        "# Initialize Random Forest classifier\n",
        "random_forest_classifier = RandomForestClassifier(n_estimators=50, random_state=42)\n",
        "\n",
        "# Train Random Forest classifier\n",
        "random_forest_classifier.fit(X_train_flatten, y_train_encoded)\n",
        "\n",
        "# Make predictions on validation set\n",
        "random_forest_predictions = random_forest_classifier.predict(X_val_flatten)\n",
        "\n",
        "# Evaluate performance\n",
        "random_forest_accuracy = metrics.accuracy_score(y_val_encoded, random_forest_predictions)\n",
        "random_forest_precision = metrics.precision_score(y_val_encoded, random_forest_predictions, average='weighted')\n",
        "random_forest_recall = metrics.recall_score(y_val_encoded, random_forest_predictions, average='weighted')\n",
        "random_forest_f1 = metrics.f1_score(y_val_encoded, random_forest_predictions, average='weighted')\n",
        "\n",
        "# Print results\n",
        "print(\"Random Forest (on CNN features): Accuracy = {:.4f}, Precision = {:.4f}, Recall = {:.4f}, F1 Score = {:.4f}\".format(random_forest_accuracy, random_forest_precision, random_forest_recall, random_forest_f1))"
      ],
      "metadata": {
        "id": "J81v2Vshg7Op",
        "colab": {
          "base_uri": "https://localhost:8080/"
        },
        "outputId": "2fbe8dcb-e625-48df-873b-a9420991e716"
      },
      "execution_count": 17,
      "outputs": [
        {
          "output_type": "stream",
          "name": "stdout",
          "text": [
            "Random Forest (on CNN features): Accuracy = 0.7539, Precision = 0.7551, Recall = 0.7539, F1 Score = 0.7544\n"
          ]
        }
      ]
    },
    {
      "cell_type": "code",
      "source": [
        "from sklearn.neighbors import KNeighborsClassifier\n"
      ],
      "metadata": {
        "id": "hzBW5941g7SA"
      },
      "execution_count": 18,
      "outputs": []
    },
    {
      "cell_type": "code",
      "source": [
        "# Initialize k-NN classifier\n",
        "knn_classifier = KNeighborsClassifier(n_neighbors=5)  # You can adjust the number of neighbors as needed\n",
        "\n",
        "# Train k-NN classifier\n",
        "knn_classifier.fit(X_train_flatten, y_train_encoded)\n",
        "\n",
        "# Make predictions on the validation set\n",
        "knn_predictions = knn_classifier.predict(X_val_flatten)\n",
        "\n",
        "# Evaluate performance\n",
        "knn_accuracy = metrics.accuracy_score(y_val_encoded, knn_predictions)\n",
        "knn_precision = metrics.precision_score(y_val_encoded, knn_predictions, average='weighted')\n",
        "knn_recall = metrics.recall_score(y_val_encoded, knn_predictions, average='weighted')\n",
        "knn_f1 = metrics.f1_score(y_val_encoded, knn_predictions, average='weighted')\n",
        "\n",
        "# Print results for k-NN\n",
        "print(\"k-Nearest Neighbors (on CNN features): Accuracy = {:.4f}, Precision = {:.4f}, Recall = {:.4f}, F1 Score = {:.4f}\".format(knn_accuracy, knn_precision, knn_recall, knn_f1))\n"
      ],
      "metadata": {
        "id": "6IdJTLkUhiiR",
        "colab": {
          "base_uri": "https://localhost:8080/"
        },
        "outputId": "17945e52-c450-4e63-bb2e-47d462b02012"
      },
      "execution_count": 19,
      "outputs": [
        {
          "output_type": "stream",
          "name": "stdout",
          "text": [
            "k-Nearest Neighbors (on CNN features): Accuracy = 0.7539, Precision = 0.7553, Recall = 0.7539, F1 Score = 0.7545\n"
          ]
        }
      ]
    },
    {
      "cell_type": "code",
      "source": [
        "from sklearn.ensemble import AdaBoostClassifier\n"
      ],
      "metadata": {
        "id": "y0aMzjwmhilG"
      },
      "execution_count": 20,
      "outputs": []
    },
    {
      "cell_type": "code",
      "source": [
        "# Initialize AdaBoost classifier with a decision tree base estimator\n",
        "adaboost_classifier = AdaBoostClassifier(n_estimators=50, random_state=42)\n",
        "\n",
        "# Train AdaBoost classifier\n",
        "adaboost_classifier.fit(X_train_flatten, y_train_encoded)\n",
        "\n",
        "# Make predictions on the validation set\n",
        "adaboost_predictions = adaboost_classifier.predict(X_val_flatten)\n",
        "\n",
        "# Evaluate performance\n",
        "adaboost_accuracy = metrics.accuracy_score(y_val_encoded, adaboost_predictions)\n",
        "adaboost_precision = metrics.precision_score(y_val_encoded, adaboost_predictions, average='weighted')\n",
        "adaboost_recall = metrics.recall_score(y_val_encoded, adaboost_predictions, average='weighted')\n",
        "adaboost_f1 = metrics.f1_score(y_val_encoded, adaboost_predictions, average='weighted')\n",
        "\n",
        "# Print results for AdaBoost\n",
        "print(\"AdaBoost (on CNN features): Accuracy = {:.4f}, Precision = {:.4f}, Recall = {:.4f}, F1 Score = {:.4f}\".format(adaboost_accuracy, adaboost_precision, adaboost_recall, adaboost_f1))\n"
      ],
      "metadata": {
        "id": "0NfOPKElhioD",
        "colab": {
          "base_uri": "https://localhost:8080/"
        },
        "outputId": "dc23c2d9-6b61-4630-c534-c14ff9342303"
      },
      "execution_count": 21,
      "outputs": [
        {
          "output_type": "stream",
          "name": "stdout",
          "text": [
            "AdaBoost (on CNN features): Accuracy = 0.7533, Precision = 0.7548, Recall = 0.7533, F1 Score = 0.7539\n"
          ]
        }
      ]
    },
    {
      "cell_type": "code",
      "source": [],
      "metadata": {
        "id": "o7GrYsyohiqx"
      },
      "execution_count": 21,
      "outputs": []
    },
    {
      "cell_type": "code",
      "source": [],
      "metadata": {
        "id": "RAhPeUTThit5"
      },
      "execution_count": 21,
      "outputs": []
    }
  ]
}